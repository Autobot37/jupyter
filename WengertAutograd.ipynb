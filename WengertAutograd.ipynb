{
  "nbformat": 4,
  "nbformat_minor": 0,
  "metadata": {
    "colab": {
      "provenance": [],
      "authorship_tag": "ABX9TyNLUWUKEv0cKcF1YGYgVHgd",
      "include_colab_link": true
    },
    "kernelspec": {
      "name": "python3",
      "display_name": "Python 3"
    },
    "language_info": {
      "name": "python"
    }
  },
  "cells": [
    {
      "cell_type": "markdown",
      "metadata": {
        "id": "view-in-github",
        "colab_type": "text"
      },
      "source": [
        "<a href=\"https://colab.research.google.com/github/Autobot37/jupyter/blob/main/WengertAutograd.ipynb\" target=\"_parent\"><img src=\"https://colab.research.google.com/assets/colab-badge.svg\" alt=\"Open In Colab\"/></a>"
      ]
    },
    {
      "cell_type": "code",
      "execution_count": null,
      "metadata": {
        "id": "0T7LbuwACzbG"
      },
      "outputs": [],
      "source": [
        "import torch"
      ]
    },
    {
      "cell_type": "code",
      "source": [
        "x = torch.tensor([2.0],requires_grad=True)\n"
      ],
      "metadata": {
        "id": "dWMOyj3XC-Wn"
      },
      "execution_count": null,
      "outputs": []
    },
    {
      "cell_type": "code",
      "source": [
        "y = x**2\n"
      ],
      "metadata": {
        "id": "3JAB1lTlDEsT"
      },
      "execution_count": null,
      "outputs": []
    },
    {
      "cell_type": "code",
      "source": [
        "y.grad,x.grad"
      ],
      "metadata": {
        "colab": {
          "base_uri": "https://localhost:8080/"
        },
        "id": "aXIwaMbWDGM4",
        "outputId": "a95085f9-8151-4d17-a185-639ec7aa5f21"
      },
      "execution_count": null,
      "outputs": [
        {
          "output_type": "stream",
          "name": "stderr",
          "text": [
            "<ipython-input-8-bde24807d4bc>:1: UserWarning: The .grad attribute of a Tensor that is not a leaf Tensor is being accessed. Its .grad attribute won't be populated during autograd.backward(). If you indeed want the .grad field to be populated for a non-leaf Tensor, use .retain_grad() on the non-leaf Tensor. If you access the non-leaf Tensor by mistake, make sure you access the leaf Tensor instead. See github.com/pytorch/pytorch/pull/30531 for more informations. (Triggered internally at aten/src/ATen/core/TensorBody.h:486.)\n",
            "  y.grad,x.grad\n"
          ]
        },
        {
          "output_type": "execute_result",
          "data": {
            "text/plain": [
              "(None, None)"
            ]
          },
          "metadata": {},
          "execution_count": 8
        }
      ]
    },
    {
      "cell_type": "code",
      "source": [
        "torch.autograd.grad(y,x)"
      ],
      "metadata": {
        "colab": {
          "base_uri": "https://localhost:8080/"
        },
        "id": "cPN4hCzNDIN9",
        "outputId": "93988a46-c3e3-4044-b6bb-15447fb4d889"
      },
      "execution_count": null,
      "outputs": [
        {
          "output_type": "execute_result",
          "data": {
            "text/plain": [
              "(tensor([4.]),)"
            ]
          },
          "metadata": {},
          "execution_count": 9
        }
      ]
    },
    {
      "cell_type": "code",
      "source": [
        "y.backward()"
      ],
      "metadata": {
        "id": "8x7yIxLPDP3I"
      },
      "execution_count": null,
      "outputs": []
    },
    {
      "cell_type": "code",
      "source": [
        "x = torch.tensor([2.0], requires_grad=True)\n",
        "y = torch.tensor([3.0], requires_grad=True)\n",
        "z = x * y\n",
        "w = x+z"
      ],
      "metadata": {
        "id": "uQvkJyPdDeup"
      },
      "execution_count": null,
      "outputs": []
    },
    {
      "cell_type": "code",
      "source": [
        "grads = torch.autograd.grad(outputs=(z,w), inputs=(x, y))\n",
        "\n",
        "# Print the gradients\n",
        "print(grads)"
      ],
      "metadata": {
        "colab": {
          "base_uri": "https://localhost:8080/"
        },
        "id": "VvATEb5lD6Z1",
        "outputId": "21a0b704-e691-4ff7-ceaa-013d08db876e"
      },
      "execution_count": null,
      "outputs": [
        {
          "output_type": "stream",
          "name": "stdout",
          "text": [
            "(tensor([7.]), tensor([4.]))\n"
          ]
        }
      ]
    },
    {
      "cell_type": "code",
      "source": [
        "G = {\n",
        "    \"add\": lambda a, b: int(a) + int(b),\n",
        "    \"square\": lambda a: int(a) ** 2\n",
        "}\n"
      ],
      "metadata": {
        "id": "7FBSinVRD9VZ"
      },
      "execution_count": 35,
      "outputs": []
    },
    {
      "cell_type": "code",
      "source": [
        "x1 = 3\n",
        "x2 = 5"
      ],
      "metadata": {
        "id": "n781znfIgXuO"
      },
      "execution_count": 36,
      "outputs": []
    },
    {
      "cell_type": "code",
      "source": [
        "F = [\n",
        "    (\"z1\",\"add\",(\"x1\",\"x1\")),\n",
        "    (\"z2\",\"add\",(\"z1\",\"x2\")),\n",
        "    (\"f\",\"square\",(\"z2\",))\n",
        "]\n",
        "val = {\"x1\":3, \"x2\":5}"
      ],
      "metadata": {
        "id": "DHmyc9TqeLBe"
      },
      "execution_count": 134,
      "outputs": []
    },
    {
      "cell_type": "code",
      "source": [
        "#f = (2 x1 + x2)^2"
      ],
      "metadata": {
        "id": "NvyB8gahesDe"
      },
      "execution_count": 135,
      "outputs": []
    },
    {
      "cell_type": "code",
      "source": [
        "def eval(f):\n",
        "  for z,g,args in f:\n",
        "    op = G[g]\n",
        "    if isinstance(args,tuple):\n",
        "      val[z] = op(*[val[arg] for arg in args])\n",
        "    \n",
        "    else:\n",
        "      val[z] = op(val[args])\n",
        "  return val"
      ],
      "metadata": {
        "id": "W37tGHbVe87g"
      },
      "execution_count": 136,
      "outputs": []
    },
    {
      "cell_type": "code",
      "source": [
        "eval(F)"
      ],
      "metadata": {
        "colab": {
          "base_uri": "https://localhost:8080/"
        },
        "id": "KAX8TSmAfazD",
        "outputId": "53d9014a-c775-4ffa-a463-a397d5c3e8f5"
      },
      "execution_count": 137,
      "outputs": [
        {
          "output_type": "execute_result",
          "data": {
            "text/plain": [
              "{'x1': 3, 'x2': 5, 'z1': 6, 'z2': 11, 'f': 121}"
            ]
          },
          "metadata": {},
          "execution_count": 137
        }
      ]
    },
    {
      "cell_type": "code",
      "source": [
        "DG = { \"add\" : [ (lambda a,b: 1), (lambda a,b: 1) ],\n",
        "\"square\": [ lambda a:2*a ] }"
      ],
      "metadata": {
        "id": "gO-mNi5NfbzV"
      },
      "execution_count": 138,
      "outputs": []
    },
    {
      "cell_type": "code",
      "source": [
        "DG[\"square\"][0]"
      ],
      "metadata": {
        "colab": {
          "base_uri": "https://localhost:8080/"
        },
        "id": "D3klzRXYrPxg",
        "outputId": "77804828-ad63-415d-d591-c42683f6c265"
      },
      "execution_count": 139,
      "outputs": [
        {
          "output_type": "execute_result",
          "data": {
            "text/plain": [
              "<function __main__.<lambda>(a)>"
            ]
          },
          "metadata": {},
          "execution_count": 139
        }
      ]
    },
    {
      "cell_type": "code",
      "source": [
        "reversed(val)"
      ],
      "metadata": {
        "colab": {
          "base_uri": "https://localhost:8080/"
        },
        "id": "nb3x2AD1i_Dw",
        "outputId": "0f193a56-a398-4e62-ef02-fd3623d176b5"
      },
      "execution_count": 140,
      "outputs": [
        {
          "output_type": "execute_result",
          "data": {
            "text/plain": [
              "<dict_reversekeyiterator at 0x20cc84a0a40>"
            ]
          },
          "metadata": {},
          "execution_count": 140
        }
      ]
    },
    {
      "cell_type": "code",
      "source": [
        "for a,b,args in reversed(F):\n",
        "  print(a,b,args)\n",
        "  for i in range(len(args)):\n",
        "    print(i)"
      ],
      "metadata": {
        "colab": {
          "base_uri": "https://localhost:8080/"
        },
        "id": "obu13X7ljJYS",
        "outputId": "fc6d22f1-e442-42fc-8855-f82c60697a99"
      },
      "execution_count": 141,
      "outputs": [
        {
          "output_type": "stream",
          "name": "stdout",
          "text": [
            "f square ('z2',)\n",
            "0\n",
            "z2 add ('z1', 'x2')\n",
            "0\n",
            "1\n",
            "z1 add ('x1', 'x1')\n",
            "0\n",
            "1\n"
          ]
        }
      ]
    },
    {
      "cell_type": "code",
      "source": [
        "F[-1][-1]"
      ],
      "metadata": {
        "colab": {
          "base_uri": "https://localhost:8080/"
        },
        "id": "Bjgok75klO_V",
        "outputId": "ac674415-3776-4955-908e-7664b704c884"
      },
      "execution_count": 142,
      "outputs": [
        {
          "output_type": "execute_result",
          "data": {
            "text/plain": [
              "('z2',)"
            ]
          },
          "metadata": {},
          "execution_count": 142
        }
      ]
    },
    {
      "cell_type": "code",
      "source": [
        "def backprop(f, val):\n",
        "    delta = {}\n",
        "    delta[\"f\"] = 1 \n",
        "    for z, g, args in reversed(f):\n",
        "        for i in range(len(args)):\n",
        "            op = DG[g][i]\n",
        "            if args[i] not in delta:\n",
        "                delta[args[i]] = 0\n",
        "            if isinstance(args, tuple):\n",
        "                delta[args[i]] += delta[z] * op(*[val[arg] for arg in args])\n",
        "            else:\n",
        "                delta[args[i]] += delta[z] * op(val[args])\n",
        "    return delta\n"
      ],
      "metadata": {
        "id": "YPzqHSIBiqZ4"
      },
      "execution_count": 145,
      "outputs": []
    },
    {
      "cell_type": "code",
      "source": [
        "backprop(F,val)"
      ],
      "metadata": {
        "colab": {
          "base_uri": "https://localhost:8080/"
        },
        "id": "nb3ZPP0QkjqA",
        "outputId": "05df66de-ee34-4dcc-ca89-8c2b54da29fa"
      },
      "execution_count": 146,
      "outputs": [
        {
          "output_type": "execute_result",
          "data": {
            "text/plain": [
              "{'f': 1, 'z2': 22, 'z1': 22, 'x2': 22, 'x1': 44}"
            ]
          },
          "metadata": {},
          "execution_count": 146
        }
      ]
    },
    {
      "cell_type": "code",
      "source": [
        "##constructing wengert lists"
      ],
      "metadata": {
        "id": "hwxLD3TOkoA8"
      },
      "execution_count": 147,
      "outputs": []
    },
    {
      "cell_type": "code",
      "source": [],
      "metadata": {
        "id": "7UgFuAqywATB"
      },
      "execution_count": null,
      "outputs": []
    }
  ]
}