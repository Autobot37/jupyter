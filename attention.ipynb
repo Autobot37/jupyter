{
  "nbformat": 4,
  "nbformat_minor": 0,
  "metadata": {
    "colab": {
      "provenance": [],
      "authorship_tag": "ABX9TyOiNCB7OqodHlQceERcytMi",
      "include_colab_link": true
    },
    "kernelspec": {
      "name": "python3",
      "display_name": "Python 3"
    },
    "language_info": {
      "name": "python"
    }
  },
  "cells": [
    {
      "cell_type": "markdown",
      "metadata": {
        "id": "view-in-github",
        "colab_type": "text"
      },
      "source": [
        "<a href=\"https://colab.research.google.com/github/Autobot37/jupyter/blob/main/attention.ipynb\" target=\"_parent\"><img src=\"https://colab.research.google.com/assets/colab-badge.svg\" alt=\"Open In Colab\"/></a>"
      ]
    },
    {
      "cell_type": "code",
      "source": [
        "import torch\n",
        "import torch.nn as nn\n",
        "import math\n",
        "import torch.nn.functional as F"
      ],
      "metadata": {
        "id": "oENpZe_E-ft2"
      },
      "execution_count": 1,
      "outputs": []
    },
    {
      "cell_type": "code",
      "source": [
        "from dataclasses import dataclass\n",
        "@dataclass\n",
        "class config:\n",
        "    n_embd: int = 4\n",
        "    n_head: int = 2\n",
        "    block_size: int = 4\n",
        "    batch:int= 2\n",
        "    device: torch.device = torch.device(\"cuda\" if torch.cuda.is_available() else \"cpu\")\n",
        "\n",
        "B = config.batch\n",
        "T = config.block_size\n",
        "C = config.n_embd\n",
        "n_head = config.n_head\n",
        "n_embd = config.n_embd"
      ],
      "metadata": {
        "id": "xzyz53BZAghx"
      },
      "execution_count": 39,
      "outputs": []
    },
    {
      "cell_type": "code",
      "source": [
        "bias = torch.tril(torch.ones(config.block_size, config.block_size)).view(1, 1, config.block_size, config.block_size)"
      ],
      "metadata": {
        "id": "j3pttmdQA3UR"
      },
      "execution_count": 40,
      "outputs": []
    },
    {
      "cell_type": "code",
      "execution_count": 41,
      "metadata": {
        "id": "EieHXZFP77H-"
      },
      "outputs": [],
      "source": [
        "qkv = torch.randn((B,T,3*C))\n",
        "# print(\"qkv\", qkv)\n",
        "Q, K, V = qkv.split(n_embd, dim=2)"
      ]
    },
    {
      "cell_type": "code",
      "source": [
        "qkv = qkv.clone().view(B*T*3*C)\n",
        "print(len(qkv))\n",
        "qx = [0]*B*T*C\n",
        "kx = [0]*B*T*C\n",
        "vx = [0]*B*T*C\n",
        "print(len(qx))\n",
        "\n",
        "for i in range(B):\n",
        "  for j in range(T):\n",
        "    for k in range(C):\n",
        "\n",
        "      qx[i*T*C + j*C + k] = qkv[i*T*3*C + j*3*C + k]\n",
        "      kx[i*T*C + j*C + k] = qkv[i*T*3*C + j*3*C + k + C]\n",
        "      vx[i*T*C + j*C + k] = qkv[i*T*3*C + j*3*C + k + 2*C]\n",
        "\n",
        "print(len(qx), len(Q.reshape(B*T*C)))\n",
        "torch.allclose(torch.tensor(qx).view(B, T, C), Q.contiguous())"
      ],
      "metadata": {
        "colab": {
          "base_uri": "https://localhost:8080/"
        },
        "id": "mkW3PQyx0_OP",
        "outputId": "6f24dac8-0a5c-4557-9a37-99d1f426e534"
      },
      "execution_count": 42,
      "outputs": [
        {
          "output_type": "stream",
          "name": "stdout",
          "text": [
            "96\n",
            "32\n",
            "32 32\n"
          ]
        },
        {
          "output_type": "execute_result",
          "data": {
            "text/plain": [
              "True"
            ]
          },
          "metadata": {},
          "execution_count": 42
        }
      ]
    },
    {
      "cell_type": "code",
      "source": [
        "K = K.view(B, T, n_head, C // n_head)\n",
        "Q = Q.view(B, T, n_head, C // n_head)\n",
        "V = V.view(B, T, n_head, C // n_head)\n",
        "# print(\"q\", Q),print(\"k\", K) ,print(\"V\", V)"
      ],
      "metadata": {
        "id": "4FeoygIm0VYx"
      },
      "execution_count": 43,
      "outputs": []
    },
    {
      "cell_type": "code",
      "source": [
        "\n",
        "head_size = C // n_head\n",
        "print(\"head_size\", head_size)\n",
        "for i in range(B):\n",
        "  for j in range(T):\n",
        "    for k in range(n_head):\n",
        "      for l in range(head_size):\n",
        "        if(qx[i*T*C + j*C + k*head_size + l] != Q[i][j][k][l]):\n",
        "          print(\"incorrect\")\n",
        "\n",
        "print(\"correct\")"
      ],
      "metadata": {
        "colab": {
          "base_uri": "https://localhost:8080/"
        },
        "id": "esi8Hpn08n3W",
        "outputId": "b5b9353c-cd9a-4c7d-c9ff-4bf1cde377ed"
      },
      "execution_count": 44,
      "outputs": [
        {
          "output_type": "stream",
          "name": "stdout",
          "text": [
            "head_size 2\n",
            "correct\n"
          ]
        }
      ]
    },
    {
      "cell_type": "code",
      "source": [
        "torch.allclose(torch.tensor(qx).view(B, T, n_head, head_size) ,Q.contiguous())"
      ],
      "metadata": {
        "colab": {
          "base_uri": "https://localhost:8080/"
        },
        "id": "NfBpx990K2fe",
        "outputId": "ed69eb50-bbf6-49ad-f6f7-1ea7148f02cb"
      },
      "execution_count": 45,
      "outputs": [
        {
          "output_type": "execute_result",
          "data": {
            "text/plain": [
              "True"
            ]
          },
          "metadata": {},
          "execution_count": 45
        }
      ]
    },
    {
      "cell_type": "code",
      "source": [
        "tensor_q = torch.tensor(qx).view(B, T, n_head, head_size).contiguous()\n",
        "torch.allclose(tensor_q, Q.contiguous())\n"
      ],
      "metadata": {
        "colab": {
          "base_uri": "https://localhost:8080/"
        },
        "id": "9PLJQ1ASLIkX",
        "outputId": "aabef3f0-2a8c-4c65-8a17-9f4533a989f0"
      },
      "execution_count": 46,
      "outputs": [
        {
          "output_type": "execute_result",
          "data": {
            "text/plain": [
              "True"
            ]
          },
          "metadata": {},
          "execution_count": 46
        }
      ]
    },
    {
      "cell_type": "code",
      "source": [
        "K = K.transpose(1, 2) # (B, nh, T, hs)\n",
        "Q = Q.transpose(1, 2) # (B, nh, T, hs)\n",
        "V = V.transpose(1, 2) # (B, nh, T, hs)\n",
        "\n",
        "# print(\"q\", Q),print(\"k\", K) ,print(\"V\", V)"
      ],
      "metadata": {
        "id": "-3EoZL6_-eqQ"
      },
      "execution_count": 47,
      "outputs": []
    },
    {
      "cell_type": "code",
      "source": [
        "head_size = C // n_head\n",
        "tensor_q = torch.tensor(qx).clone().view(B, T, n_head, head_size)\n",
        "tensor_qt = torch.zeros_like(tensor_q).view(B, n_head, T, head_size)\n",
        "\n",
        "for i in range(B):\n",
        "    for k in range(n_head):\n",
        "        for j in range(T):\n",
        "            for l in range(head_size):\n",
        "                tensor_qt[i][k][j][l] = tensor_q[i][j][k][l]\n",
        "\n",
        "print(torch.allclose(tensor_q.transpose(1,2).contiguous(), Q.contiguous()))\n",
        "print(torch.allclose(tensor_qt, tensor_q.transpose(1, 2).contiguous()))"
      ],
      "metadata": {
        "colab": {
          "base_uri": "https://localhost:8080/"
        },
        "id": "rxatsFidFF3Z",
        "outputId": "7850fd2f-f8bb-46af-c581-edaf6e9c6e7c"
      },
      "execution_count": 48,
      "outputs": [
        {
          "output_type": "stream",
          "name": "stdout",
          "text": [
            "True\n",
            "True\n"
          ]
        }
      ]
    },
    {
      "cell_type": "code",
      "source": [
        "head_size = C // n_head\n",
        "\n",
        "qxt = [0] * B * T * C\n",
        "\n",
        "# Q[B,T,NH,HS] MATCHES = qx[B,T,NH,HS]\n",
        "# Now Q became [B,NH,T,HS]\n",
        "# qxt = [B,NH,T,HS]\n",
        "\n",
        "print(\"head_size\", head_size)\n",
        "for i in range(B):\n",
        "    for j in range(T):\n",
        "        for k in range(n_head):\n",
        "            for l in range(head_size):\n",
        "                qxt[i * T * n_head * head_size + k * T * head_size + j * head_size + l] = qx[i * T * C + j * C + k * head_size + l]\n",
        "\n",
        "print(torch.allclose(torch.tensor(qxt).view(B, n_head, T, head_size), Q.contiguous()))\n",
        "# print(torch.tensor(qxt).view(B, n_head, T, head_size).contiguous(), \"\\n\", Q.contiguous())\n"
      ],
      "metadata": {
        "colab": {
          "base_uri": "https://localhost:8080/"
        },
        "id": "KcAD6QJC-EBN",
        "outputId": "b3c5dac4-f9d2-49eb-c6cc-5194fffa6c7b"
      },
      "execution_count": 49,
      "outputs": [
        {
          "output_type": "stream",
          "name": "stdout",
          "text": [
            "head_size 2\n",
            "True\n"
          ]
        }
      ]
    },
    {
      "cell_type": "code",
      "source": [
        "tensor_q = torch.tensor(qx).clone().view(B, T, n_head, head_size)\n",
        "print(torch.allclose(tensor_q.transpose(1,2).contiguous(), Q.contiguous()))"
      ],
      "metadata": {
        "colab": {
          "base_uri": "https://localhost:8080/"
        },
        "id": "Vf_g2bIkL8A1",
        "outputId": "0ec7674c-3eb5-43ea-d465-db030c3036d0"
      },
      "execution_count": 50,
      "outputs": [
        {
          "output_type": "stream",
          "name": "stdout",
          "text": [
            "True\n"
          ]
        }
      ]
    },
    {
      "cell_type": "code",
      "source": [
        "def transpose_inplace(matrix):\n",
        "    n = len(matrix)\n",
        "    for i in range(n):\n",
        "        for j in range(i + 1, n):\n",
        "            matrix[i][j], matrix[j][i] = matrix[j][i], matrix[i][j]\n",
        "\n",
        "matrix = [\n",
        "    [1, 2, 3],\n",
        "    [4, 5, 6],\n",
        "    [7, 8, 9]\n",
        "]\n",
        "\n",
        "transpose_inplace(matrix)\n",
        "print(matrix)\n"
      ],
      "metadata": {
        "colab": {
          "base_uri": "https://localhost:8080/"
        },
        "id": "Qn-m_L5sNrFe",
        "outputId": "64a68113-b6e3-4a7e-eade-abb32f4654b9"
      },
      "execution_count": 51,
      "outputs": [
        {
          "output_type": "stream",
          "name": "stdout",
          "text": [
            "[[1, 4, 7], [2, 5, 8], [3, 6, 9]]\n"
          ]
        }
      ]
    },
    {
      "cell_type": "code",
      "source": [
        "idx2_list = []\n",
        "# Q is shape B, nh, T, hs\n",
        "print(\"head_size\", head_size)\n",
        "for i in range(B):\n",
        "    for k in range(n_head):\n",
        "        for j in range(k+1, T):\n",
        "            for l in range(head_size):\n",
        "                idx1 = i * T * C + j * C + k * head_size + l\n",
        "                idx2 = i * n_head * T * head_size + k * T * head_size + j * head_size + l\n",
        "                temp = qx[idx1]\n",
        "                qx[idx1] = qx[idx2]\n",
        "                qx[idx2] = temp\n",
        "\n",
        "qx_tensor = torch.tensor(qx).view(B, n_head, T, head_size).contiguous()\n",
        "print(torch.allclose(qx_tensor, Q.contiguous()))"
      ],
      "metadata": {
        "colab": {
          "base_uri": "https://localhost:8080/"
        },
        "id": "97Aj3rOp_12q",
        "outputId": "e3b6b756-0ed1-4693-8eb4-796ab4351e77"
      },
      "execution_count": 52,
      "outputs": [
        {
          "output_type": "stream",
          "name": "stdout",
          "text": [
            "head_size 2\n",
            "True\n"
          ]
        }
      ]
    },
    {
      "cell_type": "code",
      "source": [
        "att = (Q @ K.transpose(-2, -1))\n",
        "# print(\"att\", att)"
      ],
      "metadata": {
        "id": "QvZFdyJHBEEu"
      },
      "execution_count": 53,
      "outputs": []
    },
    {
      "cell_type": "code",
      "source": [
        "#CUBLAS SGEMM\n",
        "\n",
        "kt = [0]*B*T*C\n",
        "\n",
        "#k orignial shape = B,T,NH,HS\n",
        "#K required shape = B,NH,HS,T\n",
        "\n",
        "for i in range(B):\n",
        "    for j in range(T):\n",
        "      for k in range(n_head):\n",
        "        for l in range(head_size):\n",
        "          from_idx = i * T * C + j * C + k * head_size + l\n",
        "          to_idx =   i * T * C + k * T * head_size + l * T + j\n",
        "          kt[to_idx] = kx[from_idx]\n",
        "\n",
        "print(torch.allclose(torch.tensor(kt).view(B, n_head, head_size, T).contiguous(), K.transpose(-2, -1).contiguous()))\n",
        "# torch.tensor(kt).view(B, n_head, head_size, T).contiguous(), K.transpose(-2, -1).contiguous()"
      ],
      "metadata": {
        "colab": {
          "base_uri": "https://localhost:8080/"
        },
        "id": "NAR-lf8gOp1v",
        "outputId": "efbd34fb-bded-4507-b97f-5f8c33de9200"
      },
      "execution_count": 54,
      "outputs": [
        {
          "output_type": "stream",
          "name": "stdout",
          "text": [
            "True\n"
          ]
        }
      ]
    },
    {
      "cell_type": "code",
      "source": [
        "attx = [0]*B*T*C\n",
        "\n",
        "def mul(a,b):\n",
        "  return a @ b\n",
        "\n",
        "for b in range(B):\n",
        "  xx = torch.tensor(qx[b*T*C : (b+1)*T*C]).view(n_head, T, head_size)\n",
        "  yy = torch.tensor(kt[b*T*C : (b+1)*T*C]).view(n_head, head_size, T)\n",
        "  res = mul(xx,yy)\n",
        "  print(res.shape)\n",
        "  attx[b*n_head*T*T : (b+1)*T*n_head*T] = res.view(-1)\n",
        "\n",
        "tensor_attx = torch.tensor(attx).view(B, n_head, T, T)\n",
        "print(torch.allclose(tensor_attx, att))"
      ],
      "metadata": {
        "colab": {
          "base_uri": "https://localhost:8080/"
        },
        "id": "mQ9fpE_VRCGD",
        "outputId": "c393a857-e46d-49af-8641-6e515fbe57ff"
      },
      "execution_count": 56,
      "outputs": [
        {
          "output_type": "stream",
          "name": "stdout",
          "text": [
            "torch.Size([2, 4, 4])\n",
            "torch.Size([2, 4, 4])\n",
            "True\n"
          ]
        }
      ]
    },
    {
      "cell_type": "code",
      "source": [
        "attx = [0]*B*T*C\n",
        "\n",
        "def mul(a,b):\n",
        "  return a @ b\n",
        "\n",
        "xx = torch.tensor(qx).view(B*n_head, T, head_size)\n",
        "yy = torch.tensor(kt).view(B*n_head, head_size, T)\n",
        "res = mul(xx,yy)\n",
        "print(res.shape)\n",
        "attx = res.view(-1)\n",
        "\n",
        "tensor_attx = torch.tensor(attx).view(B, n_head, T, T)\n",
        "print(torch.allclose(tensor_attx, att))"
      ],
      "metadata": {
        "colab": {
          "base_uri": "https://localhost:8080/"
        },
        "id": "bxZTu8NOe4wr",
        "outputId": "850c4bc4-53f9-4704-8235-1ac4899f917f"
      },
      "execution_count": 57,
      "outputs": [
        {
          "output_type": "stream",
          "name": "stdout",
          "text": [
            "torch.Size([4, 4, 4])\n",
            "True\n"
          ]
        },
        {
          "output_type": "stream",
          "name": "stderr",
          "text": [
            "<ipython-input-57-97d053d0c51e>:12: UserWarning: To copy construct from a tensor, it is recommended to use sourceTensor.clone().detach() or sourceTensor.clone().detach().requires_grad_(True), rather than torch.tensor(sourceTensor).\n",
            "  tensor_attx = torch.tensor(attx).view(B, n_head, T, T)\n"
          ]
        }
      ]
    },
    {
      "cell_type": "code",
      "source": [
        "#then softmax\n",
        "#then last one is accumulating.\n",
        "\n",
        "for i in range(B):\n",
        "    for k in range(n_head):\n",
        "        for j in range(k+1, T):\n",
        "            for l in range(head_size):\n",
        "                idx1 = i * T * C + j * C + k * head_size + l\n",
        "                idx2 = i * n_head * T * head_size + k * T * head_size + j * head_size + l\n",
        "                temp = vx[idx1]\n",
        "                vx[idx1] = vx[idx2]\n",
        "                vx[idx2] = temp\n",
        "\n",
        "vx_tensor = torch.tensor(vx).view(B, n_head, T, head_size).contiguous()\n",
        "print(torch.allclose(vx_tensor, V.contiguous()))"
      ],
      "metadata": {
        "colab": {
          "base_uri": "https://localhost:8080/"
        },
        "id": "3a0Y4X2MTAQx",
        "outputId": "c7549191-a9b7-42cc-c338-e2e3885202d8"
      },
      "execution_count": 58,
      "outputs": [
        {
          "output_type": "stream",
          "name": "stdout",
          "text": [
            "True\n"
          ]
        }
      ]
    },
    {
      "cell_type": "code",
      "source": [
        "# att = att.masked_fill(bias[:,:,:T,:T] == 0, float('-inf'))\n",
        "# print(\"masked att\", att)"
      ],
      "metadata": {
        "id": "PVmW1ZslBGMz"
      },
      "execution_count": 59,
      "outputs": []
    },
    {
      "cell_type": "code",
      "source": [
        "# att = F.softmax(att, dim=-1)\n",
        "# print(\"softmaxed att\", att)"
      ],
      "metadata": {
        "id": "yzjgSqpLBQwK"
      },
      "execution_count": 60,
      "outputs": []
    },
    {
      "cell_type": "code",
      "source": [
        "y = att @ V # (B, nh, T, T) x (B, nh, T, hs) -> (B, nh, T, hs)\n",
        "# print(\"y\", y)"
      ],
      "metadata": {
        "id": "7vdRbjIeBRIy"
      },
      "execution_count": 61,
      "outputs": []
    },
    {
      "cell_type": "code",
      "source": [
        "B,T,C"
      ],
      "metadata": {
        "colab": {
          "base_uri": "https://localhost:8080/"
        },
        "id": "fw0nXP5kVm6b",
        "outputId": "4ab71941-11aa-4d05-c834-2a12f6b0ebdb"
      },
      "execution_count": 62,
      "outputs": [
        {
          "output_type": "execute_result",
          "data": {
            "text/plain": [
              "(2, 4, 4)"
            ]
          },
          "metadata": {},
          "execution_count": 62
        }
      ]
    },
    {
      "cell_type": "code",
      "source": [
        "yx = [0]*B*T*C\n",
        "\n",
        "for b in range(B):\n",
        "  xx = torch.tensor(attx[b*n_head*T*T : (b+1)*n_head*T*T]).view(n_head, T, T)\n",
        "  yy = torch.tensor(vx[b*T*C : (b+1)*T*C]).view(n_head, T, head_size)\n",
        "  yx[b*T*C:(b+1)*T*C] = (xx @ yy).view(-1)\n",
        "\n",
        "torch.allclose(torch.tensor(yx).view(B,n_head,T, head_size).contiguous(), y)\n"
      ],
      "metadata": {
        "colab": {
          "base_uri": "https://localhost:8080/"
        },
        "id": "zX7kBqrbUT74",
        "outputId": "00d83deb-3019-4319-93b2-0481ca6c7258"
      },
      "execution_count": 63,
      "outputs": [
        {
          "output_type": "stream",
          "name": "stderr",
          "text": [
            "<ipython-input-63-13bdb32c946f>:4: UserWarning: To copy construct from a tensor, it is recommended to use sourceTensor.clone().detach() or sourceTensor.clone().detach().requires_grad_(True), rather than torch.tensor(sourceTensor).\n",
            "  xx = torch.tensor(attx[b*n_head*T*T : (b+1)*n_head*T*T]).view(n_head, T, T)\n"
          ]
        },
        {
          "output_type": "execute_result",
          "data": {
            "text/plain": [
              "True"
            ]
          },
          "metadata": {},
          "execution_count": 63
        }
      ]
    },
    {
      "cell_type": "code",
      "source": [
        "\n",
        "#from B,NH,T,HS\n",
        "#TO B,T,NH,HS\n",
        "yxt = [0]*B*T*C\n",
        "\n",
        "for i in range(B):\n",
        "    for j in range(n_head):\n",
        "        for k in range(T):\n",
        "            for l in range(head_size):\n",
        "                idx1 = i * n_head * T * head_size + j * T * head_size + k * head_size + l\n",
        "                idx2 = i * n_head * T * head_size + k * n_head * head_size + j * head_size + l\n",
        "                yxt[idx2] = yx[idx1]"
      ],
      "metadata": {
        "id": "0qKClzlNWqVw"
      },
      "execution_count": 64,
      "outputs": []
    },
    {
      "cell_type": "code",
      "source": [
        "y = y.transpose(1, 2).contiguous().view(B, T, C) # re-assemble all head outputs side by side\n",
        "# print(\"final\", y)\n",
        "# print(torch.tensor(yxt).view(B,T,C).contiguous())"
      ],
      "metadata": {
        "id": "nYxyBiNYBT6U"
      },
      "execution_count": 65,
      "outputs": []
    },
    {
      "cell_type": "code",
      "source": [
        "torch.allclose(torch.tensor(yxt).view(B,T,C).contiguous(), y)"
      ],
      "metadata": {
        "id": "wqoR6BTY_Ler",
        "colab": {
          "base_uri": "https://localhost:8080/"
        },
        "outputId": "ce5319e7-78cf-4192-a15e-3b62cf7dec0a"
      },
      "execution_count": 66,
      "outputs": [
        {
          "output_type": "execute_result",
          "data": {
            "text/plain": [
              "True"
            ]
          },
          "metadata": {},
          "execution_count": 66
        }
      ]
    },
    {
      "cell_type": "code",
      "source": [],
      "metadata": {
        "id": "HFCA4YgXBVze"
      },
      "execution_count": 66,
      "outputs": []
    }
  ]
}