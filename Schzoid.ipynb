{
  "nbformat": 4,
  "nbformat_minor": 0,
  "metadata": {
    "colab": {
      "provenance": [],
      "authorship_tag": "ABX9TyOyO0uZCHNIP9GD1uOTAfqn",
      "include_colab_link": true
    },
    "kernelspec": {
      "name": "python3",
      "display_name": "Python 3"
    },
    "language_info": {
      "name": "python"
    }
  },
  "cells": [
    {
      "cell_type": "markdown",
      "metadata": {
        "id": "view-in-github",
        "colab_type": "text"
      },
      "source": [
        "<a href=\"https://colab.research.google.com/github/Autobot37/jupyter/blob/main/Schzoid.ipynb\" target=\"_parent\"><img src=\"https://colab.research.google.com/assets/colab-badge.svg\" alt=\"Open In Colab\"/></a>"
      ]
    },
    {
      "cell_type": "code",
      "execution_count": null,
      "metadata": {
        "id": "Mb_39jURFIvm"
      },
      "outputs": [],
      "source": []
    },
    {
      "cell_type": "code",
      "source": [],
      "metadata": {
        "id": "51fviHNaHiEt"
      },
      "execution_count": null,
      "outputs": []
    },
    {
      "cell_type": "markdown",
      "source": [
        "Nets man , trasversing nets , i mean how ,\n",
        "can everything ,\n",
        "well eveything will be described as lines of actions.\n",
        "\n",
        "like \n",
        "ex-1 - chess\n",
        "what is is there are 10 possible moves , then you react environment change, in this case environ is changed is black played.\n",
        "then you have more than 10 choices, but what you have to do is you d k what choice will win so  you simulate -every your poss choic-then blacks choice-then yours it is 1 level, then 2 level then gain until you see win from moves, and then you select most highly number of ways that appeared.\n",
        "\n",
        "then black really plays, and you have whole net , so you calculate.\n",
        "\n",
        "but this is not possible man , or is it?\n",
        "\n",
        "these discrete choices , infinte combs , so here you need somethign ele,  a probability stuff   ,n     you dont have to calculate all stuff ,     and \n",
        "\n",
        "continous can be quantized for discrete.\n",
        "\n",
        "so , \n",
        "imagiation-1= lets imagine we have data of what people life was , like actions and satte which they were in , and effec of max things for max types of states!\n",
        "\n",
        "so if you are  watching her movie you are going to be emotional   , if you watch her wept an hour lost in thiughts about ai, searched about ai gf cauz you dont want to talk to real peoples and have virtual or ai friends, you are schoid , you can know that in future u will  be fucked , and have less bmi and have heart problem and socio-strange.\n",
        "\n",
        "these are trsits. and \n",
        "like ASSEMBLY , if you want to do something , like human want to do it, out them in  aseembly down to root node, so only stuff they have to think is understand , deduction , possibly 100s of combinations and going to right answer, and big thing will automaticall ywill be done.\n",
        "\n",
        "ex-2-\n",
        "true random is what ,"
      ],
      "metadata": {
        "id": "Cz8UrjPmFO6n"
      }
    }
  ]
}