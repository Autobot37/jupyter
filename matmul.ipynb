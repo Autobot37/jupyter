{
  "nbformat": 4,
  "nbformat_minor": 0,
  "metadata": {
    "colab": {
      "provenance": [],
      "gpuType": "T4",
      "authorship_tag": "ABX9TyMEDKv6kMpUN7cFlZWBXX86",
      "include_colab_link": true
    },
    "kernelspec": {
      "name": "python3",
      "display_name": "Python 3"
    },
    "language_info": {
      "name": "python"
    },
    "accelerator": "GPU"
  },
  "cells": [
    {
      "cell_type": "markdown",
      "metadata": {
        "id": "view-in-github",
        "colab_type": "text"
      },
      "source": [
        "<a href=\"https://colab.research.google.com/github/Autobot37/jupyter/blob/main/matmul.ipynb\" target=\"_parent\"><img src=\"https://colab.research.google.com/assets/colab-badge.svg\" alt=\"Open In Colab\"/></a>"
      ]
    },
    {
      "cell_type": "code",
      "source": [
        "from typing import List\n",
        "matrix = List[List[float]]"
      ],
      "metadata": {
        "id": "_njmQPweXkr6"
      },
      "execution_count": 30,
      "outputs": []
    },
    {
      "cell_type": "code",
      "source": [
        "m    n   \n",
        "m,k  k,n  -> m,n"
      ],
      "metadata": {
        "id": "G4rPKVveX20I"
      },
      "execution_count": null,
      "outputs": []
    },
    {
      "cell_type": "code",
      "source": [
        "import torch"
      ],
      "metadata": {
        "id": "THc56rFaYBle"
      },
      "execution_count": 2,
      "outputs": []
    },
    {
      "cell_type": "code",
      "source": [
        "#torch matmul\n",
        "a = torch.randn((1024,4096),device=\"cuda\")\n",
        "b = torch.randn((4096,1024),device=\"cuda\")\n",
        "%timeit torch.matmul(a,b)"
      ],
      "metadata": {
        "colab": {
          "base_uri": "https://localhost:8080/"
        },
        "id": "gw3EI4rtYEx0",
        "outputId": "169e6346-58a6-4dd2-84fc-b8079ee639c6"
      },
      "execution_count": 73,
      "outputs": [
        {
          "output_type": "stream",
          "name": "stdout",
          "text": [
            "8.05 ms ± 31.2 µs per loop (mean ± std. dev. of 7 runs, 1,000 loops each)\n"
          ]
        }
      ]
    },
    {
      "cell_type": "code",
      "source": [
        "import numpy as np\n",
        "a = np.random.rand(1024,4096)\n",
        "b = np.random.rand(4096,1024)\n",
        "%timeit np.matmul(a,b)"
      ],
      "metadata": {
        "colab": {
          "base_uri": "https://localhost:8080/"
        },
        "id": "Xj84DlSdYV1M",
        "outputId": "7f95206b-ec18-4ecb-f0c5-5ff670f715c2"
      },
      "execution_count": 6,
      "outputs": [
        {
          "output_type": "stream",
          "name": "stdout",
          "text": [
            "332 ms ± 116 ms per loop (mean ± std. dev. of 7 runs, 1 loop each)\n"
          ]
        }
      ]
    },
    {
      "cell_type": "code",
      "execution_count": 31,
      "metadata": {
        "id": "RAGjY4-nXJWo"
      },
      "outputs": [],
      "source": [
        "def matmul(m:matrix,n:matrix) -> matrix:\n",
        "  rows1 = len(m)\n",
        "  cols1 = len(m[0])\n",
        "  rows2 = len(n)\n",
        "  cols2 = len(n[0])\n",
        "  res = [[0]*rows1 for _ in range(cols2)]\n",
        "\n",
        "  for i in range(rows1):\n",
        "    for j in range(cols2):\n",
        "      for k in range(rows2):\n",
        "        res[i][j] += m[i][k]*n[k][j]\n",
        "  return res\n"
      ]
    },
    {
      "cell_type": "code",
      "source": [
        "a = a[0:10,0:20]\n",
        "b = b[0:20,0:10]\n",
        "\n",
        "%timeit matmul(a,b)  #infinite"
      ],
      "metadata": {
        "colab": {
          "base_uri": "https://localhost:8080/"
        },
        "id": "N_wqLYKhfXyq",
        "outputId": "347df38e-9cc4-4b22-9c4e-9d2cb4bdbf9d"
      },
      "execution_count": 52,
      "outputs": [
        {
          "output_type": "stream",
          "name": "stdout",
          "text": [
            "1.84 ms ± 291 µs per loop (mean ± std. dev. of 7 runs, 100 loops each)\n"
          ]
        }
      ]
    },
    {
      "cell_type": "code",
      "source": [
        "import numpy as np"
      ],
      "metadata": {
        "id": "jLiskFRJBIf3"
      },
      "execution_count": 14,
      "outputs": []
    },
    {
      "cell_type": "code",
      "source": [
        "#block_size\n",
        "def matmul_block(a:np.ndarray,b:np.ndarray,bs_m:int,bs_n:int,bs_k:int):\n",
        "  m, k = a.shape\n",
        "  n = b.shape[1]\n",
        "  res = np.zeros((m,n),dtype=np.float32)\n",
        "\n",
        "  for m in range(0,m,bs_m):\n",
        "    for n in range(0,n,bs_n):\n",
        "      part = np.zeros((bs_m,bs_n),dtype=np.float32)\n",
        "      for k in range(0,k,bs_k):\n",
        "        p = a[m:m+bs_m,k:k+bs_k]\n",
        "        q = b[k:k+bs_k,n:n+bs_n]\n",
        "      res[m:m+bs_m, n:n+bs_n] += np.dot(p,q)\n",
        "  return res\n",
        "\n",
        "\n"
      ],
      "metadata": {
        "id": "KB89vwoafZ7B"
      },
      "execution_count": 15,
      "outputs": []
    },
    {
      "cell_type": "code",
      "source": [
        "a = np.random.rand(1024,4096)\n",
        "b = np.random.rand(4096,1024)\n",
        "%timeit matmul_block(a,b,64,64,64)"
      ],
      "metadata": {
        "colab": {
          "base_uri": "https://localhost:8080/"
        },
        "id": "4JbGJSjpjk_-",
        "outputId": "7b154b75-b985-4f49-efae-deec218bb894"
      },
      "execution_count": 16,
      "outputs": [
        {
          "output_type": "stream",
          "name": "stdout",
          "text": [
            "8.12 ms ± 1.67 ms per loop (mean ± std. dev. of 7 runs, 100 loops each)\n"
          ]
        }
      ]
    },
    {
      "cell_type": "code",
      "source": [
        "#jax cpu = 10.3 ms"
      ],
      "metadata": {
        "id": "6o9BaB9kACL2"
      },
      "execution_count": null,
      "outputs": []
    },
    {
      "cell_type": "code",
      "source": [],
      "metadata": {
        "id": "mG6_EhYtCp8l"
      },
      "execution_count": 28,
      "outputs": []
    },
    {
      "cell_type": "code",
      "source": [],
      "metadata": {
        "id": "VbOsCsjTDCw6"
      },
      "execution_count": null,
      "outputs": []
    }
  ]
}