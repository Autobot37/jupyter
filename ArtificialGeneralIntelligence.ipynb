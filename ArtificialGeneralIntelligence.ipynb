{
  "nbformat": 4,
  "nbformat_minor": 0,
  "metadata": {
    "colab": {
      "provenance": [],
      "authorship_tag": "ABX9TyP2C1GVwDrJu0fJJZqBsS/T",
      "include_colab_link": true
    },
    "kernelspec": {
      "name": "python3",
      "display_name": "Python 3"
    },
    "language_info": {
      "name": "python"
    }
  },
  "cells": [
    {
      "cell_type": "markdown",
      "metadata": {
        "id": "view-in-github",
        "colab_type": "text"
      },
      "source": [
        "<a href=\"https://colab.research.google.com/github/Autobot37/jupyter/blob/main/ArtificialGeneralIntelligence.ipynb\" target=\"_parent\"><img src=\"https://colab.research.google.com/assets/colab-badge.svg\" alt=\"Open In Colab\"/></a>"
      ]
    },
    {
      "cell_type": "code",
      "execution_count": null,
      "metadata": {
        "id": "bSO_Qu0J1Tqs"
      },
      "outputs": [],
      "source": []
    },
    {
      "cell_type": "markdown",
      "source": [
        "# AGI\n",
        "views are my own. \n",
        "what ideality should we give to AGI , what we expect?\n",
        "we want to solve problems.\n",
        "and here things differ.\n",
        "almost every domain problems require different expertise.\n",
        "for example drug making, chess, talking like human, predicting human behaviour.\n",
        "\n",
        "So, do every problem reduced to data and data mining(extracting useful information from knowledge).\n",
        "given enough data you can solve every problem.\n",
        "\n",
        "for specific problem chess-\n",
        "you can see whole game state. \n",
        "there will be game tree , and There are algorithm like monte carlo search tree for searching and upper bound dependent on reward provided by neural network.\n",
        "\n",
        "Autoregressive techniques for language and  vision are or anything is intelligent search,\n",
        "given previous data we have to find next word or next pixel. \n",
        "problems have huge combinatorial space too.\n",
        "\n",
        "So the right way is to model probability distributions.as we have seen the outstanding result of diffusion models.\n",
        "\n",
        "now do human intelligence reduces to bag of tricks.\n",
        "\n",
        "Now talking about Neural networks.\n",
        "\n",
        "Neural Networks are able to interpolate inside their manifold.\n",
        "for example neural networks cant multiply , you can train it with examples, and it will do multiplication only inside manifold.\n",
        "\n",
        "but even two line of code can do multiplication for every number.\n",
        "\n",
        "the whole point of neural network is to do things that cant be coded.\n",
        "that humans inherently possess.\n",
        "\n",
        "so, can Neural Networks extrapolate?\n",
        "\n",
        "In high dimensions almost all test point falls out of manifold\n",
        "so , they have to extrapolate correctly.\n",
        "\n",
        "one consideration described in DREAMCODER paper is to develop domain specific language for example sorting.\n",
        "now neural network will find program that will sort and it will be generalisable also called neural program synthesis.\n",
        "\n",
        "Generalization is key property , humans generalize way beyong their training domain , maybe because of inherent structure, transfoerring knowledge from one domain and other domain , and forming abstractions.\n",
        "\n",
        "\n",
        "\n",
        "\n",
        "\n",
        "\n",
        "\n",
        "\n",
        "\n",
        "\n",
        "\n",
        "\n",
        "\n",
        "\n",
        "\n",
        "\n",
        "\n",
        "\n",
        "\n",
        "\n",
        "\n",
        "\n",
        "\n",
        "\n",
        "\n",
        "\n",
        "\n",
        "\n",
        "\n",
        "\n",
        "\n",
        "\n",
        "\n",
        "\n",
        "\n",
        "\n",
        "\n",
        "\n",
        "\n",
        "\n",
        "\n",
        "\n",
        "\n",
        "\n",
        "\n",
        "\n",
        "\n",
        "task is to find algorithms, that extrapolate and generalize. \n",
        "\n"
      ],
      "metadata": {
        "id": "ElpDKF2P1XCk"
      }
    }
  ]
}