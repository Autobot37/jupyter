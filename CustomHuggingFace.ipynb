{
  "nbformat": 4,
  "nbformat_minor": 0,
  "metadata": {
    "colab": {
      "provenance": [],
      "authorship_tag": "ABX9TyPFvO3z/JS5UdxxDqpAUljV",
      "include_colab_link": true
    },
    "kernelspec": {
      "name": "python3",
      "display_name": "Python 3"
    },
    "language_info": {
      "name": "python"
    },
    "widgets": {
      "application/vnd.jupyter.widget-state+json": {
        "1a10a924a08c49f8a836603668204a04": {
          "model_module": "@jupyter-widgets/controls",
          "model_name": "VBoxModel",
          "model_module_version": "1.5.0",
          "state": {
            "_dom_classes": [],
            "_model_module": "@jupyter-widgets/controls",
            "_model_module_version": "1.5.0",
            "_model_name": "VBoxModel",
            "_view_count": null,
            "_view_module": "@jupyter-widgets/controls",
            "_view_module_version": "1.5.0",
            "_view_name": "VBoxView",
            "box_style": "",
            "children": [
              "IPY_MODEL_e6bdc255cacb414a9f9a108251e597d3",
              "IPY_MODEL_28c7dc2ee2b74eeda8f36c4736679062"
            ],
            "layout": "IPY_MODEL_219260cf2878414a815d68add8f9708e"
          }
        },
        "e6bdc255cacb414a9f9a108251e597d3": {
          "model_module": "@jupyter-widgets/controls",
          "model_name": "LabelModel",
          "model_module_version": "1.5.0",
          "state": {
            "_dom_classes": [],
            "_model_module": "@jupyter-widgets/controls",
            "_model_module_version": "1.5.0",
            "_model_name": "LabelModel",
            "_view_count": null,
            "_view_module": "@jupyter-widgets/controls",
            "_view_module_version": "1.5.0",
            "_view_name": "LabelView",
            "description": "",
            "description_tooltip": null,
            "layout": "IPY_MODEL_4367980f40bc41e99d12d3f5b0379141",
            "placeholder": "​",
            "style": "IPY_MODEL_587752470b6846eab6d659dc829f0da4",
            "value": "0.001 MB of 0.009 MB uploaded (0.000 MB deduped)\r"
          }
        },
        "28c7dc2ee2b74eeda8f36c4736679062": {
          "model_module": "@jupyter-widgets/controls",
          "model_name": "FloatProgressModel",
          "model_module_version": "1.5.0",
          "state": {
            "_dom_classes": [],
            "_model_module": "@jupyter-widgets/controls",
            "_model_module_version": "1.5.0",
            "_model_name": "FloatProgressModel",
            "_view_count": null,
            "_view_module": "@jupyter-widgets/controls",
            "_view_module_version": "1.5.0",
            "_view_name": "ProgressView",
            "bar_style": "",
            "description": "",
            "description_tooltip": null,
            "layout": "IPY_MODEL_981caa11655a4faf9811efe22ea2ba8d",
            "max": 1,
            "min": 0,
            "orientation": "horizontal",
            "style": "IPY_MODEL_ebcf31434b284b6e912728e184dd2ff4",
            "value": 0.1126508717031739
          }
        },
        "219260cf2878414a815d68add8f9708e": {
          "model_module": "@jupyter-widgets/base",
          "model_name": "LayoutModel",
          "model_module_version": "1.2.0",
          "state": {
            "_model_module": "@jupyter-widgets/base",
            "_model_module_version": "1.2.0",
            "_model_name": "LayoutModel",
            "_view_count": null,
            "_view_module": "@jupyter-widgets/base",
            "_view_module_version": "1.2.0",
            "_view_name": "LayoutView",
            "align_content": null,
            "align_items": null,
            "align_self": null,
            "border": null,
            "bottom": null,
            "display": null,
            "flex": null,
            "flex_flow": null,
            "grid_area": null,
            "grid_auto_columns": null,
            "grid_auto_flow": null,
            "grid_auto_rows": null,
            "grid_column": null,
            "grid_gap": null,
            "grid_row": null,
            "grid_template_areas": null,
            "grid_template_columns": null,
            "grid_template_rows": null,
            "height": null,
            "justify_content": null,
            "justify_items": null,
            "left": null,
            "margin": null,
            "max_height": null,
            "max_width": null,
            "min_height": null,
            "min_width": null,
            "object_fit": null,
            "object_position": null,
            "order": null,
            "overflow": null,
            "overflow_x": null,
            "overflow_y": null,
            "padding": null,
            "right": null,
            "top": null,
            "visibility": null,
            "width": null
          }
        },
        "4367980f40bc41e99d12d3f5b0379141": {
          "model_module": "@jupyter-widgets/base",
          "model_name": "LayoutModel",
          "model_module_version": "1.2.0",
          "state": {
            "_model_module": "@jupyter-widgets/base",
            "_model_module_version": "1.2.0",
            "_model_name": "LayoutModel",
            "_view_count": null,
            "_view_module": "@jupyter-widgets/base",
            "_view_module_version": "1.2.0",
            "_view_name": "LayoutView",
            "align_content": null,
            "align_items": null,
            "align_self": null,
            "border": null,
            "bottom": null,
            "display": null,
            "flex": null,
            "flex_flow": null,
            "grid_area": null,
            "grid_auto_columns": null,
            "grid_auto_flow": null,
            "grid_auto_rows": null,
            "grid_column": null,
            "grid_gap": null,
            "grid_row": null,
            "grid_template_areas": null,
            "grid_template_columns": null,
            "grid_template_rows": null,
            "height": null,
            "justify_content": null,
            "justify_items": null,
            "left": null,
            "margin": null,
            "max_height": null,
            "max_width": null,
            "min_height": null,
            "min_width": null,
            "object_fit": null,
            "object_position": null,
            "order": null,
            "overflow": null,
            "overflow_x": null,
            "overflow_y": null,
            "padding": null,
            "right": null,
            "top": null,
            "visibility": null,
            "width": null
          }
        },
        "587752470b6846eab6d659dc829f0da4": {
          "model_module": "@jupyter-widgets/controls",
          "model_name": "DescriptionStyleModel",
          "model_module_version": "1.5.0",
          "state": {
            "_model_module": "@jupyter-widgets/controls",
            "_model_module_version": "1.5.0",
            "_model_name": "DescriptionStyleModel",
            "_view_count": null,
            "_view_module": "@jupyter-widgets/base",
            "_view_module_version": "1.2.0",
            "_view_name": "StyleView",
            "description_width": ""
          }
        },
        "981caa11655a4faf9811efe22ea2ba8d": {
          "model_module": "@jupyter-widgets/base",
          "model_name": "LayoutModel",
          "model_module_version": "1.2.0",
          "state": {
            "_model_module": "@jupyter-widgets/base",
            "_model_module_version": "1.2.0",
            "_model_name": "LayoutModel",
            "_view_count": null,
            "_view_module": "@jupyter-widgets/base",
            "_view_module_version": "1.2.0",
            "_view_name": "LayoutView",
            "align_content": null,
            "align_items": null,
            "align_self": null,
            "border": null,
            "bottom": null,
            "display": null,
            "flex": null,
            "flex_flow": null,
            "grid_area": null,
            "grid_auto_columns": null,
            "grid_auto_flow": null,
            "grid_auto_rows": null,
            "grid_column": null,
            "grid_gap": null,
            "grid_row": null,
            "grid_template_areas": null,
            "grid_template_columns": null,
            "grid_template_rows": null,
            "height": null,
            "justify_content": null,
            "justify_items": null,
            "left": null,
            "margin": null,
            "max_height": null,
            "max_width": null,
            "min_height": null,
            "min_width": null,
            "object_fit": null,
            "object_position": null,
            "order": null,
            "overflow": null,
            "overflow_x": null,
            "overflow_y": null,
            "padding": null,
            "right": null,
            "top": null,
            "visibility": null,
            "width": null
          }
        },
        "ebcf31434b284b6e912728e184dd2ff4": {
          "model_module": "@jupyter-widgets/controls",
          "model_name": "ProgressStyleModel",
          "model_module_version": "1.5.0",
          "state": {
            "_model_module": "@jupyter-widgets/controls",
            "_model_module_version": "1.5.0",
            "_model_name": "ProgressStyleModel",
            "_view_count": null,
            "_view_module": "@jupyter-widgets/base",
            "_view_module_version": "1.2.0",
            "_view_name": "StyleView",
            "bar_color": null,
            "description_width": ""
          }
        }
      }
    }
  },
  "cells": [
    {
      "cell_type": "markdown",
      "metadata": {
        "id": "view-in-github",
        "colab_type": "text"
      },
      "source": [
        "<a href=\"https://colab.research.google.com/github/Autobot37/jupyter/blob/main/CustomHuggingFace.ipynb\" target=\"_parent\"><img src=\"https://colab.research.google.com/assets/colab-badge.svg\" alt=\"Open In Colab\"/></a>"
      ]
    },
    {
      "cell_type": "code",
      "source": [
        "!pip install accelerate\n",
        "!pip install transformers"
      ],
      "metadata": {
        "id": "yQdTBKVbriKv"
      },
      "execution_count": null,
      "outputs": []
    },
    {
      "cell_type": "code",
      "source": [
        "from transformers import Trainer"
      ],
      "metadata": {
        "id": "VltOkccqrokX"
      },
      "execution_count": null,
      "outputs": []
    },
    {
      "cell_type": "code",
      "source": [
        "import transformers\n",
        "import numpy as np"
      ],
      "metadata": {
        "id": "vzF8TTmovaax"
      },
      "execution_count": null,
      "outputs": []
    },
    {
      "cell_type": "code",
      "source": [
        "import torch\n",
        "from torch import nn"
      ],
      "metadata": {
        "id": "FxYXzh5psmpb"
      },
      "execution_count": null,
      "outputs": []
    },
    {
      "cell_type": "code",
      "source": [
        "class dataset(torch.utils.data.Dataset):\n",
        "  def __init__(self):\n",
        "    super().__init__()\n",
        "    self.nums = torch.arange(1000)\n",
        "  \n",
        "  def __len__(self):\n",
        "    return 999\n",
        "  \n",
        "  def __getitem__(self,idx):\n",
        "    return {\"given\":torch.tensor(self.nums[idx]).unsqueeze(0),\"labels\":torch.tensor(torch.square(self.nums[idx]))}"
      ],
      "metadata": {
        "id": "gvvt1O9JsfSe"
      },
      "execution_count": null,
      "outputs": []
    },
    {
      "cell_type": "code",
      "source": [
        "ds = dataset()"
      ],
      "metadata": {
        "id": "xlZXfT6GtgOc"
      },
      "execution_count": null,
      "outputs": []
    },
    {
      "cell_type": "code",
      "source": [
        "TFout = transformers.modeling_outputs.BaseModelOutput"
      ],
      "metadata": {
        "id": "4pa7rCuJvO0H"
      },
      "execution_count": null,
      "outputs": []
    },
    {
      "cell_type": "code",
      "source": [
        "from torch.nn import functional as F"
      ],
      "metadata": {
        "id": "Nz7bfk2Q4864"
      },
      "execution_count": null,
      "outputs": []
    },
    {
      "cell_type": "code",
      "source": [
        "l1 = nn.Linear(2,1)\n",
        "l1.weight.dtype"
      ],
      "metadata": {
        "colab": {
          "base_uri": "https://localhost:8080/"
        },
        "id": "5CqXyJYs6f-2",
        "outputId": "f0a22805-0eaa-4050-ecbb-a663f6633ebc"
      },
      "execution_count": null,
      "outputs": [
        {
          "output_type": "execute_result",
          "data": {
            "text/plain": [
              "torch.float32"
            ]
          },
          "metadata": {},
          "execution_count": 506
        }
      ]
    },
    {
      "cell_type": "code",
      "source": [
        "class model(nn.Module):\n",
        "  def __init__(self):\n",
        "    super().__init__()\n",
        "    self.l1 = nn.Linear(1,8)\n",
        "    self.l2 =  nn.Linear(8,1)\n",
        "    \n",
        "  \n",
        "  def forward(self,x):\n",
        "    x = x.to(self.l1.weight.dtype)  # Convert input tensor to the same data type as the weight matrix\n",
        "    out = F.relu(self.l2(F.relu(self.l1(x))))\n",
        "    return out\n"
      ],
      "metadata": {
        "id": "_SOHpTesuRR-"
      },
      "execution_count": null,
      "outputs": []
    },
    {
      "cell_type": "code",
      "execution_count": null,
      "metadata": {
        "id": "dkg5bz2emne2"
      },
      "outputs": [],
      "source": [
        "class CTrainer(Trainer):\n",
        "  def get_train_dataloader(self):\n",
        "    return torch.utils.data.DataLoader(ds,batch_size=4,shuffle=False)\n",
        "  \n",
        "  def get_eval_dataloader(self):\n",
        "    return torch.utils.data.DataLoader(ds,batch_size=4,shuffle=True)\n",
        "  \n",
        "  def compute_loss(self,model,inputs,returns_output=False):\n",
        "    y_hat = model(inputs.get(\"given\"))\n",
        "    y = inputs.get(\"labels\")\n",
        "    loss = torch.mean((y-y_hat)**2)\n",
        "\n",
        "    return loss\n",
        "  \n",
        "  \n",
        "  \n",
        "\n",
        "\n",
        "\n",
        "\n",
        "    \n",
        "\n",
        "\n"
      ]
    },
    {
      "cell_type": "code",
      "source": [
        "from transformers import TrainingArguments"
      ],
      "metadata": {
        "id": "kxWwtEH5txyL"
      },
      "execution_count": null,
      "outputs": []
    },
    {
      "cell_type": "code",
      "source": [
        "args = TrainingArguments(output_dir=\"test\",num_train_epochs=1)"
      ],
      "metadata": {
        "colab": {
          "base_uri": "https://localhost:8080/"
        },
        "id": "P9GVShin0x6g",
        "outputId": "eeb0136f-3cde-4c47-b715-19e00cdb2adf"
      },
      "execution_count": null,
      "outputs": [
        {
          "output_type": "stream",
          "name": "stderr",
          "text": [
            "PyTorch: setting up devices\n",
            "The default value for the training argument `--report_to` will change in v5 (from all installed integrations to none). In v5, you will need to use `--report_to all` to get the same behavior as now. You should start updating your code and make this info disappear :-).\n"
          ]
        }
      ]
    },
    {
      "cell_type": "code",
      "source": [
        "model = model()"
      ],
      "metadata": {
        "id": "AwS5Un5q1tug"
      },
      "execution_count": null,
      "outputs": []
    },
    {
      "cell_type": "code",
      "source": [
        "trainer = CTrainer(\n",
        "    model=model,\n",
        "    args=args,\n",
        "    train_dataset=ds,\n",
        "    eval_dataset=ds,\n",
        ")"
      ],
      "metadata": {
        "id": "YJgQtOS1070H"
      },
      "execution_count": null,
      "outputs": []
    },
    {
      "cell_type": "code",
      "source": [
        "trainer.train()"
      ],
      "metadata": {
        "id": "EhY_plvS1Xq6"
      },
      "execution_count": null,
      "outputs": []
    },
    {
      "cell_type": "code",
      "source": [
        "import torchvision.datasets as datasets"
      ],
      "metadata": {
        "id": "5kk49tLT1xVn"
      },
      "execution_count": null,
      "outputs": []
    },
    {
      "cell_type": "code",
      "source": [
        "class dataset(torch.utils.data.Dataset):\n",
        "  def __init__(self):\n",
        "    self.train_dataset = datasets.MNIST(root='contents', train=True, download=True)\n",
        "    self.train_dataset.data = self.train_dataset.data[:1000]\n",
        "    self.train_dataset.targets = self.train_dataset.targets[:1000]  \n",
        "\n",
        "  def __getitem__(self, idx):\n",
        "    img = self.train_dataset.data[idx]\n",
        "    img = img.unsqueeze(0)\n",
        "    label = self.train_dataset.targets[idx]\n",
        "    return {\"img\":img,\"label\":label}\n",
        "  \n",
        "  def __len__(self):\n",
        "    return 1000\n"
      ],
      "metadata": {
        "id": "L8h9N6-N7nJ5"
      },
      "execution_count": null,
      "outputs": []
    },
    {
      "cell_type": "code",
      "source": [
        "ds = dataset()"
      ],
      "metadata": {
        "id": "UJUDrq9M8j3G"
      },
      "execution_count": null,
      "outputs": []
    },
    {
      "cell_type": "code",
      "source": [
        "#porting dataset to hf dataset\n",
        "!pip install datasets\n",
        "from datasets import Dataset"
      ],
      "metadata": {
        "id": "TmYHbs5u8piL"
      },
      "execution_count": null,
      "outputs": []
    },
    {
      "cell_type": "code",
      "source": [
        "def gen():\n",
        "  for idx in ds:\n",
        "    yield {\"img\":idx[\"img\"],\"label\":idx[\"label\"]}"
      ],
      "metadata": {
        "id": "HQZlpfjp9zeX"
      },
      "execution_count": null,
      "outputs": []
    },
    {
      "cell_type": "code",
      "source": [
        "ds = Dataset.from_generator(gen)"
      ],
      "metadata": {
        "colab": {
          "base_uri": "https://localhost:8080/"
        },
        "id": "uiTInFDq-nJW",
        "outputId": "3f43bf97-4f64-4600-9b73-fa2237543133"
      },
      "execution_count": null,
      "outputs": [
        {
          "output_type": "stream",
          "name": "stderr",
          "text": [
            "WARNING:datasets.builder:Found cached dataset generator (/root/.cache/huggingface/datasets/generator/default-00e8ffe0453c8741/0.0.0)\n"
          ]
        }
      ]
    },
    {
      "cell_type": "code",
      "source": [
        "ds = ds.train_test_split(test_size=0.2)"
      ],
      "metadata": {
        "colab": {
          "base_uri": "https://localhost:8080/"
        },
        "id": "EkUicMyd-4sU",
        "outputId": "b5abe72c-9c47-4210-c148-41a616f43bcb"
      },
      "execution_count": null,
      "outputs": [
        {
          "output_type": "stream",
          "name": "stderr",
          "text": [
            "WARNING:datasets.arrow_dataset:Loading cached split indices for dataset at /root/.cache/huggingface/datasets/generator/default-00e8ffe0453c8741/0.0.0/cache-e8a18a33dd811c5e.arrow and /root/.cache/huggingface/datasets/generator/default-00e8ffe0453c8741/0.0.0/cache-f4140c7f11d9e7d7.arrow\n"
          ]
        }
      ]
    },
    {
      "cell_type": "code",
      "source": [
        "def preprocess_image(examples):\n",
        "  images = examples[\"img\"]\n",
        "  images = [np.array(image, dtype=np.uint8) for image in images]\n",
        "  return examples\n",
        "\n",
        "ds = ds.map(preprocess_image,batched=True)\n",
        "ds.set_format(type=\"torch\")"
      ],
      "metadata": {
        "colab": {
          "base_uri": "https://localhost:8080/"
        },
        "id": "SgnIQquj_m9C",
        "outputId": "30b1bc44-0fd7-453c-f093-8e5bcbcb65e0"
      },
      "execution_count": null,
      "outputs": [
        {
          "output_type": "stream",
          "name": "stderr",
          "text": [
            "WARNING:datasets.arrow_dataset:Loading cached processed dataset at /root/.cache/huggingface/datasets/generator/default-00e8ffe0453c8741/0.0.0/cache-580a0379d75c6c87.arrow\n",
            "WARNING:datasets.arrow_dataset:Loading cached processed dataset at /root/.cache/huggingface/datasets/generator/default-00e8ffe0453c8741/0.0.0/cache-b5d09537db5d9321.arrow\n"
          ]
        }
      ]
    },
    {
      "cell_type": "code",
      "source": [
        "from transformers import DefaultDataCollator\n",
        "\n",
        "class datacollator(DefaultDataCollator):\n",
        "  def __call__(self,features,return_tensors=None):\n",
        "    batch = {}\n",
        "    batch['imgs'] = features[\"img\"]\n",
        "    batch['labels'] = features[\"labels\"]\n",
        "    return batch\n",
        "\n",
        "datacollator = DefaultDataCollator()"
      ],
      "metadata": {
        "id": "Wk9jlC1xAj1t"
      },
      "execution_count": null,
      "outputs": []
    },
    {
      "cell_type": "code",
      "source": [
        "#####porting model#######\n",
        "#!pip install transformers"
      ],
      "metadata": {
        "id": "DN-g_oX7CVue"
      },
      "execution_count": null,
      "outputs": []
    },
    {
      "cell_type": "code",
      "source": [
        "TFout = transformers.modeling_outputs.SequenceClassifierOutput"
      ],
      "metadata": {
        "id": "XLiEyVZyDjNd"
      },
      "execution_count": null,
      "outputs": []
    },
    {
      "cell_type": "code",
      "source": [
        "import torch.nn as nn\n",
        "\n",
        "class CNN(nn.Module):\n",
        "    def __init__(self):\n",
        "        super(CNN, self).__init__()\n",
        "        self.conv1 = nn.Conv2d(1, 16, kernel_size=3, stride=1, padding=1)\n",
        "        self.relu = nn.ReLU()\n",
        "        self.pool = nn.MaxPool2d(kernel_size=2, stride=2)\n",
        "        self.avgpool = nn.AdaptiveAvgPool2d((14, 14))\n",
        "        self.fc1 = nn.Linear(3136, 10)  \n",
        "\n",
        "    def forward(self, x, labels=None):\n",
        "        x = self.conv1(x.float())\n",
        "        x = self.relu(x)\n",
        "        x = self.pool(x)\n",
        "        x = self.avgpool(x)\n",
        "        x = x.view(x.size(0), -1)\n",
        "        logits = self.fc1(x)\n",
        "        loss = None\n",
        "        if labels is not None:\n",
        "            loss_fn = nn.CrossEntropyLoss()\n",
        "            loss = loss_fn(logits, labels)\n",
        "        \n",
        "        return TFout(\n",
        "            loss=loss,\n",
        "            logits=logits,\n",
        "            hidden_states=None,\n",
        "            attentions=None\n",
        "        )\n",
        "\n",
        "model = CNN()\n"
      ],
      "metadata": {
        "id": "omvnSXxw_D1t"
      },
      "execution_count": null,
      "outputs": []
    },
    {
      "cell_type": "code",
      "source": [
        "args = TrainingArguments(\n",
        "    \"out_dir\",\n",
        "    learning_rate=2e-5,\n",
        "    per_device_train_batch_size=10,\n",
        "    per_device_eval_batch_size=4,\n",
        "    num_train_epochs=3,\n",
        "    weight_decay=0.01,\n",
        "    report_to=\"wandb\"\n",
        ")"
      ],
      "metadata": {
        "colab": {
          "base_uri": "https://localhost:8080/"
        },
        "id": "rat5XsJ0_Ktx",
        "outputId": "3aedd6e4-2937-4642-99a6-ed3836812ffb"
      },
      "execution_count": null,
      "outputs": [
        {
          "output_type": "stream",
          "name": "stderr",
          "text": [
            "PyTorch: setting up devices\n"
          ]
        }
      ]
    },
    {
      "cell_type": "code",
      "source": [
        "ct = CTrainer\n",
        "dl = torch.utils.data.DataLoader(ds[\"train\"],batch_size=2,shuffle=True)\n"
      ],
      "metadata": {
        "id": "8P0afmx3OGlG"
      },
      "execution_count": null,
      "outputs": []
    },
    {
      "cell_type": "code",
      "source": [
        "ds[\"train\"]"
      ],
      "metadata": {
        "colab": {
          "base_uri": "https://localhost:8080/"
        },
        "id": "MlmxJwsQkF1N",
        "outputId": "a67ab327-335f-4068-d51c-a5827be3f719"
      },
      "execution_count": null,
      "outputs": [
        {
          "output_type": "execute_result",
          "data": {
            "text/plain": [
              "Dataset({\n",
              "    features: ['img', 'label'],\n",
              "    num_rows: 800\n",
              "})"
            ]
          },
          "metadata": {},
          "execution_count": 528
        }
      ]
    },
    {
      "cell_type": "code",
      "source": [
        "#dc = datacollator(ds[\"train\"],return_tensors=\"pt\")##same things as collate_function in pytorch"
      ],
      "metadata": {
        "id": "0W1_VdoBiM1O"
      },
      "execution_count": null,
      "outputs": []
    },
    {
      "cell_type": "code",
      "source": [
        "#dc[\"img\"].shape"
      ],
      "metadata": {
        "id": "IL87Lei2ipfc"
      },
      "execution_count": null,
      "outputs": []
    },
    {
      "cell_type": "code",
      "source": [
        "# Assuming you have defined your DataLoader as `data_loader`\n",
        "for batch in dl:\n",
        "    #g = batch[\"img\"]\n",
        "    #logits = model(g, batch[\"labels\"])\n",
        "    print(batch[\"img\"].shape)\n",
        "    break\n"
      ],
      "metadata": {
        "colab": {
          "base_uri": "https://localhost:8080/"
        },
        "id": "utLCK4haOYZE",
        "outputId": "dbb63b85-c17e-46a3-f5fd-9f6fcd1dde5a"
      },
      "execution_count": null,
      "outputs": [
        {
          "output_type": "stream",
          "name": "stdout",
          "text": [
            "torch.Size([2, 1, 28, 28])\n"
          ]
        }
      ]
    },
    {
      "cell_type": "code",
      "source": [],
      "metadata": {
        "id": "lZ-Ef9S4iLmw"
      },
      "execution_count": null,
      "outputs": []
    },
    {
      "cell_type": "code",
      "source": [
        "for i in dl:\n",
        "  #g = torch.stack([im.get(\"img\") for im in ])\n",
        "  #print(g)\n",
        "  print(model(i[\"img\"],i[\"label\"]).loss)\n",
        "  "
      ],
      "metadata": {
        "id": "wZiRIo_IJ6L3"
      },
      "execution_count": null,
      "outputs": []
    },
    {
      "cell_type": "code",
      "source": [
        "!pip install wandb\n",
        "import wandb\n",
        "wandb.login()"
      ],
      "metadata": {
        "id": "ct3GGDGmqYpC"
      },
      "execution_count": null,
      "outputs": []
    },
    {
      "cell_type": "code",
      "source": [
        "# wandb.init(\n",
        "#     project=\"sHF\",\n",
        "#     name=\"shittyhf\",\n",
        "# )"
      ],
      "metadata": {
        "id": "FQcQhS1_sQQS"
      },
      "execution_count": null,
      "outputs": []
    },
    {
      "cell_type": "code",
      "source": [
        "class CTrainer(Trainer):\n",
        "\n",
        "  def get_train_dataloader(self):\n",
        "    return torch.utils.data.DataLoader(ds[\"train\"],batch_size=4,shuffle=True)\n",
        "  \n",
        "  def get_eval_dataloader(self):\n",
        "    return torch.utils.data.DataLoader(ds[\"test\"],batch_size=4,shuffle=True)\n",
        "\n",
        "  def compute_loss(self, model, inputs, return_outputs=False):\n",
        "    loss = model(i[\"img\"],i[\"label\"]).loss\n",
        "    logits = model(i[\"img\"],i[\"label\"]).logits\n",
        "    return (loss, outputs) if return_outputs else loss\n",
        "\n",
        "\n",
        "  \n",
        "trainer = CTrainer(\n",
        "    model=model,\n",
        "    args=args,\n",
        ")"
      ],
      "metadata": {
        "id": "WaxtqSvHFtpe"
      },
      "execution_count": null,
      "outputs": []
    },
    {
      "cell_type": "code",
      "source": [],
      "metadata": {
        "id": "mTU6qPHEqnW0"
      },
      "execution_count": null,
      "outputs": []
    },
    {
      "cell_type": "code",
      "source": [],
      "metadata": {
        "id": "wby2O7c6qnIO"
      },
      "execution_count": null,
      "outputs": []
    },
    {
      "cell_type": "code",
      "source": [
        "trainer.train()\n",
        "wandb.finish()"
      ],
      "metadata": {
        "colab": {
          "base_uri": "https://localhost:8080/",
          "height": 1000,
          "referenced_widgets": [
            "1a10a924a08c49f8a836603668204a04",
            "e6bdc255cacb414a9f9a108251e597d3",
            "28c7dc2ee2b74eeda8f36c4736679062",
            "219260cf2878414a815d68add8f9708e",
            "4367980f40bc41e99d12d3f5b0379141",
            "587752470b6846eab6d659dc829f0da4",
            "981caa11655a4faf9811efe22ea2ba8d",
            "ebcf31434b284b6e912728e184dd2ff4"
          ]
        },
        "id": "mmDkjRZmF8g5",
        "outputId": "a9bbf96d-94ba-4f6c-cb8f-d65463c889eb"
      },
      "execution_count": null,
      "outputs": [
        {
          "output_type": "stream",
          "name": "stderr",
          "text": [
            "***** Running training *****\n",
            "  Num examples = 800\n",
            "  Num Epochs = 3\n",
            "  Instantaneous batch size per device = 10\n",
            "  Total train batch size (w. parallel, distributed & accumulation) = 10\n",
            "  Gradient Accumulation steps = 1\n",
            "  Total optimization steps = 600\n",
            "  Number of trainable parameters = 31,530\n",
            "Automatic Weights & Biases logging enabled, to disable set os.environ[\"WANDB_DISABLED\"] = \"true\"\n"
          ]
        },
        {
          "output_type": "display_data",
          "data": {
            "text/plain": [
              "<IPython.core.display.HTML object>"
            ],
            "text/html": [
              "\n",
              "    <div>\n",
              "      \n",
              "      <progress value='600' max='600' style='width:300px; height:20px; vertical-align: middle;'></progress>\n",
              "      [600/600 00:27, Epoch 3/3]\n",
              "    </div>\n",
              "    <table border=\"1\" class=\"dataframe\">\n",
              "  <thead>\n",
              " <tr style=\"text-align: left;\">\n",
              "      <th>Step</th>\n",
              "      <th>Training Loss</th>\n",
              "    </tr>\n",
              "  </thead>\n",
              "  <tbody>\n",
              "    <tr>\n",
              "      <td>500</td>\n",
              "      <td>0.937600</td>\n",
              "    </tr>\n",
              "  </tbody>\n",
              "</table><p>"
            ]
          },
          "metadata": {}
        },
        {
          "output_type": "stream",
          "name": "stderr",
          "text": [
            "Saving model checkpoint to out_dir/checkpoint-500\n",
            "Trainer.model is not a `PreTrainedModel`, only saving its state dict.\n",
            "\n",
            "\n",
            "Training completed. Do not forget to share your model on huggingface.co/models =)\n",
            "\n",
            "\n"
          ]
        },
        {
          "output_type": "display_data",
          "data": {
            "text/plain": [
              "<IPython.core.display.HTML object>"
            ],
            "text/html": [
              "Waiting for W&B process to finish... <strong style=\"color:green\">(success).</strong>"
            ]
          },
          "metadata": {}
        },
        {
          "output_type": "display_data",
          "data": {
            "text/plain": [
              "VBox(children=(Label(value='0.001 MB of 0.001 MB uploaded (0.000 MB deduped)\\r'), FloatProgress(value=1.0, max…"
            ],
            "application/vnd.jupyter.widget-view+json": {
              "version_major": 2,
              "version_minor": 0,
              "model_id": "1a10a924a08c49f8a836603668204a04"
            }
          },
          "metadata": {}
        },
        {
          "output_type": "display_data",
          "data": {
            "text/plain": [
              "<IPython.core.display.HTML object>"
            ],
            "text/html": [
              "<style>\n",
              "    table.wandb td:nth-child(1) { padding: 0 10px; text-align: left ; width: auto;} td:nth-child(2) {text-align: left ; width: 100%}\n",
              "    .wandb-row { display: flex; flex-direction: row; flex-wrap: wrap; justify-content: flex-start; width: 100% }\n",
              "    .wandb-col { display: flex; flex-direction: column; flex-basis: 100%; flex: 1; padding: 10px; }\n",
              "    </style>\n",
              "<div class=\"wandb-row\"><div class=\"wandb-col\"><h3>Run history:</h3><br/><table class=\"wandb\"><tr><td>real_loss</td><td>█▆▁▁▁▁▁▁▁▁▁▁▁▁▁▁▁▁▁▁▁▁▁▁▁▁▁▁▁▁▁▁▁▁▁▁▁▁▁▁</td></tr><tr><td>train/epoch</td><td>▁█</td></tr><tr><td>train/global_step</td><td>▁▁▁▁▁▁▁▁▁▁▁▁▁▁▁▁▁▁▁▁▁▁▁▁▁▁▁▁▁▁▁▁▁▁▁▁▁▁▁█</td></tr><tr><td>train/learning_rate</td><td>▁</td></tr><tr><td>train/loss</td><td>▁</td></tr><tr><td>train/total_flos</td><td>▁</td></tr><tr><td>train/train_loss</td><td>▁</td></tr><tr><td>train/train_runtime</td><td>▁</td></tr><tr><td>train/train_samples_per_second</td><td>▁</td></tr><tr><td>train/train_steps_per_second</td><td>▁</td></tr></table><br/></div><div class=\"wandb-col\"><h3>Run summary:</h3><br/><table class=\"wandb\"><tr><td>real_loss</td><td>0.0</td></tr><tr><td>train/epoch</td><td>3.0</td></tr><tr><td>train/global_step</td><td>600</td></tr><tr><td>train/learning_rate</td><td>0.0</td></tr><tr><td>train/loss</td><td>0.9376</td></tr><tr><td>train/total_flos</td><td>0.0</td></tr><tr><td>train/train_loss</td><td>0.78136</td></tr><tr><td>train/train_runtime</td><td>27.7009</td></tr><tr><td>train/train_samples_per_second</td><td>86.64</td></tr><tr><td>train/train_steps_per_second</td><td>21.66</td></tr></table><br/></div></div>"
            ]
          },
          "metadata": {}
        },
        {
          "output_type": "display_data",
          "data": {
            "text/plain": [
              "<IPython.core.display.HTML object>"
            ],
            "text/html": [
              " View run <strong style=\"color:#cdcd00\">firm-wildflower-4</strong> at: <a href='https://wandb.ai/shivasinghbagri/huggingface/runs/fzcgg6et' target=\"_blank\">https://wandb.ai/shivasinghbagri/huggingface/runs/fzcgg6et</a><br/>Synced 5 W&B file(s), 0 media file(s), 0 artifact file(s) and 0 other file(s)"
            ]
          },
          "metadata": {}
        },
        {
          "output_type": "display_data",
          "data": {
            "text/plain": [
              "<IPython.core.display.HTML object>"
            ],
            "text/html": [
              "Find logs at: <code>./wandb/run-20230601_161249-fzcgg6et/logs</code>"
            ]
          },
          "metadata": {}
        }
      ]
    },
    {
      "cell_type": "code",
      "source": [
        "\n"
      ],
      "metadata": {
        "id": "DmWlWlWAF_2x"
      },
      "execution_count": null,
      "outputs": []
    },
    {
      "cell_type": "code",
      "source": [],
      "metadata": {
        "id": "51Gyqfyup9Dk"
      },
      "execution_count": null,
      "outputs": []
    }
  ]
}