{
  "nbformat": 4,
  "nbformat_minor": 0,
  "metadata": {
    "colab": {
      "provenance": [],
      "authorship_tag": "ABX9TyO0xSMyvWiEXRjfwbbvTh3G",
      "include_colab_link": true
    },
    "kernelspec": {
      "name": "python3",
      "display_name": "Python 3"
    },
    "language_info": {
      "name": "python"
    }
  },
  "cells": [
    {
      "cell_type": "markdown",
      "metadata": {
        "id": "view-in-github",
        "colab_type": "text"
      },
      "source": [
        "<a href=\"https://colab.research.google.com/github/Autobot37/jupyter/blob/main/SingleLayerBackProp.ipynb\" target=\"_parent\"><img src=\"https://colab.research.google.com/assets/colab-badge.svg\" alt=\"Open In Colab\"/></a>"
      ]
    },
    {
      "cell_type": "code",
      "execution_count": 84,
      "metadata": {
        "id": "WTsXbfu9-IOl"
      },
      "outputs": [],
      "source": [
        "import numpy as np\n",
        "from collections import defaultdict"
      ]
    },
    {
      "cell_type": "code",
      "source": [
        "class Node:\n",
        "  def __init__(self,value,grad=[]):\n",
        "    self.grad = grad  ##########local gradients to joint a graph\n",
        "    self.value = value\n",
        "\n",
        "  def __add__(self,other):\n",
        "      assert(other,Node)\n",
        "      c = self.value + other.value\n",
        "      grad = [(self,1),(other,1)]\n",
        "      return Node(c,grad)\n",
        "\n",
        "  def __mul__(self,other):\n",
        "      assert(other,Node)\n",
        "      c = self.value * other.value\n",
        "      grad = [(self,other.value),(other,self.value)]\n",
        "      return Node(c,grad)\n",
        "  \n",
        "  def __sub__(self,other):\n",
        "    return self + neg(other)\n",
        "\n",
        "  def __truediv__(self,other):\n",
        "    return self*inv(other)\n",
        "\n",
        "\n",
        "def neg(a):\n",
        "    value = -1 * a.value\n",
        "    local_gradients = (\n",
        "        (a, -1),\n",
        "    )\n",
        "    return Node(value, local_gradients)\n",
        "\n",
        "def inv(self):\n",
        "  assert(self,Node)\n",
        "  val = 1/self.value\n",
        "  grad = [(self,-1/self.value**2)]\n",
        "  return Node(val,grad)\n",
        "\n",
        "\n",
        "def get_gradient(variable):\n",
        "  gradients = defaultdict(lambda:0)\n",
        "  def compute(variable,pathval):\n",
        "                            ##gets gradient for all variables connected to graph \n",
        "    for child,grad in variable.grad:\n",
        "      pathval = pathval*grad\n",
        "      gradients[child] += pathval\n",
        "      compute(child,pathval)\n",
        "  compute(variable,pathval=1)\n",
        "  return gradients\n",
        "\n",
        "\n",
        "\n",
        "\n",
        "\n",
        "\n",
        "\n",
        "  \n",
        "\n"
      ],
      "metadata": {
        "colab": {
          "base_uri": "https://localhost:8080/"
        },
        "id": "z6ochwwWVZGq",
        "outputId": "8380956b-1b3f-4b63-c577-633527799c12"
      },
      "execution_count": 101,
      "outputs": [
        {
          "output_type": "stream",
          "name": "stderr",
          "text": [
            "<>:7: SyntaxWarning: assertion is always true, perhaps remove parentheses?\n",
            "<>:13: SyntaxWarning: assertion is always true, perhaps remove parentheses?\n",
            "<>:33: SyntaxWarning: assertion is always true, perhaps remove parentheses?\n",
            "<>:7: SyntaxWarning: assertion is always true, perhaps remove parentheses?\n",
            "<>:13: SyntaxWarning: assertion is always true, perhaps remove parentheses?\n",
            "<>:33: SyntaxWarning: assertion is always true, perhaps remove parentheses?\n",
            "<ipython-input-101-78c09cb39104>:7: SyntaxWarning: assertion is always true, perhaps remove parentheses?\n",
            "  assert(other,Node)\n",
            "<ipython-input-101-78c09cb39104>:13: SyntaxWarning: assertion is always true, perhaps remove parentheses?\n",
            "  assert(other,Node)\n",
            "<ipython-input-101-78c09cb39104>:33: SyntaxWarning: assertion is always true, perhaps remove parentheses?\n",
            "  assert(self,Node)\n"
          ]
        }
      ]
    },
    {
      "cell_type": "code",
      "source": [
        "a = Node(4)\n",
        "b = Node(2)"
      ],
      "metadata": {
        "id": "bSF76K8VeWLD"
      },
      "execution_count": 102,
      "outputs": []
    },
    {
      "cell_type": "code",
      "source": [
        "c = inv(a)"
      ],
      "metadata": {
        "id": "fUtU5l9QfArx"
      },
      "execution_count": 103,
      "outputs": []
    },
    {
      "cell_type": "code",
      "source": [
        "d = c*b"
      ],
      "metadata": {
        "id": "I8Lfjn0uiOhH"
      },
      "execution_count": 104,
      "outputs": []
    },
    {
      "cell_type": "code",
      "source": [
        "d.value,d.grad"
      ],
      "metadata": {
        "colab": {
          "base_uri": "https://localhost:8080/"
        },
        "id": "lAF3VIb1iHAt",
        "outputId": "87434165-265e-4ef1-b6f6-1aaa447c4c9e"
      },
      "execution_count": 124,
      "outputs": [
        {
          "output_type": "execute_result",
          "data": {
            "text/plain": [
              "(0.5,\n",
              " [(<__main__.Node at 0x7f1327428790>, 2),\n",
              "  (<__main__.Node at 0x7f1327606e80>, 0.25)])"
            ]
          },
          "metadata": {},
          "execution_count": 124
        }
      ]
    },
    {
      "cell_type": "code",
      "source": [
        "c = (a/b).grad"
      ],
      "metadata": {
        "id": "LRXlVe8reYzw"
      },
      "execution_count": 125,
      "outputs": []
    },
    {
      "cell_type": "code",
      "source": [
        "c[1]"
      ],
      "metadata": {
        "colab": {
          "base_uri": "https://localhost:8080/"
        },
        "id": "4rEDwhXqhGOb",
        "outputId": "fa6830e9-e964-4bd9-e7fe-b3fa227b175c"
      },
      "execution_count": 126,
      "outputs": [
        {
          "output_type": "execute_result",
          "data": {
            "text/plain": [
              "(<__main__.Node at 0x7f13273bee20>, 4)"
            ]
          },
          "metadata": {},
          "execution_count": 126
        }
      ]
    },
    {
      "cell_type": "code",
      "source": [
        "def f(a, b):\n",
        "    return (a / b - a) * (b / a + a + b) * (a - b)\n",
        "\n",
        "a = Node(1)\n",
        "b = Node(1)\n",
        "y = f(a, b)\n",
        "\n",
        "gradients = get_gradient(y)"
      ],
      "metadata": {
        "id": "9QNuB6TCWwzI"
      },
      "execution_count": 127,
      "outputs": []
    },
    {
      "cell_type": "code",
      "source": [
        "gradients[b] ####dy/da"
      ],
      "metadata": {
        "colab": {
          "base_uri": "https://localhost:8080/"
        },
        "id": "ki-PMbiAXGOl",
        "outputId": "07361939-1c09-42a0-e923-b74d1aae29ee"
      },
      "execution_count": 106,
      "outputs": [
        {
          "output_type": "execute_result",
          "data": {
            "text/plain": [
              "0"
            ]
          },
          "metadata": {},
          "execution_count": 106
        }
      ]
    },
    {
      "cell_type": "code",
      "source": [
        "to_var = np.vectorize(lambda x:Node(x))\n",
        "to_val = np.vectorize(lambda x:x.val)\n",
        "\n"
      ],
      "metadata": {
        "id": "QhOaVk3qXZ3f"
      },
      "execution_count": 107,
      "outputs": []
    },
    {
      "cell_type": "code",
      "source": [
        "\n",
        "input_size = 50\n",
        "output_size = 10\n",
        "lrate = 0.001\n",
        "x = to_var(np.random.random(input_size))\n",
        "y_true = to_var(np.random.random(output_size))\n",
        "weights = to_var(np.random.random((input_size, output_size)))"
      ],
      "metadata": {
        "id": "WlMAGLMakC1Q"
      },
      "execution_count": 108,
      "outputs": []
    },
    {
      "cell_type": "code",
      "source": [
        "def update(weights,gradients,lr):\n",
        "  for _,w in np.ndenumerate(weights):\n",
        "    w.value -= lr*gradients[w]\n",
        "\n"
      ],
      "metadata": {
        "id": "3pXNAyvpk2Oy"
      },
      "execution_count": 116,
      "outputs": []
    },
    {
      "cell_type": "code",
      "source": [
        "loss_vals = []\n",
        "for _ in range(100):\n",
        "  y_pred = np.dot(x,weights)\n",
        "  loss = np.sum((y_pred-y_true)*(y_pred-y_true))\n",
        "  loss_vals.append(loss.value)\n",
        "  gradients = get_gradient(loss)\n",
        "  update(weights,gradients,0.1)"
      ],
      "metadata": {
        "id": "zPN5GtDwlejw"
      },
      "execution_count": 128,
      "outputs": []
    },
    {
      "cell_type": "code",
      "source": [
        "loss_vals"
      ],
      "metadata": {
        "id": "gCEff1J4mHF5"
      },
      "execution_count": null,
      "outputs": []
    },
    {
      "cell_type": "code",
      "source": [],
      "metadata": {
        "id": "MD3wDO6wpaho"
      },
      "execution_count": null,
      "outputs": []
    }
  ]
}