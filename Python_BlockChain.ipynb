{
 "cells": [
  {
   "cell_type": "code",
   "execution_count": 1,
   "id": "d35fa7b5",
   "metadata": {},
   "outputs": [],
   "source": [
    "######this is structured according to @karpathy with additional functionality for novices like myself. tysm.######### "
   ]
  },
  {
   "cell_type": "code",
   "execution_count": 2,
   "id": "23d4b2f1",
   "metadata": {},
   "outputs": [],
   "source": [
    "import matplotlib.pyplot as plt\n",
    "%matplotlib inline"
   ]
  },
  {
   "cell_type": "code",
   "execution_count": null,
   "id": "1749e937",
   "metadata": {},
   "outputs": [],
   "source": [
    "#1- we will use Elliptic curve cruptograph instead of RSA\n",
    "\n"
   ]
  },
  {
   "cell_type": "code",
   "execution_count": 5,
   "id": "0404968e",
   "metadata": {},
   "outputs": [
    {
     "data": {
      "text/plain": [
       "[67, 76, 79, 85, 68]"
      ]
     },
     "execution_count": 5,
     "metadata": {},
     "output_type": "execute_result"
    }
   ],
   "source": [
    "#encryption by RSA\n",
    "\n",
    "word = \"CLOUD\"\n",
    "int_word= []\n",
    "for i in word:\n",
    "    int_word.append(ord(i))\n",
    "    \n",
    "int_word\n",
    "    "
   ]
  },
  {
   "cell_type": "code",
   "execution_count": 17,
   "id": "0cd34fe5",
   "metadata": {},
   "outputs": [],
   "source": [
    "#for RSA \n",
    "# we have to take two prime numbers to defineing max\n",
    "#let's take max_num = 13*7\n",
    "max_num = 13*7\n",
    "\n",
    "#now take public_encryption number like 5\n",
    "pub_enc = 5\n",
    "\n",
    "#public key is available to anyone but private key not , private key can be defined as a function\n",
    "#of two numbers (13,7) above.it will be created by extended euclidean algorithm.\n",
    "\n",
    "#additionaly it will also compute x,y for ax+by = gcd(a,b)\n",
    "#this algorithm below recursively apply  division until remainder is zero\n",
    "def extended_euclidean_algorithm(a,b):\n",
    "    if a==0:\n",
    "        return (b,0,1)\n",
    "    else:\n",
    "        gcd,x1,y1 = extended_euclidean_algorithm(b%a, a)\n",
    "        \n",
    "        y = x1\n",
    "        x = y1-(b//a)*x1\n",
    "        return (gcd,x,y)\n",
    "            \n",
    "                "
   ]
  },
  {
   "cell_type": "code",
   "execution_count": 21,
   "id": "fd01996c",
   "metadata": {},
   "outputs": [],
   "source": [
    "#now private pair\n",
    "priv_pair = 29 #by EEA "
   ]
  },
  {
   "cell_type": "code",
   "execution_count": 44,
   "id": "fee6ef56",
   "metadata": {},
   "outputs": [],
   "source": [
    "#now for encrypt multiply desired number by public key and\n",
    "#to decrypt multiply by priv key\n",
    "\n",
    "#for C in CLOUD\n",
    "\n",
    "def encrypt(word):\n",
    "    result = 1\n",
    "    for i in range(1,pub_enc+1):\n",
    "        result = ord(word)*result\n",
    "        if result > max_num:\n",
    "            result = result % max_num\n",
    "    return result"
   ]
  },
  {
   "cell_type": "code",
   "execution_count": 45,
   "id": "71f10395",
   "metadata": {},
   "outputs": [
    {
     "data": {
      "text/plain": [
       "58"
      ]
     },
     "execution_count": 45,
     "metadata": {},
     "output_type": "execute_result"
    }
   ],
   "source": [
    "encrypt('C')"
   ]
  },
  {
   "cell_type": "code",
   "execution_count": 49,
   "id": "971a18f5",
   "metadata": {},
   "outputs": [
    {
     "name": "stdout",
     "output_type": "stream",
     "text": [
      "58\n",
      "20\n",
      "53\n",
      "50\n",
      "87\n"
     ]
    }
   ],
   "source": [
    "#similarly for CLOUD\n",
    "for i in \"CLOUD\":\n",
    "    print(encrypt(i))"
   ]
  },
  {
   "cell_type": "code",
   "execution_count": 51,
   "id": "32e23525",
   "metadata": {},
   "outputs": [],
   "source": [
    "def decrypt(num):\n",
    "    result = 1\n",
    "    for i in range(1,priv_pair+1):\n",
    "        result = (num)*result\n",
    "        if result > max_num:\n",
    "            result = result % max_num\n",
    "    return result\n",
    "    "
   ]
  },
  {
   "cell_type": "code",
   "execution_count": 53,
   "id": "4ca983d4",
   "metadata": {},
   "outputs": [
    {
     "name": "stdout",
     "output_type": "stream",
     "text": [
      "67\n"
     ]
    },
    {
     "data": {
      "text/plain": [
       "(67, None)"
      ]
     },
     "execution_count": 53,
     "metadata": {},
     "output_type": "execute_result"
    }
   ],
   "source": [
    "decrypt(58),print(ord('C')) ##yay we decrypt it thats RSA"
   ]
  },
  {
   "cell_type": "code",
   "execution_count": 57,
   "id": "99b3fe62",
   "metadata": {},
   "outputs": [],
   "source": [
    "import numpy as np"
   ]
  },
  {
   "cell_type": "code",
   "execution_count": 66,
   "id": "726b21c0",
   "metadata": {},
   "outputs": [
    {
     "data": {
      "text/plain": [
       "[<matplotlib.lines.Line2D at 0x29058464ee0>]"
      ]
     },
     "execution_count": 66,
     "metadata": {},
     "output_type": "execute_result"
    },
    {
     "data": {
      "image/png": "[encoded data removed]",
      "text/plain": [
       "<Figure size 640x480 with 1 Axes>"
      ]
     },
     "metadata": {},
     "output_type": "display_data"
    }
   ],
   "source": [
    "#####now on elliptic curves\n",
    "# generally y*y = ax+b+x**3\n",
    "x = np.linspace(-100,100,100)\n",
    "y = (x**3+x+1)\n",
    "plt.plot(x**3+x+1,y*y)\n",
    "plt.plot(x**3,y*y)\n"
   ]
  },
  {
   "cell_type": "code",
   "execution_count": 70,
   "id": "4f72ef18",
   "metadata": {},
   "outputs": [],
   "source": [
    "##specifically we are using secp256k1 curve\n",
    "\n",
    "#euqation is y*y = x**3 + 7 and it has nice matheatical properties.\n",
    "\n",
    "from dataclasses import dataclass # dataclass is for creating custom classes in python\n",
    "\n",
    "@dataclass\n",
    "class Curve:\n",
    "    \n",
    "    p: int # prime modulo of finite field\n",
    "    a: int \n",
    "    b: int\n",
    "        \n",
    "# secp256k1 uses a = 0, b = 7, so we're dealing with the curve y^2 = x^3 + 7 (mod p)\n",
    "\n",
    "bitcoin_curve = Curve(\n",
    "       p = 0xFFFFFFFFFFFFFFFFFFFFFFFFFFFFFFFFFFFFFFFFFFFFFFFFFFFFFFFEFFFFFC2F,\n",
    "       a = 0x0000000000000000000000000000000000000000000000000000000000000000,\n",
    "       b =   0x0000000000000000000000000000000000000000000000000000000000000007)\n",
    "#above p is big prime number and constant for a = 0,b=7 in hexadecimals.\n",
    "\n",
    "    \n",
    "\n"
   ]
  },
  {
   "cell_type": "code",
   "execution_count": 72,
   "id": "4422250d",
   "metadata": {},
   "outputs": [],
   "source": [
    "#generator point\n",
    "\n",
    "@dataclass\n",
    "class Point:\n",
    "    #x,y on a curve\n",
    "    curve: Curve\n",
    "    x: int\n",
    "    y: int\n",
    "\n",
    "\n",
    "G = Point(bitcoin_curve,\n",
    "         x = 0x79BE667EF9DCBBAC55A06295CE870B07029BFCDB2DCE28D959F2815B16F81798,\n",
    "         y = 0x483ada7726a3c4655da4fbfc0e1108a8fd17b448a68554199c47d08ffb10d4b8,)\n",
    "#above are also constants x and y "
   ]
  },
  {
   "cell_type": "code",
   "execution_count": 74,
   "id": "b2f1c6d1",
   "metadata": {},
   "outputs": [
    {
     "name": "stdout",
     "output_type": "stream",
     "text": [
      "it is\n"
     ]
    }
   ],
   "source": [
    "#generator point is just a random point on curve \n",
    "\n",
    "if (G.y**2 - G.x**3 - 7) % bitcoin_curve.p == 0: #modular finite field\n",
    "    print(\"it is\")"
   ]
  },
  {
   "cell_type": "code",
   "execution_count": 75,
   "id": "05d2032b",
   "metadata": {},
   "outputs": [],
   "source": [
    "#order n is 0*G = n*G = INFINITY\n",
    "\n",
    "@dataclass\n",
    "\n",
    "class Generator:\n",
    "    \n",
    "    G:Point\n",
    "    n: int\n",
    "        \n",
    "bitcoin_gen = Generator(G=G,\n",
    "                       n = 0xFFFFFFFFFFFFFFFFFFFFFFFFFFFFFFFEBAAEDCE6AF48A03BBFD25E8CD0364141)\n"
   ]
  },
  {
   "cell_type": "code",
   "execution_count": 128,
   "id": "a34d1302",
   "metadata": {},
   "outputs": [],
   "source": [
    "##secretkey/private key is just random integer from 1 to n where n is order of Generator Point.\n",
    "\n",
    "bitcoin_gen.n \n",
    "# lets take a this4\n",
    "secret_key = 22265090479312778178772228083027296664144"
   ]
  },
  {
   "cell_type": "code",
   "execution_count": 129,
   "id": "79c3112b",
   "metadata": {},
   "outputs": [],
   "source": [
    "#public_key is G*(secret_key) times\n",
    "#now Generator is Point and key is int so we have to define addition operator over curve\n",
    "\n",
    "INF = Point(None, None, None) # special point at \"infinity\", kind of like a zero\n",
    "\n",
    "def extended_euclidean_algorithm(a, b):\n",
    "    \"\"\"\n",
    "    Returns (gcd, x, y) s.t. a * x + b * y == gcd\n",
    "    This function implements the extended Euclidean\n",
    "    algorithm and runs in O(log b) in the worst case,\n",
    "    taken from Andrej Karpathy!.\n",
    "    \"\"\"\n",
    "    old_r, r = a, b\n",
    "    old_s, s = 1, 0\n",
    "    old_t, t = 0, 1\n",
    "    while r != 0:\n",
    "        quotient = old_r // r\n",
    "        old_r, r = r, old_r - quotient * r\n",
    "        old_s, s = s, old_s - quotient * s\n",
    "        old_t, t = t, old_t - quotient * t\n",
    "    return old_r, old_s, old_t\n",
    "\n",
    "def inv(n, p):\n",
    "    \"\"\" returns modular multiplicate inverse m s.t. (n * m) % p == 1 \"\"\"\n",
    "    gcd, x, y = extended_euclidean_algorithm(n, p) # pylint: disable=unused-variable\n",
    "    return x % p\n",
    "\n",
    "def elliptic_curve_addition(self, other:Point) -> Point:\n",
    "    if self == INF:\n",
    "        return other\n",
    "    if other == INF:\n",
    "        return self\n",
    "    \n",
    "    # handle special case of P + (-P) = 0\n",
    "    if self.x == other.x and self.y != other.y:\n",
    "        return INF\n",
    "    \n",
    "    #otherwise slope\n",
    "    \n",
    "    if self.x == other.x:\n",
    "        m = (3 * self.x**2 + self.curve.a) * inv(2 * self.y, self.curve.p)\n",
    "        \n",
    "    else:\n",
    "        m = (self.y - other.y) * inv(self.x - other.x, self.curve.p)\n",
    "    \n",
    "    \n",
    "      # compute the new point\n",
    "    rx = (m**2 - self.x - other.x) % self.curve.p\n",
    "    ry = (-(m*(rx - self.x) + self.y)) % self.curve.p\n",
    "    return Point(self.curve, rx, ry)\n",
    "\n",
    "\n",
    "        \n",
    "    \n"
   ]
  },
  {
   "cell_type": "code",
   "execution_count": 130,
   "id": "6ce72b4c",
   "metadata": {},
   "outputs": [
    {
     "name": "stdout",
     "output_type": "stream",
     "text": [
      "16\n"
     ]
    }
   ],
   "source": [
    "# for python default add defines as __add__\n",
    "\n",
    "print((7).__add__(9)) #16\n",
    "\n",
    "#we define add method for point to curve addition\n",
    "\n",
    "Point.__add__ = elliptic_curve_addition"
   ]
  },
  {
   "cell_type": "code",
   "execution_count": 132,
   "id": "45c97da1",
   "metadata": {},
   "outputs": [],
   "source": [
    "#if secret key = 1 , public key =G\n",
    "#if secret key = 2 , public key =G+G or 2G\n",
    "\n",
    "#also secret_key should have to btw 1 and order n \n",
    "#and public key should have to be in curve.\n",
    "\n"
   ]
  },
  {
   "cell_type": "code",
   "execution_count": 113,
   "id": "b14cb407",
   "metadata": {},
   "outputs": [
    {
     "name": "stdout",
     "output_type": "stream",
     "text": [
      "True\n",
      "True\n",
      "True\n"
     ]
    }
   ],
   "source": [
    "print(G == 1*G)\n",
    "print(G + G == 2*G)\n",
    "print(G + G + G == 3*G)"
   ]
  },
  {
   "cell_type": "code",
   "execution_count": 133,
   "id": "a27b1e4b",
   "metadata": {},
   "outputs": [
    {
     "name": "stdout",
     "output_type": "stream",
     "text": [
      "True\n",
      "True\n",
      "True\n"
     ]
    }
   ],
   "source": [
    "def double_and_add(point:Point, k: int) -> Point:\n",
    "    #assert isinstance(k, int) and k >= 0\n",
    "    result = INF\n",
    "    append = point\n",
    "    while k:\n",
    "        if k & 1:\n",
    "            result += append\n",
    "        append += append\n",
    "        k >>= 1\n",
    "    return result\n",
    "\n",
    "# monkey patch double and add into the Point class for convenience\n",
    "Point.__rmul__ = double_and_add\n",
    "\n",
    "# \"verify\" correctness\n",
    "print(G == 1*G)\n",
    "print(G + G == 2*G)\n",
    "print(G + G + G == 3*G)"
   ]
  },
  {
   "cell_type": "code",
   "execution_count": 169,
   "id": "8f3fe04b",
   "metadata": {},
   "outputs": [
    {
     "data": {
      "text/plain": [
       "(83998262154709529558614902604110599582969848537757180553516367057821848015989,\n",
       " 37676469766173670826348691885774454391218658108212372128812329274086400588247)"
      ]
     },
     "execution_count": 169,
     "metadata": {},
     "output_type": "execute_result"
    }
   ],
   "source": [
    "public_key = secret_key*G\n",
    "\n",
    "public_key.x,public_key.y\n"
   ]
  },
  {
   "cell_type": "code",
   "execution_count": 171,
   "id": "3be16c0f",
   "metadata": {},
   "outputs": [],
   "source": [
    "def gen_ripemd160_with_variable_scope_protector_to_not_pollute_global_namespace():\n",
    "\n",
    "    import sys\n",
    "    import struct\n",
    "\n",
    "    # -----------------------------------------------------------------------------\n",
    "    # public interface\n",
    "\n",
    "    def ripemd160(b: bytes) -> bytes:\n",
    "        \"\"\" simple wrapper for a simpler API to this hash function, just bytes to bytes \"\"\"\n",
    "        ctx = RMDContext()\n",
    "        RMD160Update(ctx, b, len(b))\n",
    "        digest = RMD160Final(ctx)\n",
    "        return digest\n",
    "\n",
    "    # -----------------------------------------------------------------------------\n",
    "\n",
    "    class RMDContext:\n",
    "        def __init__(self):\n",
    "            self.state = [0x67452301, 0xEFCDAB89, 0x98BADCFE, 0x10325476, 0xC3D2E1F0] # uint32\n",
    "            self.count = 0 # uint64\n",
    "            self.buffer = [0]*64 # uchar\n",
    "\n",
    "    def RMD160Update(ctx, inp, inplen):\n",
    "        have = int((ctx.count // 8) % 64)\n",
    "        inplen = int(inplen)\n",
    "        need = 64 - have\n",
    "        ctx.count += 8 * inplen\n",
    "        off = 0\n",
    "        if inplen >= need:\n",
    "            if have:\n",
    "                for i in range(need):\n",
    "                    ctx.buffer[have+i] = inp[i]\n",
    "                RMD160Transform(ctx.state, ctx.buffer)\n",
    "                off = need\n",
    "                have = 0\n",
    "            while off + 64 <= inplen:\n",
    "                RMD160Transform(ctx.state, inp[off:])\n",
    "                off += 64\n",
    "        if off < inplen:\n",
    "            for i in range(inplen - off):\n",
    "                ctx.buffer[have+i] = inp[off+i]\n",
    "\n",
    "    def RMD160Final(ctx):\n",
    "        size = struct.pack(\"<Q\", ctx.count)\n",
    "        padlen = 64 - ((ctx.count // 8) % 64)\n",
    "        if padlen < 1 + 8:\n",
    "            padlen += 64\n",
    "        RMD160Update(ctx, PADDING, padlen-8)\n",
    "        RMD160Update(ctx, size, 8)\n",
    "        return struct.pack(\"<5L\", *ctx.state)\n",
    "\n",
    "    # -----------------------------------------------------------------------------\n",
    "\n",
    "    K0 = 0x00000000\n",
    "    K1 = 0x5A827999\n",
    "    K2 = 0x6ED9EBA1\n",
    "    K3 = 0x8F1BBCDC\n",
    "    K4 = 0xA953FD4E\n",
    "    KK0 = 0x50A28BE6\n",
    "    KK1 = 0x5C4DD124\n",
    "    KK2 = 0x6D703EF3\n",
    "    KK3 = 0x7A6D76E9\n",
    "    KK4 = 0x00000000\n",
    "\n",
    "    PADDING = [0x80] + [0]*63\n",
    "\n",
    "    def ROL(n, x):\n",
    "        return ((x << n) & 0xffffffff) | (x >> (32 - n))\n",
    "\n",
    "    def F0(x, y, z):\n",
    "        return x ^ y ^ z\n",
    "\n",
    "    def F1(x, y, z):\n",
    "        return (x & y) | (((~x) % 0x100000000) & z)\n",
    "\n",
    "    def F2(x, y, z):\n",
    "        return (x | ((~y) % 0x100000000)) ^ z\n",
    "\n",
    "    def F3(x, y, z):\n",
    "        return (x & z) | (((~z) % 0x100000000) & y)\n",
    "\n",
    "    def F4(x, y, z):\n",
    "        return x ^ (y | ((~z) % 0x100000000))\n",
    "\n",
    "    def R(a, b, c, d, e, Fj, Kj, sj, rj, X):\n",
    "        a = ROL(sj, (a + Fj(b, c, d) + X[rj] + Kj) % 0x100000000) + e\n",
    "        c = ROL(10, c)\n",
    "        return a % 0x100000000, c\n",
    "\n",
    "    def RMD160Transform(state, block): #uint32 state[5], uchar block[64]\n",
    "\n",
    "        x = [0]*16\n",
    "        assert sys.byteorder == 'little', \"Only little endian is supported atm for RIPEMD160\"\n",
    "        x = struct.unpack('<16L', bytes(block[0:64]))\n",
    "\n",
    "        a = state[0]\n",
    "        b = state[1]\n",
    "        c = state[2]\n",
    "        d = state[3]\n",
    "        e = state[4]\n",
    "\n",
    "        #/* Round 1 */\n",
    "        a, c = R(a, b, c, d, e, F0, K0, 11,  0, x)\n",
    "        e, b = R(e, a, b, c, d, F0, K0, 14,  1, x)\n",
    "        d, a = R(d, e, a, b, c, F0, K0, 15,  2, x)\n",
    "        c, e = R(c, d, e, a, b, F0, K0, 12,  3, x)\n",
    "        b, d = R(b, c, d, e, a, F0, K0,  5,  4, x)\n",
    "        a, c = R(a, b, c, d, e, F0, K0,  8,  5, x)\n",
    "        e, b = R(e, a, b, c, d, F0, K0,  7,  6, x)\n",
    "        d, a = R(d, e, a, b, c, F0, K0,  9,  7, x)\n",
    "        c, e = R(c, d, e, a, b, F0, K0, 11,  8, x)\n",
    "        b, d = R(b, c, d, e, a, F0, K0, 13,  9, x)\n",
    "        a, c = R(a, b, c, d, e, F0, K0, 14, 10, x)\n",
    "        e, b = R(e, a, b, c, d, F0, K0, 15, 11, x)\n",
    "        d, a = R(d, e, a, b, c, F0, K0,  6, 12, x)\n",
    "        c, e = R(c, d, e, a, b, F0, K0,  7, 13, x)\n",
    "        b, d = R(b, c, d, e, a, F0, K0,  9, 14, x)\n",
    "        a, c = R(a, b, c, d, e, F0, K0,  8, 15, x) #/* #15 */\n",
    "        #/* Round 2 */\n",
    "        e, b = R(e, a, b, c, d, F1, K1,  7,  7, x)\n",
    "        d, a = R(d, e, a, b, c, F1, K1,  6,  4, x)\n",
    "        c, e = R(c, d, e, a, b, F1, K1,  8, 13, x)\n",
    "        b, d = R(b, c, d, e, a, F1, K1, 13,  1, x)\n",
    "        a, c = R(a, b, c, d, e, F1, K1, 11, 10, x)\n",
    "        e, b = R(e, a, b, c, d, F1, K1,  9,  6, x)\n",
    "        d, a = R(d, e, a, b, c, F1, K1,  7, 15, x)\n",
    "        c, e = R(c, d, e, a, b, F1, K1, 15,  3, x)\n",
    "        b, d = R(b, c, d, e, a, F1, K1,  7, 12, x)\n",
    "        a, c = R(a, b, c, d, e, F1, K1, 12,  0, x)\n",
    "        e, b = R(e, a, b, c, d, F1, K1, 15,  9, x)\n",
    "        d, a = R(d, e, a, b, c, F1, K1,  9,  5, x)\n",
    "        c, e = R(c, d, e, a, b, F1, K1, 11,  2, x)\n",
    "        b, d = R(b, c, d, e, a, F1, K1,  7, 14, x)\n",
    "        a, c = R(a, b, c, d, e, F1, K1, 13, 11, x)\n",
    "        e, b = R(e, a, b, c, d, F1, K1, 12,  8, x) #/* #31 */\n",
    "        #/* Round 3 */\n",
    "        d, a = R(d, e, a, b, c, F2, K2, 11,  3, x)\n",
    "        c, e = R(c, d, e, a, b, F2, K2, 13, 10, x)\n",
    "        b, d = R(b, c, d, e, a, F2, K2,  6, 14, x)\n",
    "        a, c = R(a, b, c, d, e, F2, K2,  7,  4, x)\n",
    "        e, b = R(e, a, b, c, d, F2, K2, 14,  9, x)\n",
    "        d, a = R(d, e, a, b, c, F2, K2,  9, 15, x)\n",
    "        c, e = R(c, d, e, a, b, F2, K2, 13,  8, x)\n",
    "        b, d = R(b, c, d, e, a, F2, K2, 15,  1, x)\n",
    "        a, c = R(a, b, c, d, e, F2, K2, 14,  2, x)\n",
    "        e, b = R(e, a, b, c, d, F2, K2,  8,  7, x)\n",
    "        d, a = R(d, e, a, b, c, F2, K2, 13,  0, x)\n",
    "        c, e = R(c, d, e, a, b, F2, K2,  6,  6, x)\n",
    "        b, d = R(b, c, d, e, a, F2, K2,  5, 13, x)\n",
    "        a, c = R(a, b, c, d, e, F2, K2, 12, 11, x)\n",
    "        e, b = R(e, a, b, c, d, F2, K2,  7,  5, x)\n",
    "        d, a = R(d, e, a, b, c, F2, K2,  5, 12, x) #/* #47 */\n",
    "        #/* Round 4 */\n",
    "        c, e = R(c, d, e, a, b, F3, K3, 11,  1, x)\n",
    "        b, d = R(b, c, d, e, a, F3, K3, 12,  9, x)\n",
    "        a, c = R(a, b, c, d, e, F3, K3, 14, 11, x)\n",
    "        e, b = R(e, a, b, c, d, F3, K3, 15, 10, x)\n",
    "        d, a = R(d, e, a, b, c, F3, K3, 14,  0, x)\n",
    "        c, e = R(c, d, e, a, b, F3, K3, 15,  8, x)\n",
    "        b, d = R(b, c, d, e, a, F3, K3,  9, 12, x)\n",
    "        a, c = R(a, b, c, d, e, F3, K3,  8,  4, x)\n",
    "        e, b = R(e, a, b, c, d, F3, K3,  9, 13, x)\n",
    "        d, a = R(d, e, a, b, c, F3, K3, 14,  3, x)\n",
    "        c, e = R(c, d, e, a, b, F3, K3,  5,  7, x)\n",
    "        b, d = R(b, c, d, e, a, F3, K3,  6, 15, x)\n",
    "        a, c = R(a, b, c, d, e, F3, K3,  8, 14, x)\n",
    "        e, b = R(e, a, b, c, d, F3, K3,  6,  5, x)\n",
    "        d, a = R(d, e, a, b, c, F3, K3,  5,  6, x)\n",
    "        c, e = R(c, d, e, a, b, F3, K3, 12,  2, x) #/* #63 */\n",
    "        #/* Round 5 */\n",
    "        b, d = R(b, c, d, e, a, F4, K4,  9,  4, x)\n",
    "        a, c = R(a, b, c, d, e, F4, K4, 15,  0, x)\n",
    "        e, b = R(e, a, b, c, d, F4, K4,  5,  5, x)\n",
    "        d, a = R(d, e, a, b, c, F4, K4, 11,  9, x)\n",
    "        c, e = R(c, d, e, a, b, F4, K4,  6,  7, x)\n",
    "        b, d = R(b, c, d, e, a, F4, K4,  8, 12, x)\n",
    "        a, c = R(a, b, c, d, e, F4, K4, 13,  2, x)\n",
    "        e, b = R(e, a, b, c, d, F4, K4, 12, 10, x)\n",
    "        d, a = R(d, e, a, b, c, F4, K4,  5, 14, x)\n",
    "        c, e = R(c, d, e, a, b, F4, K4, 12,  1, x)\n",
    "        b, d = R(b, c, d, e, a, F4, K4, 13,  3, x)\n",
    "        a, c = R(a, b, c, d, e, F4, K4, 14,  8, x)\n",
    "        e, b = R(e, a, b, c, d, F4, K4, 11, 11, x)\n",
    "        d, a = R(d, e, a, b, c, F4, K4,  8,  6, x)\n",
    "        c, e = R(c, d, e, a, b, F4, K4,  5, 15, x)\n",
    "        b, d = R(b, c, d, e, a, F4, K4,  6, 13, x) #/* #79 */\n",
    "\n",
    "        aa = a\n",
    "        bb = b\n",
    "        cc = c\n",
    "        dd = d\n",
    "        ee = e\n",
    "\n",
    "        a = state[0]\n",
    "        b = state[1]\n",
    "        c = state[2]\n",
    "        d = state[3]\n",
    "        e = state[4]\n",
    "\n",
    "        #/* Parallel round 1 */\n",
    "        a, c = R(a, b, c, d, e, F4, KK0,  8,  5, x)\n",
    "        e, b = R(e, a, b, c, d, F4, KK0,  9, 14, x)\n",
    "        d, a = R(d, e, a, b, c, F4, KK0,  9,  7, x)\n",
    "        c, e = R(c, d, e, a, b, F4, KK0, 11,  0, x)\n",
    "        b, d = R(b, c, d, e, a, F4, KK0, 13,  9, x)\n",
    "        a, c = R(a, b, c, d, e, F4, KK0, 15,  2, x)\n",
    "        e, b = R(e, a, b, c, d, F4, KK0, 15, 11, x)\n",
    "        d, a = R(d, e, a, b, c, F4, KK0,  5,  4, x)\n",
    "        c, e = R(c, d, e, a, b, F4, KK0,  7, 13, x)\n",
    "        b, d = R(b, c, d, e, a, F4, KK0,  7,  6, x)\n",
    "        a, c = R(a, b, c, d, e, F4, KK0,  8, 15, x)\n",
    "        e, b = R(e, a, b, c, d, F4, KK0, 11,  8, x)\n",
    "        d, a = R(d, e, a, b, c, F4, KK0, 14,  1, x)\n",
    "        c, e = R(c, d, e, a, b, F4, KK0, 14, 10, x)\n",
    "        b, d = R(b, c, d, e, a, F4, KK0, 12,  3, x)\n",
    "        a, c = R(a, b, c, d, e, F4, KK0,  6, 12, x) #/* #15 */\n",
    "        #/* Parallel round 2 */\n",
    "        e, b = R(e, a, b, c, d, F3, KK1,  9,  6, x)\n",
    "        d, a = R(d, e, a, b, c, F3, KK1, 13, 11, x)\n",
    "        c, e = R(c, d, e, a, b, F3, KK1, 15,  3, x)\n",
    "        b, d = R(b, c, d, e, a, F3, KK1,  7,  7, x)\n",
    "        a, c = R(a, b, c, d, e, F3, KK1, 12,  0, x)\n",
    "        e, b = R(e, a, b, c, d, F3, KK1,  8, 13, x)\n",
    "        d, a = R(d, e, a, b, c, F3, KK1,  9,  5, x)\n",
    "        c, e = R(c, d, e, a, b, F3, KK1, 11, 10, x)\n",
    "        b, d = R(b, c, d, e, a, F3, KK1,  7, 14, x)\n",
    "        a, c = R(a, b, c, d, e, F3, KK1,  7, 15, x)\n",
    "        e, b = R(e, a, b, c, d, F3, KK1, 12,  8, x)\n",
    "        d, a = R(d, e, a, b, c, F3, KK1,  7, 12, x)\n",
    "        c, e = R(c, d, e, a, b, F3, KK1,  6,  4, x)\n",
    "        b, d = R(b, c, d, e, a, F3, KK1, 15,  9, x)\n",
    "        a, c = R(a, b, c, d, e, F3, KK1, 13,  1, x)\n",
    "        e, b = R(e, a, b, c, d, F3, KK1, 11,  2, x) #/* #31 */\n",
    "        #/* Parallel round 3 */\n",
    "        d, a = R(d, e, a, b, c, F2, KK2,  9, 15, x)\n",
    "        c, e = R(c, d, e, a, b, F2, KK2,  7,  5, x)\n",
    "        b, d = R(b, c, d, e, a, F2, KK2, 15,  1, x)\n",
    "        a, c = R(a, b, c, d, e, F2, KK2, 11,  3, x)\n",
    "        e, b = R(e, a, b, c, d, F2, KK2,  8,  7, x)\n",
    "        d, a = R(d, e, a, b, c, F2, KK2,  6, 14, x)\n",
    "        c, e = R(c, d, e, a, b, F2, KK2,  6,  6, x)\n",
    "        b, d = R(b, c, d, e, a, F2, KK2, 14,  9, x)\n",
    "        a, c = R(a, b, c, d, e, F2, KK2, 12, 11, x)\n",
    "        e, b = R(e, a, b, c, d, F2, KK2, 13,  8, x)\n",
    "        d, a = R(d, e, a, b, c, F2, KK2,  5, 12, x)\n",
    "        c, e = R(c, d, e, a, b, F2, KK2, 14,  2, x)\n",
    "        b, d = R(b, c, d, e, a, F2, KK2, 13, 10, x)\n",
    "        a, c = R(a, b, c, d, e, F2, KK2, 13,  0, x)\n",
    "        e, b = R(e, a, b, c, d, F2, KK2,  7,  4, x)\n",
    "        d, a = R(d, e, a, b, c, F2, KK2,  5, 13, x) #/* #47 */\n",
    "        #/* Parallel round 4 */\n",
    "        c, e = R(c, d, e, a, b, F1, KK3, 15,  8, x)\n",
    "        b, d = R(b, c, d, e, a, F1, KK3,  5,  6, x)\n",
    "        a, c = R(a, b, c, d, e, F1, KK3,  8,  4, x)\n",
    "        e, b = R(e, a, b, c, d, F1, KK3, 11,  1, x)\n",
    "        d, a = R(d, e, a, b, c, F1, KK3, 14,  3, x)\n",
    "        c, e = R(c, d, e, a, b, F1, KK3, 14, 11, x)\n",
    "        b, d = R(b, c, d, e, a, F1, KK3,  6, 15, x)\n",
    "        a, c = R(a, b, c, d, e, F1, KK3, 14,  0, x)\n",
    "        e, b = R(e, a, b, c, d, F1, KK3,  6,  5, x)\n",
    "        d, a = R(d, e, a, b, c, F1, KK3,  9, 12, x)\n",
    "        c, e = R(c, d, e, a, b, F1, KK3, 12,  2, x)\n",
    "        b, d = R(b, c, d, e, a, F1, KK3,  9, 13, x)\n",
    "        a, c = R(a, b, c, d, e, F1, KK3, 12,  9, x)\n",
    "        e, b = R(e, a, b, c, d, F1, KK3,  5,  7, x)\n",
    "        d, a = R(d, e, a, b, c, F1, KK3, 15, 10, x)\n",
    "        c, e = R(c, d, e, a, b, F1, KK3,  8, 14, x) #/* #63 */\n",
    "        #/* Parallel round 5 */\n",
    "        b, d = R(b, c, d, e, a, F0, KK4,  8, 12, x)\n",
    "        a, c = R(a, b, c, d, e, F0, KK4,  5, 15, x)\n",
    "        e, b = R(e, a, b, c, d, F0, KK4, 12, 10, x)\n",
    "        d, a = R(d, e, a, b, c, F0, KK4,  9,  4, x)\n",
    "        c, e = R(c, d, e, a, b, F0, KK4, 12,  1, x)\n",
    "        b, d = R(b, c, d, e, a, F0, KK4,  5,  5, x)\n",
    "        a, c = R(a, b, c, d, e, F0, KK4, 14,  8, x)\n",
    "        e, b = R(e, a, b, c, d, F0, KK4,  6,  7, x)\n",
    "        d, a = R(d, e, a, b, c, F0, KK4,  8,  6, x)\n",
    "        c, e = R(c, d, e, a, b, F0, KK4, 13,  2, x)\n",
    "        b, d = R(b, c, d, e, a, F0, KK4,  6, 13, x)\n",
    "        a, c = R(a, b, c, d, e, F0, KK4,  5, 14, x)\n",
    "        e, b = R(e, a, b, c, d, F0, KK4, 15,  0, x)\n",
    "        d, a = R(d, e, a, b, c, F0, KK4, 13,  3, x)\n",
    "        c, e = R(c, d, e, a, b, F0, KK4, 11,  9, x)\n",
    "        b, d = R(b, c, d, e, a, F0, KK4, 11, 11, x) #/* #79 */\n",
    "\n",
    "        t = (state[1] + cc + d) % 0x100000000\n",
    "        state[1] = (state[2] + dd + e) % 0x100000000\n",
    "        state[2] = (state[3] + ee + a) % 0x100000000\n",
    "        state[3] = (state[4] + aa + b) % 0x100000000\n",
    "        state[4] = (state[0] + bb + c) % 0x100000000\n",
    "        state[0] = t % 0x100000000\n",
    "\n",
    "    return ripemd160"
   ]
  },
  {
   "cell_type": "code",
   "execution_count": 172,
   "id": "d70e55da",
   "metadata": {},
   "outputs": [],
   "source": [
    "def gen_sha256_with_variable_scope_protector_to_not_pollute_global_namespace():\n",
    "\n",
    "    \"\"\"\n",
    "    SHA256 implementation.\n",
    "\n",
    "    Follows the FIPS PUB 180-4 description for calculating SHA-256 hash function\n",
    "    https://nvlpubs.nist.gov/nistpubs/FIPS/NIST.FIPS.180-4.pdf\n",
    "\n",
    "    Noone in their right mind should use this for any serious reason. This was written\n",
    "    purely for educational purposes.\n",
    "    \"\"\"\n",
    "\n",
    "    import math\n",
    "    from itertools import count, islice\n",
    "\n",
    "    # -----------------------------------------------------------------------------\n",
    "    # SHA-256 Functions, defined in Section 4\n",
    "\n",
    "    def rotr(x, n, size=32):\n",
    "        return (x >> n) | (x << size - n) & (2**size - 1)\n",
    "\n",
    "    def shr(x, n):\n",
    "        return x >> n\n",
    "\n",
    "    def sig0(x):\n",
    "        return rotr(x, 7) ^ rotr(x, 18) ^ shr(x, 3)\n",
    "\n",
    "    def sig1(x):\n",
    "        return rotr(x, 17) ^ rotr(x, 19) ^ shr(x, 10)\n",
    "\n",
    "    def capsig0(x):\n",
    "        return rotr(x, 2) ^ rotr(x, 13) ^ rotr(x, 22)\n",
    "\n",
    "    def capsig1(x):\n",
    "        return rotr(x, 6) ^ rotr(x, 11) ^ rotr(x, 25)\n",
    "\n",
    "    def ch(x, y, z):\n",
    "        return (x & y)^ (~x & z)\n",
    "\n",
    "    def maj(x, y, z):\n",
    "        return (x & y) ^ (x & z) ^ (y & z)\n",
    "\n",
    "    def b2i(b):\n",
    "        return int.from_bytes(b, 'big')\n",
    "\n",
    "    def i2b(i):\n",
    "        return i.to_bytes(4, 'big')\n",
    "\n",
    "    # -----------------------------------------------------------------------------\n",
    "    # SHA-256 Constants\n",
    "\n",
    "    def is_prime(n):\n",
    "        return not any(f for f in range(2,int(math.sqrt(n))+1) if n%f == 0)\n",
    "\n",
    "    def first_n_primes(n):\n",
    "        return islice(filter(is_prime, count(start=2)), n)\n",
    "\n",
    "    def frac_bin(f, n=32):\n",
    "        \"\"\" return the first n bits of fractional part of float f \"\"\"\n",
    "        f -= math.floor(f) # get only the fractional part\n",
    "        f *= 2**n # shift left\n",
    "        f = int(f) # truncate the rest of the fractional content\n",
    "        return f\n",
    "\n",
    "    def genK():\n",
    "        \"\"\"\n",
    "        Follows Section 4.2.2 to generate K\n",
    "\n",
    "        The first 32 bits of the fractional parts of the cube roots of the first\n",
    "        64 prime numbers:\n",
    "\n",
    "        428a2f98 71374491 b5c0fbcf e9b5dba5 3956c25b 59f111f1 923f82a4 ab1c5ed5\n",
    "        d807aa98 12835b01 243185be 550c7dc3 72be5d74 80deb1fe 9bdc06a7 c19bf174\n",
    "        e49b69c1 efbe4786 0fc19dc6 240ca1cc 2de92c6f 4a7484aa 5cb0a9dc 76f988da\n",
    "        983e5152 a831c66d b00327c8 bf597fc7 c6e00bf3 d5a79147 06ca6351 14292967\n",
    "        27b70a85 2e1b2138 4d2c6dfc 53380d13 650a7354 766a0abb 81c2c92e 92722c85\n",
    "        a2bfe8a1 a81a664b c24b8b70 c76c51a3 d192e819 d6990624 f40e3585 106aa070\n",
    "        19a4c116 1e376c08 2748774c 34b0bcb5 391c0cb3 4ed8aa4a 5b9cca4f 682e6ff3\n",
    "        748f82ee 78a5636f 84c87814 8cc70208 90befffa a4506ceb bef9a3f7 c67178f2\n",
    "        \"\"\"\n",
    "        return [frac_bin(p ** (1/3.0)) for p in first_n_primes(64)]\n",
    "\n",
    "    def genH():\n",
    "        \"\"\"\n",
    "        Follows Section 5.3.3 to generate the initial hash value H^0\n",
    "\n",
    "        The first 32 bits of the fractional parts of the square roots of\n",
    "        the first 8 prime numbers.\n",
    "\n",
    "        6a09e667 bb67ae85 3c6ef372 a54ff53a 9b05688c 510e527f 1f83d9ab 5be0cd19\n",
    "        \"\"\"\n",
    "        return [frac_bin(p ** (1/2.0)) for p in first_n_primes(8)]\n",
    "\n",
    "    # -----------------------------------------------------------------------------\n",
    "\n",
    "    def pad(b):\n",
    "        \"\"\" Follows Section 5.1: Padding the message \"\"\"\n",
    "        b = bytearray(b) # convert to a mutable equivalent\n",
    "        l = len(b) * 8 # note: len returns number of bytes not bits\n",
    "\n",
    "        # append but \"1\" to the end of the message\n",
    "        b.append(0b10000000) # appending 10000000 in binary (=128 in decimal)\n",
    "\n",
    "        # follow by k zero bits, where k is the smallest non-negative solution to\n",
    "        # l + 1 + k = 448 mod 512\n",
    "        # i.e. pad with zeros until we reach 448 (mod 512)\n",
    "        while (len(b)*8) % 512 != 448:\n",
    "            b.append(0x00)\n",
    "\n",
    "        # the last 64-bit block is the length l of the original message\n",
    "        # expressed in binary (big endian)\n",
    "        b.extend(l.to_bytes(8, 'big'))\n",
    "\n",
    "        return b\n",
    "\n",
    "    def sha256(b: bytes) -> bytes:\n",
    "\n",
    "        # Section 4.2\n",
    "        K = genK()\n",
    "\n",
    "        # Section 5: Preprocessing\n",
    "        # Section 5.1: Pad the message\n",
    "        b = pad(b)\n",
    "        # Section 5.2: Separate the message into blocks of 512 bits (64 bytes)\n",
    "        blocks = [b[i:i+64] for i in range(0, len(b), 64)]\n",
    "\n",
    "        # for each message block M^1 ... M^N\n",
    "        H = genH() # Section 5.3\n",
    "\n",
    "        # Section 6\n",
    "        for M in blocks: # each block is a 64-entry array of 8-bit bytes\n",
    "\n",
    "            # 1. Prepare the message schedule, a 64-entry array of 32-bit words\n",
    "            W = []\n",
    "            for t in range(64):\n",
    "                if t <= 15:\n",
    "                    # the first 16 words are just a copy of the block\n",
    "                    W.append(bytes(M[t*4:t*4+4]))\n",
    "                else:\n",
    "                    term1 = sig1(b2i(W[t-2]))\n",
    "                    term2 = b2i(W[t-7])\n",
    "                    term3 = sig0(b2i(W[t-15]))\n",
    "                    term4 = b2i(W[t-16])\n",
    "                    total = (term1 + term2 + term3 + term4) % 2**32\n",
    "                    W.append(i2b(total))\n",
    "\n",
    "            # 2. Initialize the 8 working variables a,b,c,d,e,f,g,h with prev hash value\n",
    "            a, b, c, d, e, f, g, h = H\n",
    "\n",
    "            # 3.\n",
    "            for t in range(64):\n",
    "                T1 = (h + capsig1(e) + ch(e, f, g) + K[t] + b2i(W[t])) % 2**32\n",
    "                T2 = (capsig0(a) + maj(a, b, c)) % 2**32\n",
    "                h = g\n",
    "                g = f\n",
    "                f = e\n",
    "                e = (d + T1) % 2**32\n",
    "                d = c\n",
    "                c = b\n",
    "                b = a\n",
    "                a = (T1 + T2) % 2**32\n",
    "\n",
    "            # 4. Compute the i-th intermediate hash value H^i\n",
    "            delta = [a, b, c, d, e, f, g, h]\n",
    "            H = [(i1 + i2) % 2**32 for i1, i2 in zip(H, delta)]\n",
    "\n",
    "        return b''.join(i2b(i) for i in H)\n",
    "\n",
    "    return sha256"
   ]
  },
  {
   "cell_type": "code",
   "execution_count": 182,
   "id": "64d9ad4d",
   "metadata": {},
   "outputs": [
    {
     "name": "stdout",
     "output_type": "stream",
     "text": [
      "f51960af7dd4813a587ab26388ddab3b28d1f7b4\n",
      "number of bytes in a RIPEMD-160 digest:  20\n",
      "verify empty hash: e3b0c44298fc1c149afbf4c8996fb92427ae41e4649b934ca495991b7852b855\n"
     ]
    }
   ],
   "source": [
    "ripemd160 = gen_ripemd160_with_variable_scope_protector_to_not_pollute_global_namespace()\n",
    "print(ripemd160(b'hello this is a test').hex())\n",
    "print(\"number of bytes in a RIPEMD-160 digest: \", len(ripemd160(b'')))\n",
    "\n",
    "sha256 = gen_sha256_with_variable_scope_protector_to_not_pollute_global_namespace()\n",
    "print(\"verify empty hash:\", sha256(b'').hex())"
   ]
  },
  {
   "cell_type": "code",
   "execution_count": 170,
   "id": "4694e335",
   "metadata": {},
   "outputs": [],
   "source": [
    "import hashlib ##generating sha256 \n",
    "\n",
    "##thanks CHATGPT\n",
    "\n",
    "\n",
    "import hashlib\n",
    "\n",
    "def sha256_gpt(string):\n",
    "    # Encode the string to bytes\n",
    "    string_bytes = string.encode()\n",
    "    \n",
    "    # Create the hash object\n",
    "    hash_object = hashlib.sha256()\n",
    "    \n",
    "    # Update the hash object with the string bytes\n",
    "    hash_object.update(string_bytes)\n",
    "    \n",
    "    # Get the hexadecimal representation of the hash\n",
    "    hash_hex = hash_object.hexdigest()\n",
    "    \n",
    "    return hash_hex\n",
    "\n",
    "def ripemd160_gpt(string):\n",
    "    # Encode the string to bytes\n",
    "    string_bytes = string.encode()\n",
    "    \n",
    "    # Create the hash object\n",
    "    hash_object = hashlib.new('ripemd160')\n",
    "    \n",
    "    # Update the hash object with the string bytes\n",
    "    hash_object.update(string_bytes)\n",
    "    \n",
    "    # Get the hexadecimal representation of the hash\n",
    "    hash_hex = hash_object.hexdigest()\n",
    "    \n",
    "    return hash_hex\n",
    "\n",
    "\n",
    "\n"
   ]
  },
  {
   "cell_type": "code",
   "execution_count": 183,
   "id": "1e199d3a",
   "metadata": {},
   "outputs": [],
   "source": [
    "class PublicKey(Point):\n",
    "    ##its a point on the curve\n",
    "    ##with additional functionalities\n",
    "    \n",
    "    @classmethod\n",
    "    def from_point(cls,pt):\n",
    "        return cls(pt.curve,pt.x,pt.y)\n",
    "    \n",
    "    def encode(self, compressed, hash160=False):\n",
    "        if compressed:\n",
    "            # (x,y) is very redundant. Because y^2 = x^3 + 7,\n",
    "            # we can just encode x, and then y = +/- sqrt(x^3 + 7),\n",
    "            # so we need one more bit to encode whether it was the + or the -\n",
    "            # but because this is modular arithmetic there is no +/-, instead\n",
    "            # it can be shown that one y will always be even and the other odd.\n",
    "            prefix = b'\\x02' if self.y % 2 == 0 else b'\\x03'\n",
    "            pkb = prefix + self.x.to_bytes(32, 'big')\n",
    "        else:\n",
    "            pkb = b'\\x04' + self.x.to_bytes(32, 'big') + self.y.to_bytes(32, 'big')\n",
    "        # hash if desired\n",
    "        return ripemd160(sha256(pkb)) if hash160 else pkb\n",
    "    \n",
    "    def address(self, net: str, compressed: bool) -> str:\n",
    "        \"\"\" return the associated bitcoin address for this public key as string \"\"\"\n",
    "        # encode the public key into bytes and hash to get the payload\n",
    "        pkb_hash = self.encode(compressed=compressed, hash160=True)\n",
    "        # add version byte (0x00 for Main Network, or 0x6f for Test Network)\n",
    "        version = {'main': b'\\x00', 'test': b'\\x6f'}\n",
    "        ver_pkb_hash = version[net] + pkb_hash\n",
    "        # calculate the checksum\n",
    "        checksum = sha256(sha256(ver_pkb_hash))[:4]\n",
    "        # append to form the full 25-byte binary Bitcoin Address\n",
    "        byte_address = ver_pkb_hash + checksum\n",
    "        # finally b58 encode the result\n",
    "        b58check_address = b58encode(byte_address)\n",
    "        return b58check_address\n",
    "   \n",
    "\n",
    "    \n",
    "\n",
    "        \n",
    "    \n",
    "    "
   ]
  },
  {
   "cell_type": "code",
   "execution_count": 143,
   "id": "620fcb27",
   "metadata": {},
   "outputs": [],
   "source": [
    "\n",
    "    "
   ]
  },
  {
   "cell_type": "code",
   "execution_count": 184,
   "id": "56393378",
   "metadata": {},
   "outputs": [],
   "source": [
    "alphabet = '123456789ABCDEFGHJKLMNPQRSTUVWXYZabcdefghijkmnopqrstuvwxyz'\n",
    "\n",
    "def b58encode(b: bytes) -> str:\n",
    "    assert len(b) == 25 # version is 1 byte, pkb_hash 20 bytes, checksum 4 bytes\n",
    "    n = int.from_bytes(b, 'big')\n",
    "    chars = []\n",
    "    while n:\n",
    "        n, i = divmod(n, 58)\n",
    "        chars.append(alphabet[i])\n",
    "    # special case handle the leading 0 bytes... ¯\\_(ツ)_/¯\n",
    "    num_leading_zeros = len(b) - len(b.lstrip(b'\\x00'))\n",
    "    res = num_leading_zeros * alphabet[0] + ''.join(reversed(chars))\n",
    "    return res"
   ]
  },
  {
   "cell_type": "code",
   "execution_count": 185,
   "id": "1c729f2f",
   "metadata": {},
   "outputs": [
    {
     "name": "stdout",
     "output_type": "stream",
     "text": [
      "mnNcaVkC35ezZSgvn8fhXEa9QTHSUtPfzQ\n"
     ]
    }
   ],
   "source": [
    "address = PublicKey.from_point(public_key).address(net='test', compressed=True)\n",
    "print(address)\n",
    "##here from generating predefined hashmap functions generates error due to differernt\n",
    "#sha256 , so we can once again do what karpathy did"
   ]
  },
  {
   "cell_type": "code",
   "execution_count": 187,
   "id": "89dc7145",
   "metadata": {},
   "outputs": [
    {
     "data": {
      "text/plain": [
       "'mrCDrCybB6J1vRfbwM5hemdJz73FwDBC8r'"
      ]
     },
     "execution_count": 187,
     "metadata": {},
     "output_type": "execute_result"
    }
   ],
   "source": [
    "##3thats it go to https://www.blockchain.com/btc-testnet/address/mnNcaVkC35ezZSgvn8fhXEa9QTHSUtPfzQ\n",
    "##we have $0.00 BTC.\n",
    "\n",
    "#but if we use common secret key like 1\n",
    "\n",
    "# there will be many transactions and if we fing balance what would be cooler than that.\n",
    "\n",
    "\n",
    "new_sk = 1\n",
    "new_pk  = (new_sk)*G\n",
    "\n",
    "address = PublicKey.from_point(new_pk).address(net='test',compressed=True)\n",
    "address"
   ]
  },
  {
   "cell_type": "code",
   "execution_count": 188,
   "id": "7793144a",
   "metadata": {},
   "outputs": [],
   "source": [
    "##check it on blockchain "
   ]
  },
  {
   "cell_type": "code",
   "execution_count": 198,
   "id": "de84188f",
   "metadata": {},
   "outputs": [
    {
     "name": "stdout",
     "output_type": "stream",
     "text": [
      "secret key: 22265090479312778178772228083027296664144\n",
      "public_key (83998262154709529558614902604110599582969848537757180553516367057821848015989, 37676469766173670826348691885774454391218658108212372128812329274086400588247)\n",
      "bitcoin address mrCDrCybB6J1vRfbwM5hemdJz73FwDBC8r\n"
     ]
    }
   ],
   "source": [
    "##here are the things we gwnwrated\n",
    "\n",
    "print(\"secret key:\",secret_key)  # random integer from 1 to order\n",
    "print(\"public_key\", (public_key.x,public_key.y)) ## pk*Generator \n",
    "print(\"bitcoin address\",address) ##with lot of things sha256 and ripemd160 and things i dont explain it yet.\n"
   ]
  },
  {
   "cell_type": "code",
   "execution_count": 190,
   "id": "8e5f9fad",
   "metadata": {},
   "outputs": [
    {
     "data": {
      "text/plain": [
       "115792089237316195423570985008687907852837564279074904382605163141518161494337"
      ]
     },
     "execution_count": 190,
     "metadata": {},
     "output_type": "execute_result"
    }
   ],
   "source": [
    "bitcoin_gen.n"
   ]
  },
  {
   "cell_type": "code",
   "execution_count": 206,
   "id": "0289a1d0",
   "metadata": {},
   "outputs": [
    {
     "name": "stdout",
     "output_type": "stream",
     "text": [
      "sk2: 9420694206942069420\n",
      "pk2: Point(curve=Curve(p=115792089237316195423570985008687907853269984665640564039457584007908834671663, a=0, b=7), x=1931940939439244830425264748186596357684278289767219150324625815320455868315, y=55915680869027623923563737236421892002681583500633903760576499241014681151341)\n",
      "address2: mueRd6kZjt2VeYKA4LfFJ428QsdqrDkfMd\n"
     ]
    }
   ],
   "source": [
    "###now we should send transactions.\n",
    "\n",
    "#again for 2\n",
    "\n",
    "secret_key2 = 9420694206942069420 # it should be between 1 and bitcoin_gen.n \n",
    "public_key2 = secret_key2*G\n",
    "address2 = PublicKey.from_point(public_key2).address(net='test',compressed=True)\n",
    "\n",
    "print(\"sk2:\",secret_key2)\n",
    "print(\"pk2:\",public_key2)\n",
    "print(\"address2:\",address2)"
   ]
  },
  {
   "cell_type": "code",
   "execution_count": null,
   "id": "77ef3cf0",
   "metadata": {},
   "outputs": [],
   "source": [
    "## next we would send transaction\n",
    "\n"
   ]
  },
  {
   "cell_type": "code",
   "execution_count": null,
   "id": "379a1923",
   "metadata": {},
   "outputs": [],
   "source": []
  },
  {
   "cell_type": "code",
   "execution_count": null,
   "id": "91087fc7",
   "metadata": {},
   "outputs": [],
   "source": []
  },
  {
   "cell_type": "code",
   "execution_count": null,
   "id": "acc8df36",
   "metadata": {},
   "outputs": [],
   "source": []
  },
  {
   "cell_type": "code",
   "execution_count": null,
   "id": "069ee300",
   "metadata": {},
   "outputs": [],
   "source": []
  }
 ],
 "metadata": {
  "kernelspec": {
   "display_name": "Python 3 (ipykernel)",
   "language": "python",
   "name": "python3"
  },
  "language_info": {
   "codemirror_mode": {
    "name": "ipython",
    "version": 3
   },
   "file_extension": ".py",
   "mimetype": "text/x-python",
   "name": "python",
   "nbconvert_exporter": "python",
   "pygments_lexer": "ipython3",
   "version": "3.9.13"
  }
 },
 "nbformat": 4,
 "nbformat_minor": 5
}
