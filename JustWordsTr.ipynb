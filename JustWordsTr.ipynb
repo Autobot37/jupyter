{
  "nbformat": 4,
  "nbformat_minor": 0,
  "metadata": {
    "colab": {
      "provenance": [],
      "authorship_tag": "ABX9TyN3zS3HgKeVCx9HMsbvz1nj",
      "include_colab_link": true
    },
    "kernelspec": {
      "name": "python3",
      "display_name": "Python 3"
    },
    "language_info": {
      "name": "python"
    }
  },
  "cells": [
    {
      "cell_type": "markdown",
      "metadata": {
        "id": "view-in-github",
        "colab_type": "text"
      },
      "source": [
        "<a href=\"https://colab.research.google.com/github/Autobot37/jupyter/blob/main/JustWordsTr.ipynb\" target=\"_parent\"><img src=\"https://colab.research.google.com/assets/colab-badge.svg\" alt=\"Open In Colab\"/></a>"
      ]
    },
    {
      "cell_type": "code",
      "execution_count": null,
      "metadata": {
        "colab": {
          "base_uri": "https://localhost:8080/"
        },
        "id": "0YzOPTpHzRA9",
        "outputId": "97989ec9-3bc1-487f-ea3d-4cc89aae5098"
      },
      "outputs": [
        {
          "output_type": "stream",
          "name": "stdout",
          "text": [
            "--2023-01-25 11:35:40--  https://raw.githubusercontent.com/karpathy/char-rnn/master/data/tinyshakespeare/input.txt\n",
            "Resolving raw.githubusercontent.com (raw.githubusercontent.com)... 185.199.108.133, 185.199.109.133, 185.199.110.133, ...\n",
            "Connecting to raw.githubusercontent.com (raw.githubusercontent.com)|185.199.108.133|:443... connected.\n",
            "HTTP request sent, awaiting response... 200 OK\n",
            "Length: 1115394 (1.1M) [text/plain]\n",
            "Saving to: ‘input.txt.1’\n",
            "\n",
            "input.txt.1         100%[===================>]   1.06M  --.-KB/s    in 0.05s   \n",
            "\n",
            "2023-01-25 11:35:40 (21.1 MB/s) - ‘input.txt.1’ saved [1115394/1115394]\n",
            "\n"
          ]
        }
      ],
      "source": [
        "!wget https://raw.githubusercontent.com/karpathy/char-rnn/master/data/tinyshakespeare/input.txt"
      ]
    },
    {
      "cell_type": "code",
      "source": [
        "with open('input.txt','r',encoding='utf-8') as f:\n",
        "  text = f.read()"
      ],
      "metadata": {
        "id": "-F9-j1ye-tBm"
      },
      "execution_count": null,
      "outputs": []
    },
    {
      "cell_type": "code",
      "source": [
        "len(text)"
      ],
      "metadata": {
        "colab": {
          "base_uri": "https://localhost:8080/"
        },
        "id": "R1nPqOV3-9WW",
        "outputId": "f37e2cf6-db25-4c1d-e4bd-d88f6e559bfb"
      },
      "execution_count": null,
      "outputs": [
        {
          "output_type": "execute_result",
          "data": {
            "text/plain": [
              "1115394"
            ]
          },
          "metadata": {},
          "execution_count": 42
        }
      ]
    },
    {
      "cell_type": "code",
      "source": [
        "print(text[:100])"
      ],
      "metadata": {
        "colab": {
          "base_uri": "https://localhost:8080/"
        },
        "id": "8eLl6abS-9Se",
        "outputId": "51cb9b67-6d12-4f59-cc7e-c3dce7d8a137"
      },
      "execution_count": null,
      "outputs": [
        {
          "output_type": "stream",
          "name": "stdout",
          "text": [
            "First Citizen:\n",
            "Before we proceed any further, hear me speak.\n",
            "\n",
            "All:\n",
            "Speak, speak.\n",
            "\n",
            "First Citizen:\n",
            "You\n"
          ]
        }
      ]
    },
    {
      "cell_type": "code",
      "source": [
        "chars = sorted(list(set(text)))\n",
        "vocab_size = len(chars)\n",
        "print(''.join(chars))"
      ],
      "metadata": {
        "colab": {
          "base_uri": "https://localhost:8080/"
        },
        "id": "aQckkJtM-9NZ",
        "outputId": "5fabdf49-9b4f-4598-d4d8-710f1ed08272"
      },
      "execution_count": null,
      "outputs": [
        {
          "output_type": "stream",
          "name": "stdout",
          "text": [
            "\n",
            " !$&',-.3:;?ABCDEFGHIJKLMNOPQRSTUVWXYZabcdefghijklmnopqrstuvwxyz\n"
          ]
        }
      ]
    },
    {
      "cell_type": "code",
      "source": [
        "len(chars)"
      ],
      "metadata": {
        "colab": {
          "base_uri": "https://localhost:8080/"
        },
        "id": "j3TYtPo9h742",
        "outputId": "bf04e4c6-d2ab-456c-ef2c-6d9c49b54d7a"
      },
      "execution_count": null,
      "outputs": [
        {
          "output_type": "execute_result",
          "data": {
            "text/plain": [
              "65"
            ]
          },
          "metadata": {},
          "execution_count": 45
        }
      ]
    },
    {
      "cell_type": "code",
      "source": [
        "stoi = {ch:i for i, ch in enumerate(chars)}\n",
        "itos = {i:ch for i, ch in enumerate(chars)}\n",
        "encode = lambda s : [stoi[c] for c in s]\n",
        "decode = lambda l : ''.join([itos[i] for i in l])"
      ],
      "metadata": {
        "id": "JC78tbA8-9I8"
      },
      "execution_count": null,
      "outputs": []
    },
    {
      "cell_type": "code",
      "source": [
        "decode(encode(\"live fast\"))"
      ],
      "metadata": {
        "colab": {
          "base_uri": "https://localhost:8080/",
          "height": 35
        },
        "id": "K0NrRGu6-9E2",
        "outputId": "e55e46bb-fdbb-49ee-e47d-3d0d9cbbc3fa"
      },
      "execution_count": null,
      "outputs": [
        {
          "output_type": "execute_result",
          "data": {
            "text/plain": [
              "'live fast'"
            ],
            "application/vnd.google.colaboratory.intrinsic+json": {
              "type": "string"
            }
          },
          "metadata": {},
          "execution_count": 47
        }
      ]
    },
    {
      "cell_type": "code",
      "source": [
        "import torch\n",
        "data = torch.tensor(encode(text), dtype=torch.long)\n",
        "print(data.shape, data.dtype )\n",
        "print(data[:100])\n",
        "print(text[:100])"
      ],
      "metadata": {
        "colab": {
          "base_uri": "https://localhost:8080/"
        },
        "id": "xqGDbm2a-9Ae",
        "outputId": "86558518-4f20-4148-96ea-e45539e0738e"
      },
      "execution_count": null,
      "outputs": [
        {
          "output_type": "stream",
          "name": "stdout",
          "text": [
            "torch.Size([1115394]) torch.int64\n",
            "tensor([18, 47, 56, 57, 58,  1, 15, 47, 58, 47, 64, 43, 52, 10,  0, 14, 43, 44,\n",
            "        53, 56, 43,  1, 61, 43,  1, 54, 56, 53, 41, 43, 43, 42,  1, 39, 52, 63,\n",
            "         1, 44, 59, 56, 58, 46, 43, 56,  6,  1, 46, 43, 39, 56,  1, 51, 43,  1,\n",
            "        57, 54, 43, 39, 49,  8,  0,  0, 13, 50, 50, 10,  0, 31, 54, 43, 39, 49,\n",
            "         6,  1, 57, 54, 43, 39, 49,  8,  0,  0, 18, 47, 56, 57, 58,  1, 15, 47,\n",
            "        58, 47, 64, 43, 52, 10,  0, 37, 53, 59])\n",
            "First Citizen:\n",
            "Before we proceed any further, hear me speak.\n",
            "\n",
            "All:\n",
            "Speak, speak.\n",
            "\n",
            "First Citizen:\n",
            "You\n"
          ]
        }
      ]
    },
    {
      "cell_type": "code",
      "source": [
        "n = int(0.9*(len(data)))\n",
        "train_data = data[:n]\n",
        "val_data = data[n:]\n",
        "\n",
        "\n",
        "\n",
        "\n"
      ],
      "metadata": {
        "id": "0uCPfKhU-868"
      },
      "execution_count": null,
      "outputs": []
    },
    {
      "cell_type": "code",
      "source": [
        "batch_size = 4\n",
        "x = train_data[:8]\n",
        "y = train_data[1:9]\n",
        "for t in range(8):\n",
        "  context = x[:t+1]\n",
        "  target = y[t]\n",
        "  print(f\"when input is {context} output is {target}\")\n"
      ],
      "metadata": {
        "colab": {
          "base_uri": "https://localhost:8080/"
        },
        "id": "9zjFqp-dd_Wu",
        "outputId": "36f966f2-5010-4f53-bc78-bf25f4d610e1"
      },
      "execution_count": null,
      "outputs": [
        {
          "output_type": "stream",
          "name": "stdout",
          "text": [
            "when input is tensor([18]) output is 47\n",
            "when input is tensor([18, 47]) output is 56\n",
            "when input is tensor([18, 47, 56]) output is 57\n",
            "when input is tensor([18, 47, 56, 57]) output is 58\n",
            "when input is tensor([18, 47, 56, 57, 58]) output is 1\n",
            "when input is tensor([18, 47, 56, 57, 58,  1]) output is 15\n",
            "when input is tensor([18, 47, 56, 57, 58,  1, 15]) output is 47\n",
            "when input is tensor([18, 47, 56, 57, 58,  1, 15, 47]) output is 58\n"
          ]
        }
      ]
    },
    {
      "cell_type": "code",
      "source": [
        "def get_batch():\n",
        "  ix = torch.randint(len(data)-block_size,(batch_size))\n",
        "  x = torch.stack([train_data[i:i+block_size] for i in ix])\n",
        "  y = torchstack([train_data[i+1:i+1+block_size] for i in ix])"
      ],
      "metadata": {
        "id": "bvIAoGf3f4v6"
      },
      "execution_count": null,
      "outputs": []
    },
    {
      "cell_type": "code",
      "source": [
        "torch.manual_seed(1337)\n",
        "block_size = 8\n",
        "batch_size = 4\n",
        "\n",
        "def get_batch(split):\n",
        "  data = train_data if split == 'train' else val_data\n",
        "  ix = torch.randint(len(data) - block_size, (batch_size,))\n",
        "  x = torch.stack([data[i:block_size+i] for i in ix])\n",
        "  y = torch.stack([data[i+1:i+block_size+1] for i in ix])\n",
        "  return x,y\n",
        "\n",
        "xb, yb = get_batch('train')\n",
        "print(\"input stack\")\n",
        "print(xb.shape)\n",
        "print(xb)\n",
        "\n",
        "print(\"output stack\")\n",
        "print(yb.shape)\n",
        "print(yb)\n"
      ],
      "metadata": {
        "colab": {
          "base_uri": "https://localhost:8080/"
        },
        "id": "7InDEdph-80G",
        "outputId": "245dc793-e358-4b90-ee75-d75537b245b6"
      },
      "execution_count": null,
      "outputs": [
        {
          "output_type": "stream",
          "name": "stdout",
          "text": [
            "input stack\n",
            "torch.Size([4, 8])\n",
            "tensor([[24, 43, 58,  5, 57,  1, 46, 43],\n",
            "        [44, 53, 56,  1, 58, 46, 39, 58],\n",
            "        [52, 58,  1, 58, 46, 39, 58,  1],\n",
            "        [25, 17, 27, 10,  0, 21,  1, 54]])\n",
            "output stack\n",
            "torch.Size([4, 8])\n",
            "tensor([[43, 58,  5, 57,  1, 46, 43, 39],\n",
            "        [53, 56,  1, 58, 46, 39, 58,  1],\n",
            "        [58,  1, 58, 46, 39, 58,  1, 46],\n",
            "        [17, 27, 10,  0, 21,  1, 54, 39]])\n"
          ]
        }
      ]
    },
    {
      "cell_type": "code",
      "source": [
        "for b in range(batch_size):\n",
        "  for t in range(block_size):\n",
        "    context = xb[b][:t+1]\n",
        "    target = yb[b][t]\n",
        "    print(f\"when input is {context.tolist()} the target: {target}\")"
      ],
      "metadata": {
        "colab": {
          "base_uri": "https://localhost:8080/"
        },
        "id": "229PVWnW-8vO",
        "outputId": "fa0034ed-fc40-442a-ae1a-73a6fa5a7324"
      },
      "execution_count": null,
      "outputs": [
        {
          "output_type": "stream",
          "name": "stdout",
          "text": [
            "when input is [24] the target: 43\n",
            "when input is [24, 43] the target: 58\n",
            "when input is [24, 43, 58] the target: 5\n",
            "when input is [24, 43, 58, 5] the target: 57\n",
            "when input is [24, 43, 58, 5, 57] the target: 1\n",
            "when input is [24, 43, 58, 5, 57, 1] the target: 46\n",
            "when input is [24, 43, 58, 5, 57, 1, 46] the target: 43\n",
            "when input is [24, 43, 58, 5, 57, 1, 46, 43] the target: 39\n",
            "when input is [44] the target: 53\n",
            "when input is [44, 53] the target: 56\n",
            "when input is [44, 53, 56] the target: 1\n",
            "when input is [44, 53, 56, 1] the target: 58\n",
            "when input is [44, 53, 56, 1, 58] the target: 46\n",
            "when input is [44, 53, 56, 1, 58, 46] the target: 39\n",
            "when input is [44, 53, 56, 1, 58, 46, 39] the target: 58\n",
            "when input is [44, 53, 56, 1, 58, 46, 39, 58] the target: 1\n",
            "when input is [52] the target: 58\n",
            "when input is [52, 58] the target: 1\n",
            "when input is [52, 58, 1] the target: 58\n",
            "when input is [52, 58, 1, 58] the target: 46\n",
            "when input is [52, 58, 1, 58, 46] the target: 39\n",
            "when input is [52, 58, 1, 58, 46, 39] the target: 58\n",
            "when input is [52, 58, 1, 58, 46, 39, 58] the target: 1\n",
            "when input is [52, 58, 1, 58, 46, 39, 58, 1] the target: 46\n",
            "when input is [25] the target: 17\n",
            "when input is [25, 17] the target: 27\n",
            "when input is [25, 17, 27] the target: 10\n",
            "when input is [25, 17, 27, 10] the target: 0\n",
            "when input is [25, 17, 27, 10, 0] the target: 21\n",
            "when input is [25, 17, 27, 10, 0, 21] the target: 1\n",
            "when input is [25, 17, 27, 10, 0, 21, 1] the target: 54\n",
            "when input is [25, 17, 27, 10, 0, 21, 1, 54] the target: 39\n"
          ]
        }
      ]
    },
    {
      "cell_type": "code",
      "source": [],
      "metadata": {
        "id": "gpcj8nr1gzC5"
      },
      "execution_count": null,
      "outputs": []
    },
    {
      "cell_type": "code",
      "source": [
        "import torch\n",
        "import torch.nn as nn\n",
        "from torch.nn import functional as F\n",
        "torch.manual_seed(1337)\n",
        "\n",
        "class BigramLLM(nn.Module):\n",
        "  def __init__(self,vocab_size):\n",
        "    super().__init__()\n",
        "    self.token_embedding_table = nn.Embedding(vocab_size, vocab_size)\n",
        "\n",
        "  def forward(self, idx, targets=None):\n",
        "    logits = self.token_embedding_table(idx) # (B,T,C)\n",
        "        \n",
        "    if targets is None:\n",
        "        loss = None\n",
        "    else:\n",
        "        B, T, C = logits.shape\n",
        "        logits = logits.view(B*T, C)\n",
        "        targets = targets.view(B*T)\n",
        "        loss = F.cross_entropy(logits, targets)\n",
        "\n",
        "    return logits, loss\n",
        "\n",
        "\n",
        "  def generate(self, idx, max_tokens):\n",
        "    for _ in range(max_tokens):\n",
        "        logits, loss = self(idx)\n",
        "        logits = logits[:,-1,:]\n",
        "        probs = F.softmax(logits, dim=-1)\n",
        "        idx_next = torch.multinomial(probs, num_samples=1)\n",
        "        idx = torch.cat((idx,idx_next), dim=1)\n",
        "    return idx\n",
        "\n",
        "m = BigramLLM(vocab_size)\n",
        "logits, loss = m(xb, yb)\n",
        "print(logits.shape)\n",
        "print(loss)\n",
        "\n",
        "print(decode(m.generate(idx=torch.zeros((2,2),dtype=torch.long),max_tokens=100)[1].tolist()))\n",
        "\n",
        "\n",
        "\n",
        "  "
      ],
      "metadata": {
        "id": "a_jqe2fP-8qu",
        "colab": {
          "base_uri": "https://localhost:8080/"
        },
        "outputId": "c12e6943-b215-4e99-c677-0c76e988892c"
      },
      "execution_count": null,
      "outputs": [
        {
          "output_type": "stream",
          "name": "stdout",
          "text": [
            "torch.Size([32, 65])\n",
            "tensor(4.8786, grad_fn=<NllLossBackward0>)\n",
            "\n",
            "\n",
            "SPTWEM:v&vnnE3Q!$YqpPgiCjMzoi3uLe?O qfYWWV$NFsEsjJ-BfNlNXx\n",
            "xJMLtNA R\n",
            "p$peptlv-I&Q:F.O'\n",
            "GvgC.:qkXenXe\n"
          ]
        }
      ]
    },
    {
      "cell_type": "code",
      "source": [
        "logits[0]"
      ],
      "metadata": {
        "colab": {
          "base_uri": "https://localhost:8080/"
        },
        "id": "HvTBK5LOtbgX",
        "outputId": "bcf198d4-1c6d-444f-9bdf-2ec22f75a6e7"
      },
      "execution_count": null,
      "outputs": [
        {
          "output_type": "execute_result",
          "data": {
            "text/plain": [
              "tensor([-1.5101, -0.0948,  1.0927,  0.1505,  1.6347, -0.0518,  0.4996,  0.7216,\n",
              "        -0.8968, -0.4122,  1.0030,  0.8508,  0.2178,  0.0328, -0.1699,  1.0659,\n",
              "        -0.6177,  1.1824,  0.0214, -0.2154, -1.4623,  2.1707,  0.1624,  1.0296,\n",
              "         0.4154,  0.6207,  0.2341, -0.0326,  1.0124,  1.5122, -0.3359,  0.2456,\n",
              "         1.8682,  0.7536, -0.1177, -0.1967, -0.9552, -0.8995, -0.9583, -0.5945,\n",
              "         0.1321, -0.5406,  0.1405, -0.7321,  1.1796,  1.3316, -0.2094,  0.0960,\n",
              "         0.9040, -0.4032,  0.3027, -0.8034, -1.2537, -1.5195,  0.7446,  1.1914,\n",
              "        -0.8061, -0.6290,  1.2447, -2.4400,  0.8408, -0.3993, -0.6126, -0.6597,\n",
              "         0.7624], grad_fn=<SelectBackward0>)"
            ]
          },
          "metadata": {},
          "execution_count": 58
        }
      ]
    },
    {
      "cell_type": "code",
      "source": [
        "class Bigram(nn.Module):\n",
        "  def __init__(self):\n",
        "    super().__init__()\n",
        "    self.embedding = nn.Embedding(65,100)\n",
        "  def forward(self,idx,targets):\n",
        "    logits = self.embedding(idx)\n",
        "    B,T,C = logits.shape\n",
        "    \n",
        "    return logits\n",
        "  def generate(self,idx,max_new):\n",
        "    for _ in range(max_new):\n",
        "      logits, loss = self(idx)\n",
        "      logits = logits[:,-1,:]\n",
        "      probs = F.softmax(logits,dim=-1)\n",
        "      idx_new = torch.multinomial(probs,num_samples=1)\n",
        "      idx = torch.cat((idx,idx_new),dim=1)\n",
        "    return idx\n"
      ],
      "metadata": {
        "id": "4xDAzgnzg1mK"
      },
      "execution_count": null,
      "outputs": []
    },
    {
      "cell_type": "code",
      "source": [
        "optimizer = torch.optim.AdamW(m.parameters(),lr=1e-3)\n"
      ],
      "metadata": {
        "id": "PXX1NiJA-8l6"
      },
      "execution_count": null,
      "outputs": []
    },
    {
      "cell_type": "code",
      "source": [
        "batch_size = 32\n",
        "for steps in range(10000):\n",
        "  xb, yb = get_batch('train')\n",
        "\n",
        "  logits, loss = m(xb, yb)\n",
        "  optimizer.zero_grad()\n",
        "\n",
        "  loss.backward()\n",
        "  optimizer.step()\n",
        "\n",
        "print(loss.item())"
      ],
      "metadata": {
        "id": "yL2af--x-8hL",
        "colab": {
          "base_uri": "https://localhost:8080/"
        },
        "outputId": "e163372a-d4de-4c77-d0ed-de8eb9db9e2e"
      },
      "execution_count": null,
      "outputs": [
        {
          "output_type": "stream",
          "name": "stdout",
          "text": [
            "4.72035551071167\n"
          ]
        }
      ]
    },
    {
      "cell_type": "code",
      "source": [
        "print(decode(m.generate(idx=torch.zeros((2,2),dtype=torch.long),max_tokens=800)[0].tolist()))\n"
      ],
      "metadata": {
        "id": "d1gkTy7K-8bY",
        "colab": {
          "base_uri": "https://localhost:8080/"
        },
        "outputId": "2dcb5e4c-4780-4f64-b9d2-31a791d81c50"
      },
      "execution_count": null,
      "outputs": [
        {
          "output_type": "stream",
          "name": "stdout",
          "text": [
            "\n",
            "\n",
            "juUzL'L-aX'?OnOb?O&yZW:DWZ!BiGSrzP!LHpJpUVj;lCKtR,!oivmsuSOT'zlDxaZAJB.mgXnXE&virdV;-Kpw,a!Cfiy,usy$sda\n",
            ",lviweErb:vWSPUzER?$EHLTE-UxE3:wlgXg\n",
            "IvL,DnRiD3T'zo?rDqgIgCEXM&;pJRPGySP -wfUckHYqHwfBo,nprIGRFdS'QYgQYF$EQHFoiMDMgQELjKuKIoCmmIoKHxEqUZX:TDCAnMXFDJJ-wZRlg:.jFoZ;;?wOiv$NepWWT't3QyKoDWIWUFfaf'duDM?OiG:3Cj,SqEwkSmysBrVZTNcU$mhXUE\n",
            "rWSb'MgBBTzkzoCttpWebHzPDFu!HAT.RUzCjelx:CJ-O'bSPufFta$Ebd;L,S.yiwNBERjsBQTbmpmIJgBU?q,siHzL,pPhuM?YVSGddl,,db?nlHSGjx&hNjKuCFBGsBcnRwFIg!W:Ph$UNs$FltKUNgjNXGJFZPynQQb?NXUxyhlyZ!cFllgC&q$ px'a!pJXE;.bXdzWdcwNfsCp$GSVXWDA$'q:3a\n",
            "pSUmlapyqpJMXgmJneh$'bIMya?yevNQT:p qevUiRgX:'GJbnSPbnt&zM:pYd qOdbCOiyReYBDqeLgYwpuRLA:tRF;AUIVycLQbQ?qlLw'DIl.suDqYuZVTsE'rDhPuhDM,YKoCDWdwboQUQRT;R?OFktL'dEa!ajFZRJ!mu!zr CHhlHxP!zliOUzrgLjFCJAGf :Vzmcp PvxtWSGMU'q-Mf !Ia!W:pUiHk$JrDnkzw\n"
          ]
        }
      ]
    },
    {
      "cell_type": "code",
      "source": [
        "# consider the following toy example:\n",
        "\n",
        "torch.manual_seed(1337)\n",
        "B,T,C = 4,8,2 # batch, time, channels\n",
        "x = torch.randn(B,T,C)\n",
        "x.shape"
      ],
      "metadata": {
        "colab": {
          "base_uri": "https://localhost:8080/"
        },
        "id": "ID6Id00NY0BV",
        "outputId": "4f737f75-1118-4854-9054-75724c7dcf4c"
      },
      "execution_count": null,
      "outputs": [
        {
          "output_type": "execute_result",
          "data": {
            "text/plain": [
              "torch.Size([4, 8, 2])"
            ]
          },
          "metadata": {},
          "execution_count": 72
        }
      ]
    },
    {
      "cell_type": "code",
      "source": [
        "for b in range(B):\n",
        "  for r in range(T):\n",
        "    x[b][t] = torch.mean(x[b][:t+1],0)"
      ],
      "metadata": {
        "id": "DcFaaEyswTnB"
      },
      "execution_count": null,
      "outputs": []
    },
    {
      "cell_type": "code",
      "source": [
        "# We want x[b,t] = mean_{i<=t} x[b,i]\n",
        "xbow = torch.zeros((B,T,C))\n",
        "for b in range(B):\n",
        "    for t in range(T):\n",
        "        xprev = x[b,:t+1] # (t,C)\n",
        "        xbow[b,t] = torch.mean(xprev, 0)\n"
      ],
      "metadata": {
        "id": "TV3guanp-8Tq"
      },
      "execution_count": null,
      "outputs": []
    },
    {
      "cell_type": "code",
      "source": [
        "# version 2: using matrix multiply for a weighted aggregation\n",
        "wei = torch.tril(torch.ones(T, T))\n",
        "wei = wei / wei.sum(1, keepdim=True)\n",
        "xbow2 = wei @ x # (B, T, T) @ (B, T, C) ----> (B, T, C)\n",
        "torch.allclose(xbow, xbow2)"
      ],
      "metadata": {
        "id": "zOrM6BDU-8N1",
        "colab": {
          "base_uri": "https://localhost:8080/"
        },
        "outputId": "bbbb1a3a-5bd9-4946-d952-7a3573de8775"
      },
      "execution_count": null,
      "outputs": [
        {
          "output_type": "execute_result",
          "data": {
            "text/plain": [
              "True"
            ]
          },
          "metadata": {},
          "execution_count": 74
        }
      ]
    },
    {
      "cell_type": "code",
      "source": [
        "wei = torch.zeros(T,T)\n",
        "tril = torch.tril(torch.ones(T,T))\n",
        "wei = wei.masked_fill(tril==0,float('-inf'))\n",
        "wei = F.softmax(wei,dim=-1)\n",
        "xbox3 = wei @ x\n",
        "torch.allclose(xbox3,xbow2)\n"
      ],
      "metadata": {
        "colab": {
          "base_uri": "https://localhost:8080/"
        },
        "id": "n13gdtEkxqBY",
        "outputId": "3f03e521-cbc0-48bf-a76d-a1f07d646a31"
      },
      "execution_count": null,
      "outputs": [
        {
          "output_type": "execute_result",
          "data": {
            "text/plain": [
              "True"
            ]
          },
          "metadata": {},
          "execution_count": 80
        }
      ]
    },
    {
      "cell_type": "code",
      "source": [],
      "metadata": {
        "id": "3NtAQeM28PMA"
      },
      "execution_count": null,
      "outputs": []
    },
    {
      "cell_type": "code",
      "source": [
        "B,T,C = 4,8,2\n",
        "x = torch.randn(4,8,2)\n",
        "\n",
        "head_size=16\n",
        "\n",
        "key = nn.Linear(C, head_size,bias=False)\n",
        "query = nn.Linear(C, head_size,bias=False)\n",
        "value = nn.Linear(C, head_size,bias=False)\n",
        "k  = key(x)\n",
        "q = query(x)\n",
        "v = value(x)\n",
        "\n",
        "wei = q @ k.transpose(-2,-1) #B,T,T\n",
        "\n",
        "tril = torch.tril(torch.ones(T,T))\n",
        "#wei = torch.zeros((T,T))\n",
        "wei = wei.masked_fill(tril==0,float('-inf'))\n",
        "wei = F.softmax(wei,dim=-1)\n",
        "out = wei @ v\n",
        "out.shape\n"
      ],
      "metadata": {
        "colab": {
          "base_uri": "https://localhost:8080/"
        },
        "id": "KYLDPdET_riP",
        "outputId": "3d698ae3-7e14-45c0-cf6d-c7d258e862cb"
      },
      "execution_count": null,
      "outputs": [
        {
          "output_type": "execute_result",
          "data": {
            "text/plain": [
              "torch.Size([4, 8, 16])"
            ]
          },
          "metadata": {},
          "execution_count": 88
        }
      ]
    },
    {
      "cell_type": "code",
      "source": [
        "class Head(nn.Module):\n",
        "  def __init__(self,head_size,n_embd=64):\n",
        "    super().__init__()\n",
        "    self.key = nn.Linear(n_embd, head_size,bias=False)\n",
        "    self.query = nn.Linear(n_embd, head_size,bias=False)\n",
        "    self.value = nn.Linear(n_embd, head_size,bias=False)\n",
        "    self.register_buffer('tril',torch.tril(torch.ones(block_size,block_size)))\n",
        "  def forward(self,x):\n",
        "    B,T,C = x.shape\n",
        "    k = self.key(x)\n",
        "    q = self.query(x)\n",
        "    v = self.value(x)\n",
        "    \n",
        "\n",
        "    wei = q @ k.transpose(-2,-1)*C**-0.5 #B,T,T\n",
        "\n",
        "    tril = torch.tril(torch.ones(T,T))\n",
        "    #wei = torch.zeros((T,T))\n",
        "    wei = wei.masked_fill(tril==0,float('-inf'))\n",
        "    wei = F.softmax(wei,dim=-1)\n",
        "    out = wei @ v\n",
        "    return out\n",
        "\n",
        "  \n",
        "\n",
        "\n"
      ],
      "metadata": {
        "id": "Nx99Tgt4E9Cj"
      },
      "execution_count": null,
      "outputs": []
    },
    {
      "cell_type": "code",
      "source": [
        "# version 4: self-attention!\n",
        "torch.manual_seed(1337)\n",
        "B,T,C = 4,8,32 # batch, time, channels\n",
        "x = torch.randn(B,T,C)\n",
        "\n",
        "# let's see a single Head perform self-attention\n",
        "head_size = 16\n",
        "key = nn.Linear(C, head_size, bias=False)\n",
        "query = nn.Linear(C, head_size, bias=False)\n",
        "value = nn.Linear(C, head_size, bias=False)\n",
        "k = key(x)   # (B, T, 16)\n",
        "q = query(x) # (B, T, 16)\n",
        "wei =  q @ k.transpose(-2, -1) # (B, T, 16) @ (B, 16, T) ---> (B, T, T)\n",
        "\n",
        "tril = torch.tril(torch.ones(T, T))\n",
        "#wei = torch.zeros((T,T))\n",
        "wei = wei.masked_fill(tril == 0, float('-inf'))\n",
        "wei = F.softmax(wei, dim=-1)\n",
        "\n",
        "v = value(x) #B,T,16\n",
        "out = wei @ v # T,T @ T,16 -> T,16 \n",
        "#out = wei @ x\n",
        "\n",
        "out.shape"
      ],
      "metadata": {
        "colab": {
          "base_uri": "https://localhost:8080/"
        },
        "id": "8vmE9BDahJ84",
        "outputId": "60c404be-8b93-4198-f4b4-7a04ca71ceec"
      },
      "execution_count": null,
      "outputs": [
        {
          "output_type": "execute_result",
          "data": {
            "text/plain": [
              "torch.Size([4, 8, 16])"
            ]
          },
          "metadata": {},
          "execution_count": 92
        }
      ]
    },
    {
      "cell_type": "code",
      "source": [
        "class MultiHead(nn.Module):\n",
        "  def __init__(self,num_heads,head_size):\n",
        "    super().__init__()\n",
        "    self.heads = [Head(head_size) for _ in range(num_heads)]\n",
        "\n",
        "  def forward(self):\n",
        "    return torch.cat([h(x) for h in self.heads],dim=1)"
      ],
      "metadata": {
        "id": "QKZvzLEld6rG"
      },
      "execution_count": null,
      "outputs": []
    },
    {
      "cell_type": "code",
      "source": [
        "import torch\n",
        "import torch.nn as nn\n",
        "from torch.nn import functional as F\n",
        "torch.manual_seed(1337)\n",
        "\n",
        "class Bigram(nn.Module):\n",
        "  def __init__(self,n_embd=64):\n",
        "    super().__init__()\n",
        "    self.token_embedding_table = nn.Embedding(vocab_size, n_embd)\n",
        "    self.positional_encoding  = nn.Embedding(block_size, n_embd)\n",
        "    self.sa_heads = MultiHead(4,n_embd//4) #still (B,T,C) \n",
        "    self.lm_head = nn.Linear(n_embd,vocab_size)\n",
        "\n",
        "  def forward(self, idx, targets=None):\n",
        "    B, T = idx.shape\n",
        "    tok_emb =  self.token_embedding_table(idx) # (B,T,C)\n",
        "    pos_emb = self.positional_encoding(torch.arange(T)) #(T,C)\n",
        "    \n",
        "    x = tok_emb + pos_emb #(B,T,C)\n",
        "    x = self.sa_head(x)  ##B,T,C\n",
        "    logits = self.lm_head(x) #(B,T,vocab_size)\n",
        "\n",
        "    \n",
        "    if targets is None:\n",
        "        loss = None\n",
        "    else:\n",
        "        B, T, C = logits.shape\n",
        "        logits = logits.view(B*T, C)\n",
        "        targets = targets.view(B*T)\n",
        "        loss = F.cross_entropy(logits, targets)\n",
        "\n",
        "    return logits, loss\n",
        "\n",
        "\n",
        "  def generate(self, idx, max_tokens):\n",
        "    for _ in range(max_tokens):\n",
        "        idx_n = idx[:,-block_size]\n",
        "        logits, loss = self(idx_n)\n",
        "        logits = logits[:,-1,:]\n",
        "        probs = F.softmax(logits, dim=-1)\n",
        "        idx_next = torch.multinomial(probs, num_samples=1)\n",
        "        idx = torch.cat((idx,idx_next), dim=1)\n",
        "    return idx\n",
        "\n",
        "m = Bigram(vocab_size)\n",
        "logits, loss = m(xb, yb)\n",
        "print(logits.shape)\n",
        "print(loss)\n",
        "\n",
        "print(decode(m.generate(idx=torch.zeros((1,1),dtype=torch.long),max_tokens=100)[0].tolist()))\n",
        "\n",
        "\n",
        "\n",
        "  "
      ],
      "metadata": {
        "id": "c7fRZ2PZY5HH"
      },
      "execution_count": null,
      "outputs": []
    },
    {
      "cell_type": "code",
      "source": [
        "def scaled_dot_product(q,k,v,mask=None):\n",
        "  d_k = q.size()[-1]\n",
        "  attention_scores = q @ k.transpose(-2,-1)\n",
        "  atten_logits = attention_scores/math.sqrt(d_k)\n",
        "  if mask is not None:\n",
        "    atten_logits = atten_logits.masked_fill(mask==0,float('-inf'))\n",
        "  atten_logits = F.softmax(atten_logits)\n",
        "  values = torch.matmul(atten_logits,v)\n",
        "  return values\n"
      ],
      "metadata": {
        "id": "5UgmhoOUQAcV"
      },
      "execution_count": null,
      "outputs": []
    },
    {
      "cell_type": "code",
      "source": [
        "class MultiHead(nn.Module):\n",
        "  def __init__(self,input_dim,embed_dim,num_heads):\n",
        "    super().__init__()\n",
        "    self.inputdim = input_dim\n",
        "    self.embed_dim = embed_dim\n",
        "    self.head_dim =  embed_dim//num_heads\n",
        "\n",
        "    "
      ],
      "metadata": {
        "id": "S7RoO_55Zm1i"
      },
      "execution_count": null,
      "outputs": []
    }
  ]
}