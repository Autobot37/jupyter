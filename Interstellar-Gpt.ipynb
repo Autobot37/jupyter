{
 "cells": [
  {
   "cell_type": "code",
   "execution_count": 38,
   "id": "b05d5f8e",
   "metadata": {},
   "outputs": [],
   "source": [
    "words = open('interstellar.txt','r').read()"
   ]
  },
  {
   "cell_type": "code",
   "execution_count": 60,
   "id": "14b9722d",
   "metadata": {},
   "outputs": [],
   "source": [
    "words = words.lower()"
   ]
  },
  {
   "cell_type": "code",
   "execution_count": 61,
   "id": "5a0c53be",
   "metadata": {},
   "outputs": [
    {
     "data": {
      "text/plain": [
       "\"ï»¿1\\nwell, my dad was a farmer.\\num, like everybody else back then.\\nof course, he didn't start that w\""
      ]
     },
     "execution_count": 61,
     "metadata": {},
     "output_type": "execute_result"
    }
   ],
   "source": [
    "words[:100]"
   ]
  },
  {
   "cell_type": "code",
   "execution_count": 63,
   "id": "1ae24c06",
   "metadata": {},
   "outputs": [
    {
     "data": {
      "text/plain": [
       "63262"
      ]
     },
     "execution_count": 63,
     "metadata": {},
     "output_type": "execute_result"
    }
   ],
   "source": [
    "words.find(\"don't let me leave\")"
   ]
  },
  {
   "cell_type": "code",
   "execution_count": 64,
   "id": "e54d8ab2",
   "metadata": {},
   "outputs": [
    {
     "data": {
      "text/plain": [
       "\"don't let me leave, murph!\\ndon\""
      ]
     },
     "execution_count": 64,
     "metadata": {},
     "output_type": "execute_result"
    }
   ],
   "source": [
    "words[63262:63262+30]"
   ]
  },
  {
   "cell_type": "code",
   "execution_count": 65,
   "id": "f05fd275",
   "metadata": {},
   "outputs": [],
   "source": [
    "import matplotlib.pyplot as plt\n",
    "chars = sorted(list(set(''.join(words))))"
   ]
  },
  {
   "cell_type": "code",
   "execution_count": 66,
   "id": "6c78feb4",
   "metadata": {},
   "outputs": [
    {
     "name": "stdout",
     "output_type": "stream",
     "text": [
      "['\\n', ' ', '!', '\"', \"'\", ',', '-', '.', '0', '1', '2', '3', '4', '5', '6', '7', '8', '9', ':', '?', 'a', 'b', 'c', 'd', 'e', 'f', 'g', 'h', 'i', 'j', 'k', 'l', 'm', 'n', 'o', 'p', 'q', 'r', 's', 't', 'u', 'v', 'w', 'x', 'y', 'z', '©', '»', '¿', 'ã', 'ï']\n"
     ]
    },
    {
     "data": {
      "text/plain": [
       "51"
      ]
     },
     "execution_count": 66,
     "metadata": {},
     "output_type": "execute_result"
    }
   ],
   "source": [
    "print(chars)\n",
    "len(chars)"
   ]
  },
  {
   "cell_type": "code",
   "execution_count": 67,
   "id": "449fc1c7",
   "metadata": {},
   "outputs": [],
   "source": [
    "vocab_size = len(chars)\n"
   ]
  },
  {
   "cell_type": "code",
   "execution_count": 254,
   "id": "32c9087c",
   "metadata": {},
   "outputs": [],
   "source": [
    "#encoding\n",
    "stoi = {s:i for i,s in enumerate(chars)}\n",
    "itos = {i:s for s,i in stoi.items()}\n"
   ]
  },
  {
   "cell_type": "code",
   "execution_count": 255,
   "id": "f303f334",
   "metadata": {},
   "outputs": [
    {
     "data": {
      "text/plain": [
       "'hi murph'"
      ]
     },
     "execution_count": 255,
     "metadata": {},
     "output_type": "execute_result"
    }
   ],
   "source": [
    "encode = lambda s: [stoi[ch] for ch in s]\n",
    "decode = lambda l: ''.join([itos[s] for s in l])\n",
    "\n",
    "decode(encode(\"hi murph\"))"
   ]
  },
  {
   "cell_type": "code",
   "execution_count": 256,
   "id": "37a5b526",
   "metadata": {},
   "outputs": [],
   "source": [
    "import torch\n",
    "data = torch.tensor(encode(words),dtype=torch.long)\n"
   ]
  },
  {
   "cell_type": "code",
   "execution_count": 257,
   "id": "e1a523e9",
   "metadata": {},
   "outputs": [
    {
     "name": "stdout",
     "output_type": "stream",
     "text": [
      "torch.Size([69581])\n"
     ]
    }
   ],
   "source": [
    "print(data.shape)"
   ]
  },
  {
   "cell_type": "code",
   "execution_count": 258,
   "id": "f26a8930",
   "metadata": {},
   "outputs": [],
   "source": [
    "n = int(0.9*(len(words)))\n",
    "train_data = data[:n]\n",
    "val_data = data[n:]"
   ]
  },
  {
   "cell_type": "code",
   "execution_count": 277,
   "id": "723f6719",
   "metadata": {},
   "outputs": [
    {
     "name": "stdout",
     "output_type": "stream",
     "text": [
      "torch.Size([4, 8])\n",
      "tensor([[35, 24, 22, 39, 38,  0, 20, 37],\n",
      "        [34, 34, 35,  5,  0, 44, 34, 40],\n",
      "        [25, 39,  5,  1, 39, 34,  1, 27],\n",
      "        [24,  1, 42, 20, 44,  7,  0, 35]])\n",
      "torch.Size([4, 8])\n",
      "tensor([[24, 22, 39, 38,  0, 20, 37, 24],\n",
      "        [34, 35,  5,  0, 44, 34, 40,  1],\n",
      "        [39,  5,  1, 39, 34,  1, 27, 24],\n",
      "        [ 1, 42, 20, 44,  7,  0, 35, 31]])\n"
     ]
    }
   ],
   "source": [
    "block_size = 8\n",
    "batch_size = 4\n",
    "\n",
    "def get_batch(split):\n",
    "    data = train_data if split == 'train' else val_data\n",
    "    ix = torch.randint(len(data)-block_size,(batch_size,))\n",
    "    x = torch.stack([data[i:i+block_size] for i in ix])\n",
    "    y = torch.stack([data[i+1:i+block_size+1] for i in ix])\n",
    "    return x, y\n",
    "xb, yb = get_batch('train')\n",
    "print(xb.shape)\n",
    "print(xb)\n",
    "\n",
    "print(yb.shape)\n",
    "print(yb)\n",
    "    "
   ]
  },
  {
   "cell_type": "code",
   "execution_count": null,
   "id": "78899ab9",
   "metadata": {},
   "outputs": [],
   "source": []
  },
  {
   "cell_type": "code",
   "execution_count": 278,
   "id": "35262ba8",
   "metadata": {},
   "outputs": [
    {
     "name": "stdout",
     "output_type": "stream",
     "text": [
      "torch.Size([32, 51])\n",
      "tensor(4.2270, grad_fn=<NllLossBackward0>)\n"
     ]
    }
   ],
   "source": [
    "import torch\n",
    "import torch.nn as nn\n",
    "from torch.nn import functional as F\n",
    "torch.manual_seed(1337)\n",
    "\n",
    "class BigramLLM(torch.nn.Module):\n",
    "    def __init__(self,embd_dims):\n",
    "        super().__init__()\n",
    "        self.embedding = nn.Embedding(vocab_size,embd_dims)\n",
    "        #self.layer = nn.Linear(embd_dims,vocab_size)\n",
    "    def forward(self,x,targets=None): #x = [B,T],targets = [B,T] too\n",
    "        embd = self.embedding(x)#[B,T,C]\n",
    "        #out = self.layer(embd) #[B,T,T]\n",
    "        if targets is None:\n",
    "            loss = None\n",
    "        else:\n",
    "            B,T,C = embd.shape\n",
    "            embd = embd.view(B*T,C)\n",
    "            targets = targets.view(B*T)\n",
    "            loss = F.cross_entropy(embd,targets)\n",
    "        return embd, loss    \n",
    "    \n",
    "    def generate(self,idx,max_new_tokens):\n",
    "        for _ in range(max_new_tokens): ##[B,T]\n",
    "            logits, loss = self(idx)\n",
    "            logits = logits[:,-1,:] #B,C\n",
    "            probs = F.softmax(logits,dim=1) #B,C\n",
    "            idx_next = torch.multinomial(probs,num_samples=1) #B,1\n",
    "            idx = torch.cat((idx,idx_next),dim=1)\n",
    "        return idx\n",
    "    \n",
    "m = BigramLLM(vocab_size)\n",
    "logits, loss = m(xb,yb)\n",
    "print(logits.shape)\n",
    "print(loss)\n",
    "        \n",
    "        \n",
    "        \n",
    "        "
   ]
  },
  {
   "cell_type": "code",
   "execution_count": 279,
   "id": "ccc68f9a",
   "metadata": {},
   "outputs": [
    {
     "data": {
      "text/plain": [
       "torch.Size([1, 8])"
      ]
     },
     "execution_count": 279,
     "metadata": {},
     "output_type": "execute_result"
    }
   ],
   "source": [
    "x = torch.tensor([encode(\"hi murph\")])\n",
    "#x.unsqueeze(dim=1)\n",
    "#x.unsqueeze(dim=0)\n",
    "x.shape"
   ]
  },
  {
   "cell_type": "code",
   "execution_count": 280,
   "id": "55e93c58",
   "metadata": {},
   "outputs": [
    {
     "data": {
      "text/plain": [
       "'hi murphvyzf0sh54!lg05 l\\nï¿\\n1f»72-»r .c55!hz3oztcn1q9!lew4gvykeegy8q»hkujwj9rkzloyosufm8hbi,yhkp2r\\n7o1w1ãscl'"
      ]
     },
     "execution_count": 280,
     "metadata": {},
     "output_type": "execute_result"
    }
   ],
   "source": [
    "decode(m.generate(x,max_new_tokens=100)[0].tolist())"
   ]
  },
  {
   "cell_type": "code",
   "execution_count": 283,
   "id": "36cee437",
   "metadata": {},
   "outputs": [],
   "source": [
    "optimizer = torch.optim.Adam(m.parameters(),lr=1e-3)"
   ]
  },
  {
   "cell_type": "code",
   "execution_count": 285,
   "id": "cb8382a2",
   "metadata": {},
   "outputs": [
    {
     "name": "stdout",
     "output_type": "stream",
     "text": [
      "2.3369948863983154\n"
     ]
    }
   ],
   "source": [
    "batch_size = 32\n",
    "for steps in range(10000):\n",
    "    xb, yb = get_batch('train')\n",
    "    out,loss = m(xb,yb)\n",
    "    optimizer.zero_grad()\n",
    "    loss.backward()\n",
    "    optimizer.step()\n",
    "print(loss.item())\n",
    "    \n"
   ]
  },
  {
   "cell_type": "code",
   "execution_count": 287,
   "id": "fdebc0a4",
   "metadata": {},
   "outputs": [
    {
     "data": {
      "text/plain": [
       "\"hi murphed be, co on y ioule al wefoous\\no f cas e palidayoredos.\\noks bowone.\\nis hink. anerkilit?\\nyolistod ioornitahthen blomery anse ak he. atopepli ph. h.\\nwhominack.\\nisouso pe d.\\n- il adnonecoup in..\\nil whet cthandollis?\\n- theabethe th arkn.\\nare\\ny, ld wh, tory, moon'vok.\\nht\\n- me w whee d whe dilio het.\\nthep.\\na.\\nwe isit anil yow s inemhee drore gexrtin op, onthet sstet beticurakncanest'meathehasth wing dath.\\nhalyo deeent illng,\\nysalore ce 4»fow!\\nrealyof iom- ong we thyeandom isedng byou's w,\\nday in, mea\""
      ]
     },
     "execution_count": 287,
     "metadata": {},
     "output_type": "execute_result"
    }
   ],
   "source": [
    "decode(m.generate(x,max_new_tokens=500)[0].tolist())"
   ]
  },
  {
   "cell_type": "code",
   "execution_count": 288,
   "id": "de1e755c",
   "metadata": {},
   "outputs": [],
   "source": [
    "###attention"
   ]
  },
  {
   "cell_type": "code",
   "execution_count": 302,
   "id": "f31aa271",
   "metadata": {},
   "outputs": [
    {
     "name": "stdout",
     "output_type": "stream",
     "text": [
      "tensor([[6.0000],\n",
      "        [7.0000],\n",
      "        [7.6667]])\n",
      "tensor([[6.],\n",
      "        [8.],\n",
      "        [9.]])\n"
     ]
    }
   ],
   "source": [
    "b = torch.randint(0,10,(3,1)).float()\n",
    "a = torch.tril(torch.ones(3,3))\n",
    "a = a/a.sum(dim=1,keepdim=True)\n",
    "c = a @ b\n",
    "print(c)\n",
    "print(b)\n"
   ]
  },
  {
   "cell_type": "code",
   "execution_count": 309,
   "id": "e0d676a1",
   "metadata": {},
   "outputs": [
    {
     "name": "stdout",
     "output_type": "stream",
     "text": [
      "tensor([[1.0000, 0.0000, 0.0000, 0.0000, 0.0000, 0.0000, 0.0000, 0.0000],\n",
      "        [1.0000, 0.5000, 0.0000, 0.0000, 0.0000, 0.0000, 0.0000, 0.0000],\n",
      "        [1.0000, 0.5000, 0.3333, 0.0000, 0.0000, 0.0000, 0.0000, 0.0000],\n",
      "        [1.0000, 0.5000, 0.3333, 0.2500, 0.0000, 0.0000, 0.0000, 0.0000],\n",
      "        [1.0000, 0.5000, 0.3333, 0.2500, 0.2000, 0.0000, 0.0000, 0.0000],\n",
      "        [1.0000, 0.5000, 0.3333, 0.2500, 0.2000, 0.1667, 0.0000, 0.0000],\n",
      "        [1.0000, 0.5000, 0.3333, 0.2500, 0.2000, 0.1667, 0.1429, 0.0000],\n",
      "        [1.0000, 0.5000, 0.3333, 0.2500, 0.2000, 0.1667, 0.1429, 0.1250]])\n"
     ]
    }
   ],
   "source": [
    "##attention @ B,T,C = B,T,C\n",
    "##ATTENTION = [t,t]\n",
    "B,T,C = 4,8,2\n",
    "x = torch.randn((4,8,2))\n",
    "att = torch.tril(torch.ones(T,T))\n",
    "att = att/att.sum(dim=1)\n",
    "out = att @ x\n",
    "out.shape\n",
    "print(att)\n"
   ]
  },
  {
   "cell_type": "code",
   "execution_count": 313,
   "id": "f202f76b",
   "metadata": {},
   "outputs": [
    {
     "data": {
      "text/plain": [
       "tensor([[1., 0., 0.],\n",
       "        [1., 1., 0.],\n",
       "        [1., 1., 1.]])"
      ]
     },
     "execution_count": 313,
     "metadata": {},
     "output_type": "execute_result"
    }
   ],
   "source": [
    "a = torch.tril(torch.ones(3,3))\n",
    "a"
   ]
  },
  {
   "cell_type": "code",
   "execution_count": 321,
   "id": "1762706e",
   "metadata": {},
   "outputs": [
    {
     "data": {
      "text/plain": [
       "tensor(True)"
      ]
     },
     "execution_count": 321,
     "metadata": {},
     "output_type": "execute_result"
    }
   ],
   "source": [
    "#Attention sfter embedding on  B T C\n",
    "\n",
    "B,T,C=4,8,32\n",
    "\n",
    "x = torch.randn((B,T,C))\n",
    "\n",
    "head_size = 16\n",
    "\n",
    "key = nn.Linear(C,head_size,bias=False)\n",
    "query = nn.Linear(C,head_size,bias=False)\n",
    "value = nn.Linear(C,head_size,bias=False)\n",
    "\n",
    "k = key(x) #b t h\n",
    "q = query(x) #b t h\n",
    "\n",
    "wei =  q @ k.transpose(-2,-1) # b t 16 b 16 t = b t t\n",
    "\n",
    "tril = torch.tril(torch.ones(T,T))\n",
    "wei = wei.masked_fill(tril==0,float('-inf'))\n",
    "wei2 = wei.masked_fill(tril[:T][:T]==0,float('-inf'))\n",
    "\n",
    "wei = F.softmax(wei,dim=-1)\n",
    "wei2 = F.softmax(wei2,dim=-1)\n",
    "v = value(x) # b t h\n",
    "\n",
    "out1 = wei @ v # b t h \n",
    "out2 = wei2 @ v\n",
    "\n",
    "(out2==out1).all()"
   ]
  },
  {
   "cell_type": "code",
   "execution_count": 315,
   "id": "61d32310",
   "metadata": {},
   "outputs": [
    {
     "data": {
      "text/plain": [
       "torch.Size([32, 100])"
      ]
     },
     "execution_count": 315,
     "metadata": {},
     "output_type": "execute_result"
    }
   ],
   "source": [
    "class LayerNorm1d(nn.Module):\n",
    "    def __init__(self,dim,eps=1e-5,momentum=0.1):\n",
    "        super().__init__()\n",
    "        self.eps = eps\n",
    "        self.gamma = torch.ones(dim)\n",
    "        self.beta = torch.zeros(dim)\n",
    "    def forward(self,x):\n",
    "        xmean = x.mean(1,keepdim=True)\n",
    "        xvar = x.var(1,keepdim=True)\n",
    "        xhat = (x-xmean)/torch.sqrt(xvar+self.eps)\n",
    "        self.out = self.gamma*xhat + self.beta\n",
    "        return self.out\n",
    "model = LayerNorm1d(100)\n",
    "x = torch.randn((32,100))\n",
    "model(x).shape\n",
    "        "
   ]
  },
  {
   "cell_type": "code",
   "execution_count": 319,
   "id": "d1a3db4f",
   "metadata": {},
   "outputs": [
    {
     "data": {
      "text/plain": [
       "tensor(True)"
      ]
     },
     "execution_count": 319,
     "metadata": {},
     "output_type": "execute_result"
    }
   ],
   "source": [
    "x = torch.randn((12,100))\n",
    "a  = x.mean(1)\n",
    "a[0] == x[0,:].mean()\n"
   ]
  },
  {
   "cell_type": "code",
   "execution_count": null,
   "id": "97c14750",
   "metadata": {},
   "outputs": [
    {
     "name": "stdout",
     "output_type": "stream",
     "text": [
      "step 100: train loss nan, val loss nan\n",
      "step 200: train loss nan, val loss nan\n",
      "step 300: train loss nan, val loss nan\n",
      "step 400: train loss nan, val loss nan\n",
      "step 500: train loss nan, val loss nan\n",
      "step 600: train loss nan, val loss nan\n",
      "step 700: train loss nan, val loss nan\n",
      "step 800: train loss nan, val loss nan\n",
      "step 900: train loss nan, val loss nan\n",
      "step 1000: train loss nan, val loss nan\n",
      "step 1100: train loss nan, val loss nan\n",
      "step 1200: train loss nan, val loss nan\n",
      "step 1300: train loss nan, val loss nan\n",
      "step 1400: train loss nan, val loss nan\n",
      "step 1500: train loss nan, val loss nan\n",
      "step 1600: train loss nan, val loss nan\n",
      "step 1700: train loss nan, val loss nan\n",
      "step 1800: train loss nan, val loss nan\n",
      "step 1900: train loss nan, val loss nan\n",
      "step 2000: train loss nan, val loss nan\n",
      "step 2100: train loss nan, val loss nan\n",
      "step 2200: train loss nan, val loss nan\n",
      "step 2300: train loss nan, val loss nan\n",
      "step 2400: train loss nan, val loss nan\n",
      "step 2500: train loss nan, val loss nan\n",
      "step 2600: train loss nan, val loss nan\n"
     ]
    }
   ],
   "source": []
  },
  {
   "cell_type": "code",
   "execution_count": 430,
   "id": "905f229e",
   "metadata": {},
   "outputs": [
    {
     "name": "stdout",
     "output_type": "stream",
     "text": [
      "0.814151 M parameters\n",
      "step 0: train loss 4.5189, val loss 4.5159\n",
      "step 100: train loss 2.5067, val loss 2.5601\n",
      "step 200: train loss 2.3618, val loss 2.4195\n",
      "step 300: train loss 2.2149, val loss 2.2706\n",
      "step 400: train loss 2.0944, val loss 2.1350\n",
      "step 500: train loss 1.9943, val loss 2.0170\n",
      "step 600: train loss 1.8891, val loss 1.9501\n",
      "step 700: train loss 1.8330, val loss 1.9113\n",
      "step 800: train loss 1.7832, val loss 1.8471\n",
      "step 900: train loss 1.7246, val loss 1.8286\n",
      "step 1000: train loss 1.6757, val loss 1.8153\n",
      "step 1100: train loss 1.6364, val loss 1.7592\n",
      "step 1200: train loss 1.6001, val loss 1.7766\n",
      "step 1300: train loss 1.5720, val loss 1.7534\n",
      "step 1400: train loss 1.5207, val loss 1.7216\n",
      "step 1500: train loss 1.5088, val loss 1.7345\n",
      "step 1600: train loss 1.4633, val loss 1.7140\n",
      "step 1700: train loss 1.4481, val loss 1.7001\n",
      "step 1800: train loss 1.4248, val loss 1.7046\n",
      "step 1900: train loss 1.3963, val loss 1.7187\n",
      "step 2000: train loss 1.3776, val loss 1.6920\n",
      "step 2100: train loss 1.3484, val loss 1.6913\n",
      "step 2200: train loss 1.3261, val loss 1.6925\n",
      "step 2300: train loss 1.3125, val loss 1.7208\n",
      "step 2400: train loss 1.2758, val loss 1.7184\n",
      "step 2500: train loss 1.2466, val loss 1.7133\n",
      "step 2600: train loss 1.2320, val loss 1.7326\n",
      "step 2700: train loss 1.2126, val loss 1.7297\n",
      "step 2800: train loss 1.1898, val loss 1.7388\n",
      "step 2900: train loss 1.1614, val loss 1.7789\n",
      "step 3000: train loss 1.1617, val loss 1.7774\n",
      "step 3100: train loss 1.1261, val loss 1.7793\n",
      "step 3200: train loss 1.1171, val loss 1.7644\n",
      "step 3300: train loss 1.0917, val loss 1.8081\n",
      "step 3400: train loss 1.0758, val loss 1.8311\n",
      "step 3500: train loss 1.0592, val loss 1.8398\n",
      "step 3600: train loss 1.0331, val loss 1.8359\n",
      "step 3700: train loss 1.0237, val loss 1.8281\n",
      "step 3800: train loss 1.0086, val loss 1.8757\n",
      "step 3900: train loss 0.9827, val loss 1.9139\n",
      "step 4000: train loss 0.9630, val loss 1.8719\n",
      "step 4100: train loss 0.9496, val loss 1.9228\n",
      "step 4200: train loss 0.9363, val loss 1.9556\n",
      "step 4300: train loss 0.9067, val loss 1.9540\n",
      "step 4400: train loss 0.8910, val loss 1.9430\n",
      "step 4500: train loss 0.8931, val loss 1.9680\n",
      "step 4600: train loss 0.8620, val loss 2.0123\n",
      "step 4700: train loss 0.8479, val loss 1.9841\n",
      "step 4800: train loss 0.8356, val loss 2.0364\n",
      "step 4900: train loss 0.8337, val loss 2.0794\n",
      "step 4999: train loss 0.8031, val loss 2.0712\n",
      "\n",
      "or hander to fine...\n",
      "a have some kind of those Kiname take to decide it is back... ye.\n",
      "You need behind in that emaritions.\n",
      "He's maoin engine in that world?\n",
      "He wulteft Edmunds.\n",
      "This is super!\n",
      "How long neart,\n",
      "talked space to deget mean to life...\n",
      "come back...\n",
      "to do byones our tolde me...\n",
      "whever with behavieve...\n",
      "we're gonna cost us data Isged for my life at time...\n",
      "the people to swit for the data this...\n",
      "up only like the Edduute.\n",
      "Cooper?\n",
      "Be not go gentle it off the losed for pilot, you bring gamet to after my soufflé?\n",
      "No. Fuelleyy cominy.\n",
      "What's it.\n",
      "I need exps years our more\n",
      "that can't I know professor.\n",
      "What makes you're getting everything...\n",
      "You're come back.\n",
      "There is a mome futiel?\n",
      "Theire's gets same going more sort up there.\n",
      "Mom what if the bessy to save some speeing for Maybe.\n",
      "But truck swill me passible.\n",
      "I call keep a far extend of the fix.\n",
      "Nes persible.\n",
      "This team me.side as relation\n",
      "the signing a Plan A all this.\n",
      "You all these my for. I go.\n",
      "Then will be lack hole...\n",
      "of My father deeding towards being dastef.\n",
      "Not going before we've a coloplate, he still it you.\n",
      "Do not go gentle into that good night\n",
      "Murph got it for your brother.\n",
      "Murphy is every really you, Doyle?\n",
      "Dad?\n",
      "If kill dowing controp.\n",
      "And that empaterface.\n",
      "Why don't you leaving, you, would I am shave a lot of Dra. At for the fieldead topping intssation.\n",
      "But the people Ratflesmise?\n",
      "With equipment is to dimele tod...\n",
      "because I was be a scafuge thing you're coming up on towards comust stations?\n",
      "it exactly yess mad?\n",
      "Where you doisn't for years.\n",
      "But Murph! Check?\n",
      "You don't belong. Morse.\n",
      "Cheseep,\n",
      "that Edmunds in that right now, not even face?\n",
      "But enday.\n",
      "And that at look don't exactly hard.\n",
      "Every your better prospect.\n",
      "- Is that decision. Boday?\n",
      "And the foundation.\n",
      "Okay. Be will.\n",
      "Do you need for hibe.\n",
      "Do. Formments out take a long would as my fatheoly out of food.\n",
      "I want to trust the most, for.\n",
      "It's really extends beyond on back.\n",
      "He's more fuel,\n",
      "ar followle, Doyle...\n",
      "ttem slewing ever.\n",
      "Nope\n",
      "to with get people on\n"
     ]
    }
   ],
   "source": [
    "import torch\n",
    "import torch.nn as nn\n",
    "from torch.nn import functional as F\n",
    "\n",
    "# hyperparameters\n",
    "batch_size = 16 # how many independent sequences will we process in parallel?\n",
    "block_size = 32 # what is the maximum context length for predictions?\n",
    "max_iters = 5000\n",
    "eval_interval = 100\n",
    "learning_rate = 1e-3\n",
    "device = 'cuda' if torch.cuda.is_available() else 'cpu'\n",
    "eval_iters = 200\n",
    "n_embd = 64*2\n",
    "n_head = 4*2\n",
    "n_layer = 4\n",
    "dropout = 0.0\n",
    "# ------------\n",
    "\n",
    "torch.manual_seed(1337)\n",
    "\n",
    "# wget https://raw.githubusercontent.com/karpathy/char-rnn/master/data/tinyshakespeare/input.txt\n",
    "with open('interstellar.txt', 'r', encoding='utf-8') as f:\n",
    "    text = f.read()\n",
    "\n",
    "# here are all the unique characters that occur in this text\n",
    "chars = sorted(list(set(text)))\n",
    "vocab_size = len(chars)\n",
    "# create a mapping from characters to integers\n",
    "stoi = { ch:i for i,ch in enumerate(chars) }\n",
    "itos = { i:ch for i,ch in enumerate(chars) }\n",
    "encode = lambda s: [stoi[c] for c in s] # encoder: take a string, output a list of integers\n",
    "decode = lambda l: ''.join([itos[i] for i in l]) # decoder: take a list of integers, output a string\n",
    "\n",
    "# Train and test splits\n",
    "data = torch.tensor(encode(text), dtype=torch.long)\n",
    "n = int(0.9*len(data)) # first 90% will be train, rest val\n",
    "train_data = data[:n]\n",
    "val_data = data[n:]\n",
    "\n",
    "# data loading\n",
    "def get_batch(split):\n",
    "    # generate a small batch of data of inputs x and targets y\n",
    "    data = train_data if split == 'train' else val_data\n",
    "    ix = torch.randint(len(data) - block_size, (batch_size,))\n",
    "    x = torch.stack([data[i:i+block_size] for i in ix])\n",
    "    y = torch.stack([data[i+1:i+block_size+1] for i in ix])\n",
    "    x, y = x.to(device), y.to(device)\n",
    "    return x, y\n",
    "\n",
    "@torch.no_grad()\n",
    "def estimate_loss():\n",
    "    out = {}\n",
    "    model.eval()\n",
    "    for split in ['train', 'val']:\n",
    "        losses = torch.zeros(eval_iters)\n",
    "        for k in range(eval_iters):\n",
    "            X, Y = get_batch(split)\n",
    "            logits, loss = model(X, Y)\n",
    "            losses[k] = loss.item()\n",
    "        out[split] = losses.mean()\n",
    "    model.train()\n",
    "    return out\n",
    "\n",
    "class Head(nn.Module):\n",
    "    \"\"\" one head of self-attention \"\"\"\n",
    "\n",
    "    def __init__(self, head_size):\n",
    "        super().__init__()\n",
    "        self.key = nn.Linear(n_embd, head_size, bias=False)\n",
    "        self.query = nn.Linear(n_embd, head_size, bias=False)\n",
    "        self.value = nn.Linear(n_embd, head_size, bias=False)\n",
    "        self.register_buffer('tril', torch.tril(torch.ones(block_size, block_size)))\n",
    "\n",
    "        self.dropout = nn.Dropout(dropout)\n",
    "\n",
    "    def forward(self, x):\n",
    "        B,T,C = x.shape\n",
    "        k = self.key(x)   # (B,T,C)\n",
    "        q = self.query(x) # (B,T,C)\n",
    "        # compute attention scores (\"affinities\")\n",
    "        wei = q @ k.transpose(-2,-1) * C**-0.5 # (B, T, C) @ (B, C, T) -> (B, T, T)\n",
    "        wei = wei.masked_fill(self.tril[:T, :T] == 0, float('-inf')) # (B, T, T)\n",
    "        wei = F.softmax(wei, dim=-1) # (B, T, T)\n",
    "        wei = self.dropout(wei)\n",
    "        # perform the weighted aggregation of the values\n",
    "        v = self.value(x) # (B,T,C)\n",
    "        out = wei @ v # (B, T, T) @ (B, T, C) -> (B, T, C)\n",
    "        return out\n",
    "\n",
    "class MultiHeadAttention(nn.Module):\n",
    "    \"\"\" multiple heads of self-attention in parallel \"\"\"\n",
    "\n",
    "    def __init__(self, num_heads, head_size):\n",
    "        super().__init__()\n",
    "        self.heads = nn.ModuleList([Head(head_size) for _ in range(num_heads)])\n",
    "        self.proj = nn.Linear(n_embd, n_embd)\n",
    "        self.dropout = nn.Dropout(dropout)\n",
    "\n",
    "    def forward(self, x):\n",
    "        out = torch.cat([h(x) for h in self.heads], dim=-1)\n",
    "        out = self.dropout(self.proj(out))\n",
    "        return out\n",
    "\n",
    "class FeedFoward(nn.Module):\n",
    "    \"\"\" a simple linear layer followed by a non-linearity \"\"\"\n",
    "\n",
    "    def __init__(self, n_embd):\n",
    "        super().__init__()\n",
    "        self.net = nn.Sequential(\n",
    "            nn.Linear(n_embd, 4 * n_embd),\n",
    "            nn.ReLU(),\n",
    "            nn.Linear(4 * n_embd, n_embd),\n",
    "            nn.Dropout(dropout),\n",
    "        )\n",
    "\n",
    "    def forward(self, x):\n",
    "        return self.net(x)\n",
    "\n",
    "class Block(nn.Module):\n",
    "    \"\"\" Transformer block: communication followed by computation \"\"\"\n",
    "\n",
    "    def __init__(self, n_embd, n_head):\n",
    "        # n_embd: embedding dimension, n_head: the number of heads we'd like\n",
    "        super().__init__()\n",
    "        head_size = n_embd // n_head\n",
    "        self.sa = MultiHeadAttention(n_head, head_size)\n",
    "        self.ffwd = FeedFoward(n_embd)\n",
    "        self.ln1 = nn.LayerNorm(n_embd)\n",
    "        self.ln2 = nn.LayerNorm(n_embd)\n",
    "\n",
    "    def forward(self, x):\n",
    "        x = x + self.sa(self.ln1(x))\n",
    "        x = x + self.ffwd(self.ln2(x))\n",
    "        return x\n",
    "\n",
    "# super simple bigram model\n",
    "class BigramLanguageModel(nn.Module):\n",
    "\n",
    "    def __init__(self):\n",
    "        super().__init__()\n",
    "        # each token directly reads off the logits for the next token from a lookup table\n",
    "        self.token_embedding_table = nn.Embedding(vocab_size, n_embd)\n",
    "        self.position_embedding_table = nn.Embedding(block_size, n_embd)\n",
    "        self.blocks = nn.Sequential(*[Block(n_embd, n_head=n_head) for _ in range(n_layer)])\n",
    "        self.ln_f = nn.LayerNorm(n_embd) # final layer norm\n",
    "        self.lm_head = nn.Linear(n_embd, vocab_size)\n",
    "\n",
    "    def forward(self, idx, targets=None):\n",
    "        B, T = idx.shape\n",
    "\n",
    "        # idx and targets are both (B,T) tensor of integers\n",
    "        tok_emb = self.token_embedding_table(idx) # (B,T,C)\n",
    "        pos_emb = self.position_embedding_table(torch.arange(T, device=device)) # (T,C)\n",
    "        x = tok_emb + pos_emb # (B,T,C)\n",
    "        x = self.blocks(x) # (B,T,C)\n",
    "        x = self.ln_f(x) # (B,T,C)\n",
    "        logits = self.lm_head(x) # (B,T,vocab_size)\n",
    "\n",
    "        if targets is None:\n",
    "            loss = None\n",
    "        else:\n",
    "            B, T, C = logits.shape\n",
    "            logits = logits.view(B*T, C)\n",
    "            targets = targets.view(B*T)\n",
    "            loss = F.cross_entropy(logits, targets)\n",
    "\n",
    "        return logits, loss\n",
    "\n",
    "    def generate(self, idx, max_new_tokens):\n",
    "        # idx is (B, T) array of indices in the current context\n",
    "        for _ in range(max_new_tokens):\n",
    "            # crop idx to the last block_size tokens\n",
    "            idx_cond = idx[:, -block_size:]\n",
    "            # get the predictions\n",
    "            logits, loss = self(idx_cond)\n",
    "            # focus only on the last time step\n",
    "            logits = logits[:, -1, :] # becomes (B, C)\n",
    "            # apply softmax to get probabilities\n",
    "            probs = F.softmax(logits, dim=-1) # (B, C)\n",
    "            # sample from the distribution\n",
    "            idx_next = torch.multinomial(probs, num_samples=1)\n",
    "           # (B, 1)\n",
    "            # append sampled index to the running sequence\n",
    "            idx = torch.cat((idx, idx_next), dim=1) # (B, T+1)\n",
    "        return idx\n",
    "\n",
    "model = BigramLanguageModel()\n",
    "m = model.to(device)\n",
    "# print the number of parameters in the model\n",
    "print(sum(p.numel() for p in m.parameters())/1e6, 'M parameters')\n",
    "\n",
    "# create a PyTorch optimizer\n",
    "optimizer = torch.optim.AdamW(model.parameters(), lr=learning_rate)\n",
    "\n",
    "for iter in range(max_iters):#\n",
    "\n",
    "    # every once in a while evaluate the loss on train and val sets\n",
    "    if iter % eval_interval == 0 or iter == max_iters - 1:\n",
    "        losses = estimate_loss()\n",
    "        print(f\"step {iter}: train loss {losses['train']:.4f}, val loss {losses['val']:.4f}\")\n",
    "\n",
    "    # sample a batch of data\n",
    "    xb, yb = get_batch('train')\n",
    "\n",
    "    # evaluate the loss\n",
    "    logits, loss = model(xb, yb)\n",
    "    optimizer.zero_grad(set_to_none=True)\n",
    "    loss.backward()\n",
    "    optimizer.step()\n",
    "\n",
    "# generate from the model\n",
    "context = torch.zeros((1, 1), dtype=torch.long, device=device)\n",
    "print(decode(m.generate(context, max_new_tokens=2000)[0].tolist()))\n"
   ]
  },
  {
   "cell_type": "code",
   "execution_count": 431,
   "id": "dda39066",
   "metadata": {},
   "outputs": [
    {
     "name": "stdout",
     "output_type": "stream",
     "text": [
      "Saving model to: models\\01_pytorch_Interstellar_gpt.pth\n"
     ]
    }
   ],
   "source": [
    "from pathlib import Path\n",
    "\n",
    "# 1. Create models directory \n",
    "MODEL_PATH = Path(\"models\")\n",
    "MODEL_PATH.mkdir(parents=True, exist_ok=True)\n",
    "\n",
    "# 2. Create model save path \n",
    "MODEL_NAME = \"01_pytorch_Interstellar_gpt.pth\"\n",
    "MODEL_SAVE_PATH = MODEL_PATH / MODEL_NAME\n",
    "\n",
    "# 3. Save the model state dict \n",
    "print(f\"Saving model to: {MODEL_SAVE_PATH}\")\n",
    "torch.save(obj=model.state_dict(), # only saving the state_dict() only saves the models learned parameters\n",
    "           f=MODEL_SAVE_PATH) "
   ]
  },
  {
   "cell_type": "code",
   "execution_count": null,
   "id": "bb07edf6",
   "metadata": {},
   "outputs": [],
   "source": []
  },
  {
   "cell_type": "code",
   "execution_count": 440,
   "id": "a8421635",
   "metadata": {},
   "outputs": [
    {
     "name": "stdout",
     "output_type": "stream",
     "text": [
      "do not go gentle into that good night  Maype.\n",
      "But who put to you in a messade very.\n",
      "So, it's bad?\n",
      "No, I need for hamp.\n",
      "He a sure could use hibeuy a persock to this is?\n",
      "Deate. Be them.\n",
      "He seement to see at the food.\n",
      "The only thing in hids fuel to visit back forrom the corlice. Any just a fine.\n",
      "All thing in besefore you a makin a back for.\n",
      "When I was this?\n",
      "Dad?\n",
      "It's golad Molles\n",
      "you difter my family,\n",
      "Kuddat something in back.\n",
      "He leave it me.\n",
      "If you leave you left legwn here, Grand?\n",
      "\"We aballed's peable. I was all a Day!\n",
      "The nights afte\n"
     ]
    }
   ],
   "source": [
    "prompt = \"do not go gentle into that good night  \"\n",
    "x = torch.tensor([encode(prompt)])\n",
    "#x.unsqueeze(dim=1)\n",
    "#x.unsqueeze(dim=0)\n",
    "#x.shape\n",
    "print(decode(m.generate(x,max_new_tokens=500)[0].tolist()))"
   ]
  },
  {
   "cell_type": "code",
   "execution_count": null,
   "id": "af9cfaf1",
   "metadata": {},
   "outputs": [],
   "source": []
  },
  {
   "cell_type": "code",
   "execution_count": null,
   "id": "ff982143",
   "metadata": {},
   "outputs": [],
   "source": []
  },
  {
   "cell_type": "code",
   "execution_count": null,
   "id": "fe45829f",
   "metadata": {},
   "outputs": [],
   "source": []
  },
  {
   "cell_type": "code",
   "execution_count": null,
   "id": "b4320f02",
   "metadata": {},
   "outputs": [],
   "source": []
  },
  {
   "cell_type": "code",
   "execution_count": null,
   "id": "5e690456",
   "metadata": {},
   "outputs": [],
   "source": []
  },
  {
   "cell_type": "code",
   "execution_count": null,
   "id": "8b8fc2f8",
   "metadata": {},
   "outputs": [],
   "source": []
  },
  {
   "cell_type": "code",
   "execution_count": null,
   "id": "5355f6df",
   "metadata": {},
   "outputs": [],
   "source": []
  }
 ],
 "metadata": {
  "kernelspec": {
   "display_name": "Python 3 (ipykernel)",
   "language": "python",
   "name": "python3"
  },
  "language_info": {
   "codemirror_mode": {
    "name": "ipython",
    "version": 3
   },
   "file_extension": ".py",
   "mimetype": "text/x-python",
   "name": "python",
   "nbconvert_exporter": "python",
   "pygments_lexer": "ipython3",
   "version": "3.9.13"
  }
 },
 "nbformat": 4,
 "nbformat_minor": 5
}
